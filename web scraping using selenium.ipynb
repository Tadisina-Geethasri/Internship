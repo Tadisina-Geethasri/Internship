{
 "cells": [
  {
   "cell_type": "markdown",
   "id": "b1d41273",
   "metadata": {},
   "source": [
    "# ASSIGNMENT 2"
   ]
  },
  {
   "cell_type": "markdown",
   "id": "3caa6d56",
   "metadata": {},
   "source": [
    "# WEB SCRAPING USING SELENIUM"
   ]
  },
  {
   "cell_type": "markdown",
   "id": "ee4b07e8",
   "metadata": {},
   "source": [
    "Q1: Write a python program to scrape data for “Data Analyst” Job position in “Bangalore” location. You \n",
    "have to scrape the job-title, job-location, company_name, experience_required. You have to scrape first 10 \n",
    "jobs data.\n",
    "This task will be done in following steps:\n",
    "1. First get the webpage https://www.naukri.com/\n",
    "2. Enter “Data Analyst” in “Skill, Designations, Companies” field and enter “Bangalore” in “enter the \n",
    "location” field.\n",
    "3. Then click the searchbutton.\n",
    "4. Then scrape the data for the first 10 jobs results youget.\n",
    "5. Finally create a dataframe of the scraped data."
   ]
  },
  {
   "cell_type": "code",
   "execution_count": 1,
   "id": "48b6b204",
   "metadata": {},
   "outputs": [
    {
     "name": "stdout",
     "output_type": "stream",
     "text": [
      "Requirement already satisfied: selenium in c:\\users\\tadis\\anaconda3\\lib\\site-packages (4.9.1)\n",
      "Requirement already satisfied: trio-websocket~=0.9 in c:\\users\\tadis\\anaconda3\\lib\\site-packages (from selenium) (0.10.2)\n",
      "Requirement already satisfied: trio~=0.17 in c:\\users\\tadis\\anaconda3\\lib\\site-packages (from selenium) (0.22.0)\n",
      "Requirement already satisfied: certifi>=2021.10.8 in c:\\users\\tadis\\anaconda3\\lib\\site-packages (from selenium) (2022.9.14)\n",
      "Requirement already satisfied: urllib3[socks]<3,>=1.26 in c:\\users\\tadis\\anaconda3\\lib\\site-packages (from selenium) (1.26.11)\n",
      "Requirement already satisfied: exceptiongroup>=1.0.0rc9 in c:\\users\\tadis\\anaconda3\\lib\\site-packages (from trio~=0.17->selenium) (1.1.1)\n",
      "Requirement already satisfied: sniffio in c:\\users\\tadis\\anaconda3\\lib\\site-packages (from trio~=0.17->selenium) (1.2.0)\n",
      "Requirement already satisfied: outcome in c:\\users\\tadis\\anaconda3\\lib\\site-packages (from trio~=0.17->selenium) (1.2.0)\n",
      "Requirement already satisfied: async-generator>=1.9 in c:\\users\\tadis\\anaconda3\\lib\\site-packages (from trio~=0.17->selenium) (1.10)\n",
      "Requirement already satisfied: attrs>=19.2.0 in c:\\users\\tadis\\anaconda3\\lib\\site-packages (from trio~=0.17->selenium) (21.4.0)\n",
      "Requirement already satisfied: sortedcontainers in c:\\users\\tadis\\anaconda3\\lib\\site-packages (from trio~=0.17->selenium) (2.4.0)\n",
      "Requirement already satisfied: cffi>=1.14 in c:\\users\\tadis\\anaconda3\\lib\\site-packages (from trio~=0.17->selenium) (1.15.1)\n",
      "Requirement already satisfied: idna in c:\\users\\tadis\\anaconda3\\lib\\site-packages (from trio~=0.17->selenium) (3.3)\n",
      "Requirement already satisfied: wsproto>=0.14 in c:\\users\\tadis\\anaconda3\\lib\\site-packages (from trio-websocket~=0.9->selenium) (1.2.0)\n",
      "Requirement already satisfied: PySocks!=1.5.7,<2.0,>=1.5.6 in c:\\users\\tadis\\anaconda3\\lib\\site-packages (from urllib3[socks]<3,>=1.26->selenium) (1.7.1)\n",
      "Requirement already satisfied: pycparser in c:\\users\\tadis\\anaconda3\\lib\\site-packages (from cffi>=1.14->trio~=0.17->selenium) (2.21)\n",
      "Requirement already satisfied: h11<1,>=0.9.0 in c:\\users\\tadis\\anaconda3\\lib\\site-packages (from wsproto>=0.14->trio-websocket~=0.9->selenium) (0.14.0)\n"
     ]
    }
   ],
   "source": [
    "#installing selenium package\n",
    "!pip install selenium"
   ]
  },
  {
   "cell_type": "code",
   "execution_count": 2,
   "id": "8dac314e",
   "metadata": {},
   "outputs": [],
   "source": [
    "#importing required libraries\n",
    "import selenium\n",
    "import pandas as pd\n",
    "from selenium import webdriver\n",
    "import warnings\n",
    "warnings.filterwarnings('ignore')\n",
    "from selenium.webdriver.common.by import By\n",
    "import time"
   ]
  },
  {
   "cell_type": "code",
   "execution_count": 498,
   "id": "1910e826",
   "metadata": {},
   "outputs": [],
   "source": [
    "#connect to the driver\n",
    "driver = webdriver.Chrome(r\"C:\\Users\\tadis\\OneDrive\\Desktop\\FRT Internship\\chromedriver_win32\\chromedriver.exe\")"
   ]
  },
  {
   "cell_type": "code",
   "execution_count": 501,
   "id": "1729453a",
   "metadata": {},
   "outputs": [],
   "source": [
    "#opening shine webite\n",
    "driver.get(\"https://www.shine.com/\")\n",
    "time.sleep(1)"
   ]
  },
  {
   "cell_type": "code",
   "execution_count": 505,
   "id": "42235b6e",
   "metadata": {},
   "outputs": [],
   "source": [
    "#if any popup after opening shine website\n",
    "pop_up =driver.find_element(By.XPATH,'/html/body/div[1]/div[2]/div/div/button')\n",
    "pop_up.click()\n",
    "time.sleep(3)"
   ]
  },
  {
   "cell_type": "code",
   "execution_count": 507,
   "id": "f9674156",
   "metadata": {},
   "outputs": [],
   "source": [
    "#code lines to open the designation location fields after curser on search bar\n",
    "search = driver.find_element(By.CLASS_NAME,\"searchBarInput\")\n",
    "search.click()"
   ]
  },
  {
   "cell_type": "code",
   "execution_count": 508,
   "id": "fca22afe",
   "metadata": {},
   "outputs": [],
   "source": [
    "# code lines to enter data analyst in the skill field\n",
    "designation = driver.find_element(By.CLASS_NAME,\"form-control  \")\n",
    "designation.send_keys('Data Analyst')"
   ]
  },
  {
   "cell_type": "code",
   "execution_count": 509,
   "id": "82971f75",
   "metadata": {},
   "outputs": [],
   "source": [
    "# code lines to enter bangalore in the location field\n",
    "location = driver.find_element(By.XPATH,\"/html/body/div[1]/div[4]/div/div[2]/div[2]/div/form/div/div[1]/ul/li[2]/div/input\")\n",
    "location.send_keys('Bangalore')"
   ]
  },
  {
   "cell_type": "code",
   "execution_count": 511,
   "id": "ec7d98b8",
   "metadata": {},
   "outputs": [],
   "source": [
    "#after selecting jobs related to data analyst jobs in bangalore \n",
    "search = driver.find_element(By.CLASS_NAME,\"searchForm_btnWrap_advance__VYBHN\")\n",
    "search.click()"
   ]
  },
  {
   "cell_type": "code",
   "execution_count": 514,
   "id": "d2000620",
   "metadata": {},
   "outputs": [],
   "source": [
    "#wait to remove register popup\n",
    "pop_up =driver.find_element(By.XPATH,'/html/body/div[1]/div[1]/div[2]/div/div/button')\n",
    "pop_up.click()"
   ]
  },
  {
   "cell_type": "code",
   "execution_count": 515,
   "id": "7f95a22a",
   "metadata": {},
   "outputs": [],
   "source": [
    "# initializing he variables to empty \n",
    "job_title=[]\n",
    "job_location=[]\n",
    "company_name=[]\n",
    "experience_required=[]"
   ]
  },
  {
   "cell_type": "code",
   "execution_count": 516,
   "id": "0a867272",
   "metadata": {},
   "outputs": [],
   "source": [
    "#scraping data of job_title\n",
    "title_tags = driver.find_elements(By.XPATH,'//h2[@itemprop=\"name\"]')\n",
    "for i in title_tags:\n",
    "    job_title.append(i.text)"
   ]
  },
  {
   "cell_type": "code",
   "execution_count": 517,
   "id": "bcb68cd6",
   "metadata": {},
   "outputs": [
    {
     "name": "stdout",
     "output_type": "stream",
     "text": [
      "20\n"
     ]
    }
   ],
   "source": [
    "print(len(job_title))"
   ]
  },
  {
   "cell_type": "code",
   "execution_count": 518,
   "id": "45ca5623",
   "metadata": {},
   "outputs": [
    {
     "data": {
      "text/plain": [
       "['Data Analyst',\n",
       " 'Data Analyst',\n",
       " 'Data Analyst',\n",
       " 'We have requirement for Data Analyst - Associate 2 - P& ...',\n",
       " 'Data Analyst-Bangalore',\n",
       " 'Cloud/D&A/Microsoft/AI - Data Analyst',\n",
       " 'Endurance Data Analyst',\n",
       " 'Consultant - Data Analyst - Data Analytics',\n",
       " 'We have requirement for Client Data Analyst',\n",
       " 'Urgent Requirement for Reference Data Analyst - Team Le ...',\n",
       " 'Process and Data Analyst',\n",
       " 'Client Data Analyst',\n",
       " 'Invite for Client Data Analyst - Team Leader',\n",
       " 'Ur. hiring Senior Data Analyst - Power BI/DataLake',\n",
       " 'Data Analyst',\n",
       " 'SAS Analyst',\n",
       " 'Quality Data Analyst',\n",
       " 'Clinical Data Analyst',\n",
       " 'Data Analyst- Card Acquisition',\n",
       " 'Reference Data Analyst']"
      ]
     },
     "execution_count": 518,
     "metadata": {},
     "output_type": "execute_result"
    }
   ],
   "source": [
    "job_title"
   ]
  },
  {
   "cell_type": "code",
   "execution_count": 519,
   "id": "ba2d9182",
   "metadata": {},
   "outputs": [],
   "source": [
    "#scraping data of job_location\n",
    "locations = driver.find_elements(By.XPATH,'//div[@class=\" jobCard_jobCard_lists_item__YxRkV jobCard_locationIcon__zrWt2\"]')\n",
    "for i in locations:\n",
    "    job_location.append(i.text)"
   ]
  },
  {
   "cell_type": "code",
   "execution_count": 520,
   "id": "2cb1a3d9",
   "metadata": {},
   "outputs": [
    {
     "name": "stdout",
     "output_type": "stream",
     "text": [
      "20\n"
     ]
    }
   ],
   "source": [
    "print(len(job_location))"
   ]
  },
  {
   "cell_type": "code",
   "execution_count": 521,
   "id": "b958aee8",
   "metadata": {},
   "outputs": [
    {
     "data": {
      "text/plain": [
       "['Bangalore',\n",
       " 'Bangalore',\n",
       " 'Bangalore\\n+1',\n",
       " 'Bangalore',\n",
       " 'Bangalore\\n+1',\n",
       " 'Bangalore',\n",
       " 'Bangalore',\n",
       " 'Bangalore',\n",
       " 'Bangalore',\n",
       " 'Bangalore',\n",
       " 'Bangalore',\n",
       " 'Bangalore',\n",
       " 'Bangalore',\n",
       " 'Bangalore\\n+3',\n",
       " 'Bangalore',\n",
       " 'Bangalore',\n",
       " 'Bangalore',\n",
       " 'Bangalore\\n+4',\n",
       " 'Bangalore',\n",
       " 'Bangalore']"
      ]
     },
     "execution_count": 521,
     "metadata": {},
     "output_type": "execute_result"
    }
   ],
   "source": [
    "job_location"
   ]
  },
  {
   "cell_type": "code",
   "execution_count": 522,
   "id": "a5ba0a3d",
   "metadata": {},
   "outputs": [],
   "source": [
    "#scraping data of company_name\n",
    "com_name = driver.find_elements(By.XPATH,'//div[@class=\"jobCard_jobCard_cName__mYnow\"]')\n",
    "for i in com_name:\n",
    "    company_name.append(i.text)"
   ]
  },
  {
   "cell_type": "code",
   "execution_count": 523,
   "id": "cffbb4b9",
   "metadata": {},
   "outputs": [
    {
     "name": "stdout",
     "output_type": "stream",
     "text": [
      "20\n"
     ]
    }
   ],
   "source": [
    "print(len(company_name))"
   ]
  },
  {
   "cell_type": "code",
   "execution_count": 524,
   "id": "b6676a97",
   "metadata": {},
   "outputs": [
    {
     "data": {
      "text/plain": [
       "['acme services private limited',\n",
       " 'acme services private limited',\n",
       " 'orcapod consulting services pvt. lt...',\n",
       " 'pricewaterhousecoopers (pwc)',\n",
       " 'acura solutions.',\n",
       " 'vega intellisoft private limited',\n",
       " 'mercede',\n",
       " 'pylon management consulting',\n",
       " 'jpmorgan',\n",
       " 'jpmorgan',\n",
       " 'bosch group',\n",
       " 'jpmorgan',\n",
       " 'jpmorgan',\n",
       " 'connectwise',\n",
       " 'diverse lynx',\n",
       " 'cyient limited',\n",
       " 'schneider electric',\n",
       " 'quiscon biotech',\n",
       " 'jpmorgan',\n",
       " 'jpmorgan']"
      ]
     },
     "execution_count": 524,
     "metadata": {},
     "output_type": "execute_result"
    }
   ],
   "source": [
    "company_name"
   ]
  },
  {
   "cell_type": "code",
   "execution_count": 525,
   "id": "430ce631",
   "metadata": {},
   "outputs": [],
   "source": [
    "#scraping data of experience_required\n",
    "exp_req = driver.find_elements(By.XPATH,'//div[@class=\" jobCard_jobCard_lists_item__YxRkV jobCard_jobIcon__3FB1t\"]')\n",
    "for i in exp_req:\n",
    "    experience_required.append(i.text)"
   ]
  },
  {
   "cell_type": "code",
   "execution_count": 526,
   "id": "2b3f6e4c",
   "metadata": {},
   "outputs": [
    {
     "name": "stdout",
     "output_type": "stream",
     "text": [
      "20\n"
     ]
    }
   ],
   "source": [
    "print(len(experience_required))"
   ]
  },
  {
   "cell_type": "code",
   "execution_count": 527,
   "id": "04f80448",
   "metadata": {},
   "outputs": [
    {
     "data": {
      "text/plain": [
       "['2 to 5 Yrs',\n",
       " '2 to 5 Yrs',\n",
       " '2 to 4 Yrs',\n",
       " '4 to 6 Yrs',\n",
       " '4 to 6 Yrs',\n",
       " '4 to 8 Yrs',\n",
       " '1 to 5 Yrs',\n",
       " '4 to 5 Yrs',\n",
       " '5 to 8 Yrs',\n",
       " '2 to 4 Yrs',\n",
       " '3 to 11 Yrs',\n",
       " '5 to 8 Yrs',\n",
       " '3 to 11 Yrs',\n",
       " '4 to 6 Yrs',\n",
       " '5 to 7 Yrs',\n",
       " '2 to 5 Yrs',\n",
       " '5 to 10 Yrs',\n",
       " '0 to 2 Yrs',\n",
       " '2 to 4 Yrs',\n",
       " '3 to 5 Yrs']"
      ]
     },
     "execution_count": 527,
     "metadata": {},
     "output_type": "execute_result"
    }
   ],
   "source": [
    "experience_required"
   ]
  },
  {
   "cell_type": "code",
   "execution_count": 528,
   "id": "e91320e7",
   "metadata": {},
   "outputs": [
    {
     "data": {
      "text/html": [
       "<div>\n",
       "<style scoped>\n",
       "    .dataframe tbody tr th:only-of-type {\n",
       "        vertical-align: middle;\n",
       "    }\n",
       "\n",
       "    .dataframe tbody tr th {\n",
       "        vertical-align: top;\n",
       "    }\n",
       "\n",
       "    .dataframe thead th {\n",
       "        text-align: right;\n",
       "    }\n",
       "</style>\n",
       "<table border=\"1\" class=\"dataframe\">\n",
       "  <thead>\n",
       "    <tr style=\"text-align: right;\">\n",
       "      <th></th>\n",
       "      <th>Job Title</th>\n",
       "      <th>Location</th>\n",
       "      <th>Name of the company</th>\n",
       "      <th>Experience Required</th>\n",
       "    </tr>\n",
       "  </thead>\n",
       "  <tbody>\n",
       "    <tr>\n",
       "      <th>0</th>\n",
       "      <td>Data Analyst</td>\n",
       "      <td>Bangalore</td>\n",
       "      <td>acme services private limited</td>\n",
       "      <td>2 to 5 Yrs</td>\n",
       "    </tr>\n",
       "    <tr>\n",
       "      <th>1</th>\n",
       "      <td>Data Analyst</td>\n",
       "      <td>Bangalore</td>\n",
       "      <td>acme services private limited</td>\n",
       "      <td>2 to 5 Yrs</td>\n",
       "    </tr>\n",
       "    <tr>\n",
       "      <th>2</th>\n",
       "      <td>Data Analyst</td>\n",
       "      <td>Bangalore\\n+1</td>\n",
       "      <td>orcapod consulting services pvt. lt...</td>\n",
       "      <td>2 to 4 Yrs</td>\n",
       "    </tr>\n",
       "    <tr>\n",
       "      <th>3</th>\n",
       "      <td>We have requirement for Data Analyst - Associa...</td>\n",
       "      <td>Bangalore</td>\n",
       "      <td>pricewaterhousecoopers (pwc)</td>\n",
       "      <td>4 to 6 Yrs</td>\n",
       "    </tr>\n",
       "    <tr>\n",
       "      <th>4</th>\n",
       "      <td>Data Analyst-Bangalore</td>\n",
       "      <td>Bangalore\\n+1</td>\n",
       "      <td>acura solutions.</td>\n",
       "      <td>4 to 6 Yrs</td>\n",
       "    </tr>\n",
       "    <tr>\n",
       "      <th>5</th>\n",
       "      <td>Cloud/D&amp;A/Microsoft/AI - Data Analyst</td>\n",
       "      <td>Bangalore</td>\n",
       "      <td>vega intellisoft private limited</td>\n",
       "      <td>4 to 8 Yrs</td>\n",
       "    </tr>\n",
       "    <tr>\n",
       "      <th>6</th>\n",
       "      <td>Endurance Data Analyst</td>\n",
       "      <td>Bangalore</td>\n",
       "      <td>mercede</td>\n",
       "      <td>1 to 5 Yrs</td>\n",
       "    </tr>\n",
       "    <tr>\n",
       "      <th>7</th>\n",
       "      <td>Consultant - Data Analyst - Data Analytics</td>\n",
       "      <td>Bangalore</td>\n",
       "      <td>pylon management consulting</td>\n",
       "      <td>4 to 5 Yrs</td>\n",
       "    </tr>\n",
       "    <tr>\n",
       "      <th>8</th>\n",
       "      <td>We have requirement for Client Data Analyst</td>\n",
       "      <td>Bangalore</td>\n",
       "      <td>jpmorgan</td>\n",
       "      <td>5 to 8 Yrs</td>\n",
       "    </tr>\n",
       "    <tr>\n",
       "      <th>9</th>\n",
       "      <td>Urgent Requirement for Reference Data Analyst ...</td>\n",
       "      <td>Bangalore</td>\n",
       "      <td>jpmorgan</td>\n",
       "      <td>2 to 4 Yrs</td>\n",
       "    </tr>\n",
       "  </tbody>\n",
       "</table>\n",
       "</div>"
      ],
      "text/plain": [
       "                                           Job Title       Location  \\\n",
       "0                                       Data Analyst      Bangalore   \n",
       "1                                       Data Analyst      Bangalore   \n",
       "2                                       Data Analyst  Bangalore\\n+1   \n",
       "3  We have requirement for Data Analyst - Associa...      Bangalore   \n",
       "4                             Data Analyst-Bangalore  Bangalore\\n+1   \n",
       "5              Cloud/D&A/Microsoft/AI - Data Analyst      Bangalore   \n",
       "6                             Endurance Data Analyst      Bangalore   \n",
       "7         Consultant - Data Analyst - Data Analytics      Bangalore   \n",
       "8        We have requirement for Client Data Analyst      Bangalore   \n",
       "9  Urgent Requirement for Reference Data Analyst ...      Bangalore   \n",
       "\n",
       "                      Name of the company Experience Required  \n",
       "0           acme services private limited          2 to 5 Yrs  \n",
       "1           acme services private limited          2 to 5 Yrs  \n",
       "2  orcapod consulting services pvt. lt...          2 to 4 Yrs  \n",
       "3            pricewaterhousecoopers (pwc)          4 to 6 Yrs  \n",
       "4                        acura solutions.          4 to 6 Yrs  \n",
       "5        vega intellisoft private limited          4 to 8 Yrs  \n",
       "6                                 mercede          1 to 5 Yrs  \n",
       "7             pylon management consulting          4 to 5 Yrs  \n",
       "8                                jpmorgan          5 to 8 Yrs  \n",
       "9                                jpmorgan          2 to 4 Yrs  "
      ]
     },
     "execution_count": 528,
     "metadata": {},
     "output_type": "execute_result"
    }
   ],
   "source": [
    "import pandas as pd\n",
    "df = pd.DataFrame({'Job Title': job_title,'Location' :  job_location,'Name of the company' : company_name,'Experience Required' : experience_required})\n",
    "df[0:10]"
   ]
  },
  {
   "cell_type": "markdown",
   "id": "111f4dce",
   "metadata": {},
   "source": [
    "Q2:Write a python program to scrape data for “Data Scientist” Job position in “Bangalore” location. You \n",
    "have to scrape the job-title, job-location, company_name. You have to scrape first 10 jobs data.\n",
    "This task will be done in following steps:\n",
    "1. First get the webpage https://www.naukri.com/\n",
    "2. Enter “Data Scientist” in “Skill, Designations, Companies” field and enter “Bangalore” in “enter the \n",
    "location” field.\n",
    "3. Then click the searchbutton.\n",
    "4. Then scrape the data for the first 10 jobs results youget.\n",
    "5. Finally create a dataframe of the scraped data."
   ]
  },
  {
   "cell_type": "code",
   "execution_count": 474,
   "id": "41a23d7f",
   "metadata": {},
   "outputs": [],
   "source": [
    "#connect to the driver\n",
    "driver = webdriver.Chrome(r\"C:\\Users\\tadis\\OneDrive\\Desktop\\FRT Internship\\chromedriver_win32\\chromedriver.exe\")"
   ]
  },
  {
   "cell_type": "code",
   "execution_count": 475,
   "id": "b171cfec",
   "metadata": {},
   "outputs": [],
   "source": [
    "#opening shine webite\n",
    "driver.get(\"https://www.shine.com/\")\n",
    "time.sleep(1)"
   ]
  },
  {
   "cell_type": "code",
   "execution_count": 479,
   "id": "783787bf",
   "metadata": {},
   "outputs": [],
   "source": [
    "#if any popup after opening shine website\n",
    "pop_up =driver.find_element(By.XPATH,'/html/body/div[1]/div[2]/div/div/button')\n",
    "pop_up.click()\n",
    "time.sleep(3)"
   ]
  },
  {
   "cell_type": "code",
   "execution_count": 481,
   "id": "cd878d64",
   "metadata": {},
   "outputs": [],
   "source": [
    "#code lines to open the designation location fields after curser on search bar\n",
    "search = driver.find_element(By.CLASS_NAME,\"searchBarInput\")\n",
    "search.click()"
   ]
  },
  {
   "cell_type": "code",
   "execution_count": 482,
   "id": "04df9224",
   "metadata": {},
   "outputs": [],
   "source": [
    "# code lines to enter data scientist in the skill field\n",
    "designation1 = driver.find_element(By.CLASS_NAME,\"form-control  \")\n",
    "designation1.send_keys('Data Scientist')"
   ]
  },
  {
   "cell_type": "code",
   "execution_count": 483,
   "id": "ae6c50e9",
   "metadata": {},
   "outputs": [],
   "source": [
    "# code lines to enter bangalore in the location field\n",
    "location1 = driver.find_element(By.XPATH,\"/html/body/div[1]/div[4]/div/div[2]/div[2]/div/form/div/div[1]/ul/li[2]/div/input\")\n",
    "location1.send_keys('Bangalore')"
   ]
  },
  {
   "cell_type": "code",
   "execution_count": 485,
   "id": "d32e31e5",
   "metadata": {},
   "outputs": [],
   "source": [
    "#after selecting jobs related to data scientist jobs in bangalore \n",
    "search = driver.find_element(By.CLASS_NAME,\"searchForm_btnWrap_advance__VYBHN\")\n",
    "search.click()"
   ]
  },
  {
   "cell_type": "code",
   "execution_count": 486,
   "id": "a8d1ba45",
   "metadata": {},
   "outputs": [],
   "source": [
    "# initializing he variables to empty \n",
    "job_title1=[]\n",
    "job_location1=[]\n",
    "company_name1=[]"
   ]
  },
  {
   "cell_type": "code",
   "execution_count": 487,
   "id": "c765fb33",
   "metadata": {},
   "outputs": [],
   "source": [
    "#scraping data of job_title\n",
    "title_tags1 = driver.find_elements(By.XPATH,'//h2[@itemprop=\"name\"]')\n",
    "for i in title_tags1:\n",
    "    job_title1.append(i.text)"
   ]
  },
  {
   "cell_type": "code",
   "execution_count": 488,
   "id": "c1be0146",
   "metadata": {},
   "outputs": [
    {
     "name": "stdout",
     "output_type": "stream",
     "text": [
      "20\n"
     ]
    }
   ],
   "source": [
    "print(len(job_title1))"
   ]
  },
  {
   "cell_type": "code",
   "execution_count": 489,
   "id": "397319cf",
   "metadata": {},
   "outputs": [
    {
     "data": {
      "text/plain": [
       "['Hiring For Data Scientist',\n",
       " 'Data Scientist',\n",
       " 'Data Scientist',\n",
       " 'Data Scientist - (BERT, NLP), Kubeflow (or) ML Ops',\n",
       " 'Data Scientist Senior',\n",
       " 'BGSW Sr Data Scientist Template',\n",
       " 'Urgent applicants for Data Scientist for Battery Domain',\n",
       " 'Data Scientist Architect',\n",
       " 'CCB - Risk Data Scientist - Senior Associate',\n",
       " 'Sr Data scientist',\n",
       " 'Data Scientist - Engineer',\n",
       " 'Cloud/D&A/Microsoft/AI - Data Scientist',\n",
       " 'Data Scientist Sr Associate',\n",
       " 'Wealth Management Data Scientist Associate',\n",
       " 'Applied AI ML Lead - Lead Data Scientist',\n",
       " 'Needy plz join for Senior Consultant/Manager - Data Sci ...',\n",
       " 'For Senior Data Scientist-Reputed IT Industry',\n",
       " 'Recruiting for GCP Data Scientist - Manager',\n",
       " 'for Senior AI Data Scientist',\n",
       " 'Post vacant for- Chief Data Scientist-Reputed IT Indust ...']"
      ]
     },
     "execution_count": 489,
     "metadata": {},
     "output_type": "execute_result"
    }
   ],
   "source": [
    "job_title1"
   ]
  },
  {
   "cell_type": "code",
   "execution_count": 490,
   "id": "f35d1394",
   "metadata": {},
   "outputs": [],
   "source": [
    "#scraping data of job_location\n",
    "locations1 = driver.find_elements(By.XPATH,'//div[@class=\" jobCard_jobCard_lists_item__YxRkV jobCard_locationIcon__zrWt2\"]')\n",
    "for i in locations1:\n",
    "    job_location1.append(i.text)"
   ]
  },
  {
   "cell_type": "code",
   "execution_count": 491,
   "id": "b1448b34",
   "metadata": {},
   "outputs": [
    {
     "name": "stdout",
     "output_type": "stream",
     "text": [
      "20\n"
     ]
    }
   ],
   "source": [
    "print(len(job_location1))"
   ]
  },
  {
   "cell_type": "code",
   "execution_count": 492,
   "id": "b37f8e07",
   "metadata": {},
   "outputs": [
    {
     "data": {
      "text/plain": [
       "['Bangalore\\n+15',\n",
       " 'Bangalore',\n",
       " 'Bangalore',\n",
       " 'Bangalore\\n+7',\n",
       " 'Bangalore',\n",
       " 'Bangalore',\n",
       " 'Bangalore',\n",
       " 'Bangalore',\n",
       " 'Bangalore',\n",
       " 'Bangalore',\n",
       " 'Bangalore',\n",
       " 'Bangalore\\n+1',\n",
       " 'Bangalore',\n",
       " 'Bangalore',\n",
       " 'Bangalore',\n",
       " 'Bangalore',\n",
       " 'Bangalore',\n",
       " 'Bangalore',\n",
       " 'Bangalore',\n",
       " 'Bangalore']"
      ]
     },
     "execution_count": 492,
     "metadata": {},
     "output_type": "execute_result"
    }
   ],
   "source": [
    "job_location1"
   ]
  },
  {
   "cell_type": "code",
   "execution_count": 493,
   "id": "05cf2a49",
   "metadata": {},
   "outputs": [],
   "source": [
    "#scraping data of company_name\n",
    "com_name1 = driver.find_elements(By.XPATH,'//div[@class=\"jobCard_jobCard_cName__mYnow\"]')\n",
    "for i in com_name1:\n",
    "    company_name1.append(i.text)"
   ]
  },
  {
   "cell_type": "code",
   "execution_count": 494,
   "id": "c8e6ed37",
   "metadata": {},
   "outputs": [
    {
     "name": "stdout",
     "output_type": "stream",
     "text": [
      "20\n"
     ]
    }
   ],
   "source": [
    "print(len(company_name1))"
   ]
  },
  {
   "cell_type": "code",
   "execution_count": 495,
   "id": "9f4dacb1",
   "metadata": {},
   "outputs": [
    {
     "data": {
      "text/plain": [
       "['niharika enterprises',\n",
       " 'acme services private limited',\n",
       " 'acme services private limited',\n",
       " 'gfl recruitment private limited',\n",
       " 'fidelity national information servi...',\n",
       " 'bosch group',\n",
       " 'bosch group',\n",
       " 'fidelity national information servi...',\n",
       " 'jpmorgan',\n",
       " 'schneider electric',\n",
       " 'mercede',\n",
       " 'vega intellisoft private limited',\n",
       " 'jpmorgan',\n",
       " 'jpmorgan',\n",
       " 'jpmorgan',\n",
       " 'pylon management consulting',\n",
       " 'seven consultancy',\n",
       " 'pricewaterhousecoopers (pwc)',\n",
       " 'seven consultancy',\n",
       " 'seven consultancy']"
      ]
     },
     "execution_count": 495,
     "metadata": {},
     "output_type": "execute_result"
    }
   ],
   "source": [
    "company_name1"
   ]
  },
  {
   "cell_type": "code",
   "execution_count": 496,
   "id": "4a8cc0fa",
   "metadata": {},
   "outputs": [
    {
     "data": {
      "text/html": [
       "<div>\n",
       "<style scoped>\n",
       "    .dataframe tbody tr th:only-of-type {\n",
       "        vertical-align: middle;\n",
       "    }\n",
       "\n",
       "    .dataframe tbody tr th {\n",
       "        vertical-align: top;\n",
       "    }\n",
       "\n",
       "    .dataframe thead th {\n",
       "        text-align: right;\n",
       "    }\n",
       "</style>\n",
       "<table border=\"1\" class=\"dataframe\">\n",
       "  <thead>\n",
       "    <tr style=\"text-align: right;\">\n",
       "      <th></th>\n",
       "      <th>Job Title</th>\n",
       "      <th>Location</th>\n",
       "      <th>Name of the company</th>\n",
       "    </tr>\n",
       "  </thead>\n",
       "  <tbody>\n",
       "    <tr>\n",
       "      <th>0</th>\n",
       "      <td>Hiring For Data Scientist</td>\n",
       "      <td>Bangalore\\n+15</td>\n",
       "      <td>niharika enterprises</td>\n",
       "    </tr>\n",
       "    <tr>\n",
       "      <th>1</th>\n",
       "      <td>Data Scientist</td>\n",
       "      <td>Bangalore</td>\n",
       "      <td>acme services private limited</td>\n",
       "    </tr>\n",
       "    <tr>\n",
       "      <th>2</th>\n",
       "      <td>Data Scientist</td>\n",
       "      <td>Bangalore</td>\n",
       "      <td>acme services private limited</td>\n",
       "    </tr>\n",
       "    <tr>\n",
       "      <th>3</th>\n",
       "      <td>Data Scientist - (BERT, NLP), Kubeflow (or) ML...</td>\n",
       "      <td>Bangalore\\n+7</td>\n",
       "      <td>gfl recruitment private limited</td>\n",
       "    </tr>\n",
       "    <tr>\n",
       "      <th>4</th>\n",
       "      <td>Data Scientist Senior</td>\n",
       "      <td>Bangalore</td>\n",
       "      <td>fidelity national information servi...</td>\n",
       "    </tr>\n",
       "    <tr>\n",
       "      <th>5</th>\n",
       "      <td>BGSW Sr Data Scientist Template</td>\n",
       "      <td>Bangalore</td>\n",
       "      <td>bosch group</td>\n",
       "    </tr>\n",
       "    <tr>\n",
       "      <th>6</th>\n",
       "      <td>Urgent applicants for Data Scientist for Batte...</td>\n",
       "      <td>Bangalore</td>\n",
       "      <td>bosch group</td>\n",
       "    </tr>\n",
       "    <tr>\n",
       "      <th>7</th>\n",
       "      <td>Data Scientist Architect</td>\n",
       "      <td>Bangalore</td>\n",
       "      <td>fidelity national information servi...</td>\n",
       "    </tr>\n",
       "    <tr>\n",
       "      <th>8</th>\n",
       "      <td>CCB - Risk Data Scientist - Senior Associate</td>\n",
       "      <td>Bangalore</td>\n",
       "      <td>jpmorgan</td>\n",
       "    </tr>\n",
       "    <tr>\n",
       "      <th>9</th>\n",
       "      <td>Sr Data scientist</td>\n",
       "      <td>Bangalore</td>\n",
       "      <td>schneider electric</td>\n",
       "    </tr>\n",
       "  </tbody>\n",
       "</table>\n",
       "</div>"
      ],
      "text/plain": [
       "                                           Job Title        Location  \\\n",
       "0                          Hiring For Data Scientist  Bangalore\\n+15   \n",
       "1                                     Data Scientist       Bangalore   \n",
       "2                                     Data Scientist       Bangalore   \n",
       "3  Data Scientist - (BERT, NLP), Kubeflow (or) ML...   Bangalore\\n+7   \n",
       "4                              Data Scientist Senior       Bangalore   \n",
       "5                    BGSW Sr Data Scientist Template       Bangalore   \n",
       "6  Urgent applicants for Data Scientist for Batte...       Bangalore   \n",
       "7                           Data Scientist Architect       Bangalore   \n",
       "8       CCB - Risk Data Scientist - Senior Associate       Bangalore   \n",
       "9                                  Sr Data scientist       Bangalore   \n",
       "\n",
       "                      Name of the company  \n",
       "0                    niharika enterprises  \n",
       "1           acme services private limited  \n",
       "2           acme services private limited  \n",
       "3         gfl recruitment private limited  \n",
       "4  fidelity national information servi...  \n",
       "5                             bosch group  \n",
       "6                             bosch group  \n",
       "7  fidelity national information servi...  \n",
       "8                                jpmorgan  \n",
       "9                      schneider electric  "
      ]
     },
     "execution_count": 496,
     "metadata": {},
     "output_type": "execute_result"
    }
   ],
   "source": [
    "import pandas as pd\n",
    "df = pd.DataFrame({'Job Title': job_title1,'Location' :  job_location1,'Name of the company' : company_name1})\n",
    "df[0:10]"
   ]
  },
  {
   "cell_type": "markdown",
   "id": "4d78ac9c",
   "metadata": {},
   "source": [
    "Q3: In this question you have to scrape data using the filters available on the webpage as shown below:\n",
    "You have to use the location and salary filter.\n",
    "You have to scrape data for “Data Scientist” designation for first 10 job results.\n",
    "You have to scrape the job-title, job-location, company name, experience required. \n",
    "The location filter to be used is “Delhi/NCR”. The salary filter to be used is “3-6” lakhs\n",
    "The task will be done as shown in the below steps:\n",
    "1. first get thewebpage https://www.naukri.com/\n",
    "2. Enter “Data Scientist” in “Skill, Designations, and Companies” field.\n",
    "3. Then click the searchbutton.\n",
    "4. Then apply the location filter and salary filter by checking the respectiveboxes\n",
    "5. Then scrape the data for the first 10 jobs results youget.\n",
    "6. Finally create a dataframe of the scrapeddata.\n"
   ]
  },
  {
   "cell_type": "code",
   "execution_count": 448,
   "id": "ed7c14e0",
   "metadata": {},
   "outputs": [],
   "source": [
    "#connect to the driver\n",
    "driver=webdriver.Chrome(r\"C:\\Users\\tadis\\OneDrive\\Desktop\\FRT Internship\\chromedriver_win32\\chromedriver.exe\")"
   ]
  },
  {
   "cell_type": "code",
   "execution_count": 449,
   "id": "7d49a3e1",
   "metadata": {},
   "outputs": [],
   "source": [
    "#opening shine webite\n",
    "driver.get(\"https://www.shine.com/\")\n",
    "time.sleep(1)"
   ]
  },
  {
   "cell_type": "code",
   "execution_count": 451,
   "id": "540a2a9f",
   "metadata": {},
   "outputs": [],
   "source": [
    "#if any popup after opening shine website else proceed with following lines of code\n",
    "pop_up =driver.find_element(By.XPATH,'/html/body/div[1]/div[2]/div/div/button')\n",
    "pop_up.click()\n",
    "time.sleep(3)"
   ]
  },
  {
   "cell_type": "code",
   "execution_count": 453,
   "id": "33f9afe9",
   "metadata": {},
   "outputs": [],
   "source": [
    "#code lines to open the designation location fields after curser on search bar\n",
    "search = driver.find_element(By.XPATH,'/html/body/div[1]/header[2]/div[2]/div[1]/input')\n",
    "search.click()"
   ]
  },
  {
   "cell_type": "code",
   "execution_count": 454,
   "id": "a3383a6a",
   "metadata": {},
   "outputs": [],
   "source": [
    "# code lines to selct data scientist as the skill field\n",
    "designation2 = driver.find_element(By.CLASS_NAME,\"form-control  \")\n",
    "designation2.send_keys('Data Scientist')"
   ]
  },
  {
   "cell_type": "code",
   "execution_count": 457,
   "id": "5ab8580d",
   "metadata": {},
   "outputs": [],
   "source": [
    "#after selecting jobs related to data scientist jobs\n",
    "search = driver.find_element(By.CLASS_NAME,\"searchForm_btnWrap_advance__VYBHN\")\n",
    "search.click()"
   ]
  },
  {
   "cell_type": "code",
   "execution_count": 458,
   "id": "9804c622",
   "metadata": {},
   "outputs": [],
   "source": [
    "# code lines to select the location field\n",
    "location2 = driver.find_element(By.XPATH,'/html/body/div[1]/div[1]/div[4]/div/div[1]/div/div[2]/div/ul/li[1]/button')\n",
    "location2.click()"
   ]
  },
  {
   "cell_type": "code",
   "execution_count": 459,
   "id": "56611bac",
   "metadata": {},
   "outputs": [],
   "source": [
    "#code lines to filter location as delhi\n",
    "select_location = driver.find_element(By.XPATH,'/html/body/div[1]/div[1]/div[4]/div/div[1]/div/div[2]/div[2]/div/div/div/div[3]/div/div/div/ul/li[7]/span/label')\n",
    "select_location.click()"
   ]
  },
  {
   "cell_type": "code",
   "execution_count": 460,
   "id": "7c0b8f0f",
   "metadata": {},
   "outputs": [],
   "source": [
    "# code lines to select the salary field\n",
    "salary = driver.find_element(By.XPATH,\"/html/body/div[1]/div[1]/div[4]/div/div[1]/div/div[2]/div[2]/div/div/div/div[3]/div/ul/li[3]\")\n",
    "salary.click()"
   ]
  },
  {
   "cell_type": "code",
   "execution_count": 461,
   "id": "96430475",
   "metadata": {},
   "outputs": [],
   "source": [
    "#code lines tp filter the salary as 3-5\n",
    "select_salary = driver.find_element(By.XPATH,'/html/body/div[1]/div[1]/div[4]/div/div[1]/div/div[2]/div[2]/div/div/div/div[3]/div/div/div/ul/li[3]/span/label')\n",
    "select_salary.click()"
   ]
  },
  {
   "cell_type": "code",
   "execution_count": 462,
   "id": "42270a4a",
   "metadata": {},
   "outputs": [],
   "source": [
    "# to seatch data according to the filter requirements\n",
    "search = driver.find_element(By.XPATH,'/html/body/div[1]/div[1]/div[4]/div/div[1]/div/div[2]/div[2]/div/div/div/div[4]/button[2]')\n",
    "search.click()"
   ]
  },
  {
   "cell_type": "code",
   "execution_count": 463,
   "id": "3709fd09",
   "metadata": {},
   "outputs": [],
   "source": [
    "# initializing he variables to empty \n",
    "job_title2=[]\n",
    "job_location2=[]\n",
    "company_name2=[]\n",
    "experience_required2=[]"
   ]
  },
  {
   "cell_type": "code",
   "execution_count": 464,
   "id": "b1a3453f",
   "metadata": {},
   "outputs": [],
   "source": [
    "#scraping data of job_title\n",
    "title_tags2 = driver.find_elements(By.XPATH,'//h2[@itemprop=\"name\"]')\n",
    "for i in title_tags2:\n",
    "    job_title2.append(i.text)"
   ]
  },
  {
   "cell_type": "code",
   "execution_count": 465,
   "id": "d90ec6a3",
   "metadata": {},
   "outputs": [],
   "source": [
    "#scraping data of job_location\n",
    "locations2 = driver.find_elements(By.XPATH,'//div[@class=\" jobCard_jobCard_lists_item__YxRkV jobCard_locationIcon__zrWt2\"]')\n",
    "for i in locations2:\n",
    "    job_location2.append(i.text)"
   ]
  },
  {
   "cell_type": "code",
   "execution_count": 466,
   "id": "9dadc718",
   "metadata": {},
   "outputs": [],
   "source": [
    "#scraping data of company_name\n",
    "com_name2 = driver.find_elements(By.XPATH,'//div[@class=\"jobCard_jobCard_cName__mYnow\"]')\n",
    "for i in com_name2:\n",
    "    company_name2.append(i.text)"
   ]
  },
  {
   "cell_type": "code",
   "execution_count": 467,
   "id": "648895c1",
   "metadata": {},
   "outputs": [],
   "source": [
    "#scraping data of experience_required\n",
    "exp_req2 = driver.find_elements(By.XPATH,'//div[@class=\" jobCard_jobCard_lists_item__YxRkV jobCard_jobIcon__3FB1t\"]')\n",
    "for i in exp_req2:\n",
    "    experience_required2.append(i.text)"
   ]
  },
  {
   "cell_type": "code",
   "execution_count": 468,
   "id": "3cc2331d",
   "metadata": {},
   "outputs": [
    {
     "name": "stdout",
     "output_type": "stream",
     "text": [
      "20 20 20 20\n"
     ]
    }
   ],
   "source": [
    "print(len(job_title2),len(job_location2),len(company_name2),len(experience_required2))"
   ]
  },
  {
   "cell_type": "code",
   "execution_count": 469,
   "id": "286495f8",
   "metadata": {},
   "outputs": [
    {
     "data": {
      "text/plain": [
       "['Req. For Data Scientist -Reputed Data Analytics Indust ...',\n",
       " 'For Senior Data Scientist-Reputed IT Industry',\n",
       " 'Req. now Data Scientist',\n",
       " 'Req. post for Junior AI Data Scientist-Reputed IT Indu ...',\n",
       " 'Data Scientist',\n",
       " 'Data Scientist',\n",
       " 'Data Scientist',\n",
       " 'Sr Data Scientist',\n",
       " 'Mahindra Comviva - Data Scientist',\n",
       " 'Data Scientist',\n",
       " 'ERP Operator Data Entry Operator-Male for Mayur Vihar P ...',\n",
       " 'Data Scientist - FinTech',\n",
       " 'Azure Data Engineer',\n",
       " 'Data Scientist - FinTech',\n",
       " 'Require for Data Analyst -Reputed IT Industry -Delhi NC ...',\n",
       " 'Require For Senior Data Engineer Manager -Reputed IT I ...',\n",
       " 'Microsave - Assistant Manager - Data & Inovation',\n",
       " 'Req. For Data Analyst-Reputed IT Industry-Delhi NCR',\n",
       " 'Data Engineer',\n",
       " 'Data Science Professional']"
      ]
     },
     "execution_count": 469,
     "metadata": {},
     "output_type": "execute_result"
    }
   ],
   "source": [
    "job_title2"
   ]
  },
  {
   "cell_type": "code",
   "execution_count": 470,
   "id": "2c742875",
   "metadata": {},
   "outputs": [
    {
     "data": {
      "text/plain": [
       "['Delhi',\n",
       " 'Delhi',\n",
       " 'Delhi',\n",
       " 'Delhi',\n",
       " 'Delhi\\n+6',\n",
       " 'Delhi\\n+6',\n",
       " 'Delhi',\n",
       " 'Delhi',\n",
       " 'Delhi\\n+2',\n",
       " 'Delhi',\n",
       " 'Delhi',\n",
       " 'Delhi\\n+1',\n",
       " 'Delhi\\n+1',\n",
       " 'Delhi\\n+1',\n",
       " 'Delhi',\n",
       " 'Delhi',\n",
       " 'Delhi',\n",
       " 'Delhi',\n",
       " 'Delhi',\n",
       " 'Delhi\\n+4']"
      ]
     },
     "execution_count": 470,
     "metadata": {},
     "output_type": "execute_result"
    }
   ],
   "source": [
    "job_location2"
   ]
  },
  {
   "cell_type": "code",
   "execution_count": 471,
   "id": "a787719b",
   "metadata": {},
   "outputs": [
    {
     "data": {
      "text/plain": [
       "['seven consultancy',\n",
       " 'seven consultancy',\n",
       " 'seven consultancy',\n",
       " 'seven consultancy',\n",
       " 'quiscon biotech',\n",
       " 'quiscon biotech',\n",
       " 'srinsoft technologies',\n",
       " 'target corporation india pvt ltd',\n",
       " 'comviva',\n",
       " 'skyleaf consultants',\n",
       " 'farmers trading company',\n",
       " 'hcapital business consulting privat...',\n",
       " 'acme services private limited',\n",
       " 'unnati',\n",
       " 'seven consultancy',\n",
       " 'seven consultancy',\n",
       " 'msc (microsave consulting)',\n",
       " 'seven consultancy',\n",
       " 'arminus',\n",
       " 'mackenzie modern it solutions priva...']"
      ]
     },
     "execution_count": 471,
     "metadata": {},
     "output_type": "execute_result"
    }
   ],
   "source": [
    "company_name2"
   ]
  },
  {
   "cell_type": "code",
   "execution_count": 472,
   "id": "446260b1",
   "metadata": {},
   "outputs": [
    {
     "data": {
      "text/plain": [
       "['2 to 6 Yrs',\n",
       " '4 to 8 Yrs',\n",
       " '3 to 5 Yrs',\n",
       " '1 to 3 Yrs',\n",
       " '0 to 1 Yr',\n",
       " '0 to 3 Yrs',\n",
       " '3 to 5 Yrs',\n",
       " '1 to 4 Yrs',\n",
       " '2 to 5 Yrs',\n",
       " '3 to 6 Yrs',\n",
       " '2 to 7 Yrs',\n",
       " '3 to 12 Yrs',\n",
       " '2 to 7 Yrs',\n",
       " '1 to 2 Yrs',\n",
       " '1 to 3 Yrs',\n",
       " '4 to 8 Yrs',\n",
       " '1 to 3 Yrs',\n",
       " '2 to 4 Yrs',\n",
       " '3 to 5 Yrs',\n",
       " '3 to 7 Yrs']"
      ]
     },
     "execution_count": 472,
     "metadata": {},
     "output_type": "execute_result"
    }
   ],
   "source": [
    "experience_required2"
   ]
  },
  {
   "cell_type": "code",
   "execution_count": 473,
   "id": "98b513d6",
   "metadata": {},
   "outputs": [
    {
     "data": {
      "text/html": [
       "<div>\n",
       "<style scoped>\n",
       "    .dataframe tbody tr th:only-of-type {\n",
       "        vertical-align: middle;\n",
       "    }\n",
       "\n",
       "    .dataframe tbody tr th {\n",
       "        vertical-align: top;\n",
       "    }\n",
       "\n",
       "    .dataframe thead th {\n",
       "        text-align: right;\n",
       "    }\n",
       "</style>\n",
       "<table border=\"1\" class=\"dataframe\">\n",
       "  <thead>\n",
       "    <tr style=\"text-align: right;\">\n",
       "      <th></th>\n",
       "      <th>Job Title</th>\n",
       "      <th>Location</th>\n",
       "      <th>Name of the company</th>\n",
       "      <th>Experience Required</th>\n",
       "    </tr>\n",
       "  </thead>\n",
       "  <tbody>\n",
       "    <tr>\n",
       "      <th>0</th>\n",
       "      <td>Req. For Data Scientist -Reputed Data Analytic...</td>\n",
       "      <td>Delhi</td>\n",
       "      <td>seven consultancy</td>\n",
       "      <td>2 to 6 Yrs</td>\n",
       "    </tr>\n",
       "    <tr>\n",
       "      <th>1</th>\n",
       "      <td>For Senior Data Scientist-Reputed IT Industry</td>\n",
       "      <td>Delhi</td>\n",
       "      <td>seven consultancy</td>\n",
       "      <td>4 to 8 Yrs</td>\n",
       "    </tr>\n",
       "    <tr>\n",
       "      <th>2</th>\n",
       "      <td>Req. now Data Scientist</td>\n",
       "      <td>Delhi</td>\n",
       "      <td>seven consultancy</td>\n",
       "      <td>3 to 5 Yrs</td>\n",
       "    </tr>\n",
       "    <tr>\n",
       "      <th>3</th>\n",
       "      <td>Req. post for Junior AI Data Scientist-Reputed...</td>\n",
       "      <td>Delhi</td>\n",
       "      <td>seven consultancy</td>\n",
       "      <td>1 to 3 Yrs</td>\n",
       "    </tr>\n",
       "    <tr>\n",
       "      <th>4</th>\n",
       "      <td>Data Scientist</td>\n",
       "      <td>Delhi\\n+6</td>\n",
       "      <td>quiscon biotech</td>\n",
       "      <td>0 to 1 Yr</td>\n",
       "    </tr>\n",
       "    <tr>\n",
       "      <th>5</th>\n",
       "      <td>Data Scientist</td>\n",
       "      <td>Delhi\\n+6</td>\n",
       "      <td>quiscon biotech</td>\n",
       "      <td>0 to 3 Yrs</td>\n",
       "    </tr>\n",
       "    <tr>\n",
       "      <th>6</th>\n",
       "      <td>Data Scientist</td>\n",
       "      <td>Delhi</td>\n",
       "      <td>srinsoft technologies</td>\n",
       "      <td>3 to 5 Yrs</td>\n",
       "    </tr>\n",
       "    <tr>\n",
       "      <th>7</th>\n",
       "      <td>Sr Data Scientist</td>\n",
       "      <td>Delhi</td>\n",
       "      <td>target corporation india pvt ltd</td>\n",
       "      <td>1 to 4 Yrs</td>\n",
       "    </tr>\n",
       "    <tr>\n",
       "      <th>8</th>\n",
       "      <td>Mahindra Comviva - Data Scientist</td>\n",
       "      <td>Delhi\\n+2</td>\n",
       "      <td>comviva</td>\n",
       "      <td>2 to 5 Yrs</td>\n",
       "    </tr>\n",
       "    <tr>\n",
       "      <th>9</th>\n",
       "      <td>Data Scientist</td>\n",
       "      <td>Delhi</td>\n",
       "      <td>skyleaf consultants</td>\n",
       "      <td>3 to 6 Yrs</td>\n",
       "    </tr>\n",
       "  </tbody>\n",
       "</table>\n",
       "</div>"
      ],
      "text/plain": [
       "                                           Job Title   Location  \\\n",
       "0  Req. For Data Scientist -Reputed Data Analytic...      Delhi   \n",
       "1      For Senior Data Scientist-Reputed IT Industry      Delhi   \n",
       "2                            Req. now Data Scientist      Delhi   \n",
       "3  Req. post for Junior AI Data Scientist-Reputed...      Delhi   \n",
       "4                                     Data Scientist  Delhi\\n+6   \n",
       "5                                     Data Scientist  Delhi\\n+6   \n",
       "6                                     Data Scientist      Delhi   \n",
       "7                                  Sr Data Scientist      Delhi   \n",
       "8                  Mahindra Comviva - Data Scientist  Delhi\\n+2   \n",
       "9                                     Data Scientist      Delhi   \n",
       "\n",
       "                Name of the company Experience Required  \n",
       "0                 seven consultancy          2 to 6 Yrs  \n",
       "1                 seven consultancy          4 to 8 Yrs  \n",
       "2                 seven consultancy          3 to 5 Yrs  \n",
       "3                 seven consultancy          1 to 3 Yrs  \n",
       "4                   quiscon biotech           0 to 1 Yr  \n",
       "5                   quiscon biotech          0 to 3 Yrs  \n",
       "6             srinsoft technologies          3 to 5 Yrs  \n",
       "7  target corporation india pvt ltd          1 to 4 Yrs  \n",
       "8                           comviva          2 to 5 Yrs  \n",
       "9               skyleaf consultants          3 to 6 Yrs  "
      ]
     },
     "execution_count": 473,
     "metadata": {},
     "output_type": "execute_result"
    }
   ],
   "source": [
    "import pandas as pd\n",
    "df = pd.DataFrame({'Job Title': job_title2,'Location' :  job_location2,'Name of the company' : company_name2,'Experience Required' : experience_required2})\n",
    "df[0:10]"
   ]
  },
  {
   "cell_type": "markdown",
   "id": "f022a09d",
   "metadata": {},
   "source": [
    "Q4: Scrape data of first 100 sunglasses listings on flipkart.com. You have to scrape four attributes:\n",
    "1. Brand\n",
    "2. ProductDescription\n",
    "3. Price\n",
    "The attributes which you have to scrape is ticked marked in the below image.\n"
   ]
  },
  {
   "cell_type": "markdown",
   "id": "d9aaf093",
   "metadata": {},
   "source": [
    "To scrape the data you have to go through following steps:\n",
    "1. Go to Flipkart webpage by url :https://www.flipkart.com/\n",
    "2. Enter “sunglasses” in the search field where “search for products, brands and more” is written and \n",
    "click the search icon\n",
    "3. After that you will reach to the page having a lot of sunglasses. From this page you can scrap the \n",
    "required data asusual.\n",
    "4. After scraping data from the first page, go to the “Next” Button at the bottom other page , then\n",
    "click on it.\n",
    "5. Now scrape data from this page asusual\n",
    "6. Repeat this until you get data for 100sunglasses."
   ]
  },
  {
   "cell_type": "code",
   "execution_count": 437,
   "id": "1b879872",
   "metadata": {},
   "outputs": [],
   "source": [
    "#connecting to webdriver\n",
    "driver=webdriver.Chrome(r\"C:\\Users\\tadis\\OneDrive\\Desktop\\FRT Internship\\chromedriver_win32\\chromedriver.exe\")"
   ]
  },
  {
   "cell_type": "code",
   "execution_count": 438,
   "id": "864a7890",
   "metadata": {},
   "outputs": [],
   "source": [
    "#opening flipkart\n",
    "url=\"https://www.flipkart.com/\"\n",
    "driver.get(url)"
   ]
  },
  {
   "cell_type": "code",
   "execution_count": 439,
   "id": "5b7cda61",
   "metadata": {},
   "outputs": [],
   "source": [
    "#code lines to remove the login pop-up window\n",
    "pop_up =driver.find_element(By.XPATH,'/html/body/div[2]/div/div/button')\n",
    "pop_up.click()"
   ]
  },
  {
   "cell_type": "code",
   "execution_count": 440,
   "id": "90d6d49d",
   "metadata": {},
   "outputs": [],
   "source": [
    "#entering the sunglasses product in search field\n",
    "search_product=driver.find_element(By.CLASS_NAME,\"_3704LK\")\n",
    "search_product.send_keys('sunglasses')"
   ]
  },
  {
   "cell_type": "code",
   "execution_count": 441,
   "id": "d4f63c6e",
   "metadata": {},
   "outputs": [],
   "source": [
    "#searching the sunglasses \n",
    "search = driver.find_element(By.CLASS_NAME,\"_34RNph\")\n",
    "search.click()"
   ]
  },
  {
   "cell_type": "code",
   "execution_count": 442,
   "id": "8547a629",
   "metadata": {},
   "outputs": [],
   "source": [
    "brand = []\n",
    "product_description = []\n",
    "price = []"
   ]
  },
  {
   "cell_type": "code",
   "execution_count": 443,
   "id": "34f4a18c",
   "metadata": {},
   "outputs": [],
   "source": [
    "#scraping brand details\n",
    "start = 0 \n",
    "end = 3\n",
    "for page in range(start,end):\n",
    "    brand_name = driver.find_elements(By.CLASS_NAME,\"_2WkVRV\")\n",
    "    for i in brand_name:\n",
    "        brand.append(i.text)\n",
    "    next_button = driver.find_element(By.XPATH,'//a[@class=\"_1LKTO3\"]')\n",
    "    next_button.click()\n",
    "    time.sleep(3)"
   ]
  },
  {
   "cell_type": "code",
   "execution_count": 444,
   "id": "e2463649",
   "metadata": {},
   "outputs": [],
   "source": [
    "#scraping product descriptions\n",
    "start = 0 \n",
    "end = 3\n",
    "for page in range(start,end):\n",
    "    p_des = driver.find_elements(By.CLASS_NAME,\"IRpwTa\")\n",
    "    for i in p_des:\n",
    "        product_description.append(i.text)\n",
    "    next_button = driver.find_element(By.XPATH,'//a[@class=\"_1LKTO3\"]')\n",
    "    next_button.click()\n",
    "    time.sleep(3)"
   ]
  },
  {
   "cell_type": "code",
   "execution_count": 445,
   "id": "4f050a71",
   "metadata": {},
   "outputs": [],
   "source": [
    "#scraping prices\n",
    "start = 0 \n",
    "end = 3\n",
    "for page in range(start,end):\n",
    "    prices = driver.find_elements(By.XPATH,\"//div[@class='_30jeq3']\")\n",
    "    for i in prices:\n",
    "        price.append(i.text)\n",
    "    next_button = driver.find_element(By.XPATH,'//a[@class=\"_1LKTO3\"]')\n",
    "    next_button.click()\n",
    "    time.sleep(3)"
   ]
  },
  {
   "cell_type": "code",
   "execution_count": 446,
   "id": "a4c0c8d9",
   "metadata": {},
   "outputs": [
    {
     "name": "stdout",
     "output_type": "stream",
     "text": [
      "120 120 120\n"
     ]
    }
   ],
   "source": [
    " print(len(brand),len(product_description),len(price))"
   ]
  },
  {
   "cell_type": "code",
   "execution_count": 447,
   "id": "c5b590c3",
   "metadata": {},
   "outputs": [
    {
     "data": {
      "text/html": [
       "<div>\n",
       "<style scoped>\n",
       "    .dataframe tbody tr th:only-of-type {\n",
       "        vertical-align: middle;\n",
       "    }\n",
       "\n",
       "    .dataframe tbody tr th {\n",
       "        vertical-align: top;\n",
       "    }\n",
       "\n",
       "    .dataframe thead th {\n",
       "        text-align: right;\n",
       "    }\n",
       "</style>\n",
       "<table border=\"1\" class=\"dataframe\">\n",
       "  <thead>\n",
       "    <tr style=\"text-align: right;\">\n",
       "      <th></th>\n",
       "      <th>Brand</th>\n",
       "      <th>Product Description</th>\n",
       "      <th>Price</th>\n",
       "    </tr>\n",
       "  </thead>\n",
       "  <tbody>\n",
       "    <tr>\n",
       "      <th>0</th>\n",
       "      <td>OAKLEY</td>\n",
       "      <td>Others Cat-eye, Retro Square, Wayfarer Sunglas...</td>\n",
       "      <td>₹249</td>\n",
       "    </tr>\n",
       "    <tr>\n",
       "      <th>1</th>\n",
       "      <td>ROZZETTA CRAFT</td>\n",
       "      <td>Gradient, UV Protection Wayfarer Sunglasses (F...</td>\n",
       "      <td>₹236</td>\n",
       "    </tr>\n",
       "    <tr>\n",
       "      <th>2</th>\n",
       "      <td>Fastrack</td>\n",
       "      <td>UV Protection, Polarized Wayfarer Sunglasses (...</td>\n",
       "      <td>₹499</td>\n",
       "    </tr>\n",
       "    <tr>\n",
       "      <th>3</th>\n",
       "      <td>SRPM</td>\n",
       "      <td>UV Protection Wayfarer Sunglasses (Free Size)</td>\n",
       "      <td>₹216</td>\n",
       "    </tr>\n",
       "    <tr>\n",
       "      <th>4</th>\n",
       "      <td>Elligator</td>\n",
       "      <td>Polarized Wayfarer Sunglasses (55)</td>\n",
       "      <td>₹239</td>\n",
       "    </tr>\n",
       "    <tr>\n",
       "      <th>...</th>\n",
       "      <td>...</td>\n",
       "      <td>...</td>\n",
       "      <td>...</td>\n",
       "    </tr>\n",
       "    <tr>\n",
       "      <th>95</th>\n",
       "      <td>Fastrack</td>\n",
       "      <td>by Lenskart Polarized, UV Protection Wayfarer ...</td>\n",
       "      <td>₹551</td>\n",
       "    </tr>\n",
       "    <tr>\n",
       "      <th>96</th>\n",
       "      <td>Fastrack</td>\n",
       "      <td>Gradient, UV Protection Wayfarer Sunglasses (F...</td>\n",
       "      <td>₹919</td>\n",
       "    </tr>\n",
       "    <tr>\n",
       "      <th>97</th>\n",
       "      <td>Fastrack</td>\n",
       "      <td>UV Protection, Polarized Wayfarer Sunglasses (...</td>\n",
       "      <td>₹149</td>\n",
       "    </tr>\n",
       "    <tr>\n",
       "      <th>98</th>\n",
       "      <td>Fastrack</td>\n",
       "      <td>Polarized Wayfarer Sunglasses (55)</td>\n",
       "      <td>₹214</td>\n",
       "    </tr>\n",
       "    <tr>\n",
       "      <th>99</th>\n",
       "      <td>like future</td>\n",
       "      <td>UV Protection Rectangular, Retro Square Sungla...</td>\n",
       "      <td>₹598</td>\n",
       "    </tr>\n",
       "  </tbody>\n",
       "</table>\n",
       "<p>100 rows × 3 columns</p>\n",
       "</div>"
      ],
      "text/plain": [
       "             Brand                                Product Description Price\n",
       "0           OAKLEY  Others Cat-eye, Retro Square, Wayfarer Sunglas...  ₹249\n",
       "1   ROZZETTA CRAFT  Gradient, UV Protection Wayfarer Sunglasses (F...  ₹236\n",
       "2         Fastrack  UV Protection, Polarized Wayfarer Sunglasses (...  ₹499\n",
       "3             SRPM      UV Protection Wayfarer Sunglasses (Free Size)  ₹216\n",
       "4        Elligator                 Polarized Wayfarer Sunglasses (55)  ₹239\n",
       "..             ...                                                ...   ...\n",
       "95        Fastrack  by Lenskart Polarized, UV Protection Wayfarer ...  ₹551\n",
       "96        Fastrack  Gradient, UV Protection Wayfarer Sunglasses (F...  ₹919\n",
       "97        Fastrack  UV Protection, Polarized Wayfarer Sunglasses (...  ₹149\n",
       "98        Fastrack                 Polarized Wayfarer Sunglasses (55)  ₹214\n",
       "99     like future  UV Protection Rectangular, Retro Square Sungla...  ₹598\n",
       "\n",
       "[100 rows x 3 columns]"
      ]
     },
     "execution_count": 447,
     "metadata": {},
     "output_type": "execute_result"
    }
   ],
   "source": [
    "import pandas as pd\n",
    "df = pd.DataFrame({'Brand': brand,'Product Description' : product_description,'Price' : price})\n",
    "df[0:100]"
   ]
  },
  {
   "cell_type": "markdown",
   "id": "82be13e5",
   "metadata": {},
   "source": [
    "Q5: Scrape 100 reviews data from flipkart.com for iphone11 phone. You have to go the link: \n",
    "https://www.flipkart.com/apple-iphone-11-black-64-gb/product\u0002reviews/itm4e5041ba101fd?pid=MOBFWQ6BXGJCEYNY&lid=LSTMOBFWQ6BXGJCEYNYZXSHRJ&market\n",
    "place=FLIPKART"
   ]
  },
  {
   "cell_type": "markdown",
   "id": "189bc796",
   "metadata": {},
   "source": [
    "As shown in the above page you have to scrape the tick marked attributes. These are:\n",
    "1. Rating\n",
    "2. Review summary\n",
    "3. Full review\n",
    "4. You have to scrape this data for first 100reviews."
   ]
  },
  {
   "cell_type": "code",
   "execution_count": 409,
   "id": "1844a709",
   "metadata": {},
   "outputs": [],
   "source": [
    "#connecting to webdriver\n",
    "driver=webdriver.Chrome(r\"C:\\Users\\tadis\\OneDrive\\Desktop\\FRT Internship\\chromedriver_win32\\chromedriver.exe\")"
   ]
  },
  {
   "cell_type": "code",
   "execution_count": 410,
   "id": "7acd113b",
   "metadata": {},
   "outputs": [],
   "source": [
    "url1=\"https://www.flipkart.com/apple-iphone-11-black-64-gb/product-reviews/itm4e5041ba101fd?pid=MOBFWQ6BXGJCEYNY&lid=LSTMOBFWQ6BXGJCEYNYZXSHRJ&marketplace=FLIPKART\"\n",
    "driver.get(url1)"
   ]
  },
  {
   "cell_type": "code",
   "execution_count": 411,
   "id": "1f3b2c01",
   "metadata": {},
   "outputs": [],
   "source": [
    "rating = []\n",
    "review_summary = []\n",
    "full_review = []"
   ]
  },
  {
   "cell_type": "code",
   "execution_count": 412,
   "id": "c98e8efa",
   "metadata": {},
   "outputs": [],
   "source": [
    "#code lines to print 100 ratings of iphone\n",
    "start = 0\n",
    "end = 10\n",
    "for page  in range(start,end):\n",
    "    rate = driver.find_elements(By.XPATH,\"//div[@class='_3LWZlK _1BLPMq']\")\n",
    "    for i in rate:\n",
    "        rating.append(i.text)\n",
    "    next_button = driver.find_element(By.CLASS_NAME,\"_1LKTO3\")\n",
    "    next_button.click()\n",
    "    time.sleep(2)"
   ]
  },
  {
   "cell_type": "code",
   "execution_count": 413,
   "id": "6a380a3a",
   "metadata": {},
   "outputs": [
    {
     "name": "stdout",
     "output_type": "stream",
     "text": [
      "100\n"
     ]
    }
   ],
   "source": [
    "print(len(rating))"
   ]
  },
  {
   "cell_type": "code",
   "execution_count": 414,
   "id": "6ec68a81",
   "metadata": {},
   "outputs": [
    {
     "data": {
      "text/plain": [
       "['5',\n",
       " '5',\n",
       " '5',\n",
       " '4',\n",
       " '5',\n",
       " '5',\n",
       " '4',\n",
       " '5',\n",
       " '5',\n",
       " '5',\n",
       " '5',\n",
       " '5',\n",
       " '5',\n",
       " '5',\n",
       " '4',\n",
       " '5',\n",
       " '5',\n",
       " '5',\n",
       " '4',\n",
       " '5',\n",
       " '5',\n",
       " '5',\n",
       " '5',\n",
       " '4',\n",
       " '5',\n",
       " '5',\n",
       " '4',\n",
       " '5',\n",
       " '5',\n",
       " '5',\n",
       " '5',\n",
       " '5',\n",
       " '5',\n",
       " '5',\n",
       " '4',\n",
       " '5',\n",
       " '5',\n",
       " '5',\n",
       " '4',\n",
       " '5',\n",
       " '5',\n",
       " '5',\n",
       " '5',\n",
       " '4',\n",
       " '5',\n",
       " '5',\n",
       " '4',\n",
       " '5',\n",
       " '5',\n",
       " '5',\n",
       " '5',\n",
       " '5',\n",
       " '5',\n",
       " '5',\n",
       " '4',\n",
       " '5',\n",
       " '5',\n",
       " '5',\n",
       " '4',\n",
       " '5',\n",
       " '5',\n",
       " '5',\n",
       " '5',\n",
       " '4',\n",
       " '5',\n",
       " '5',\n",
       " '4',\n",
       " '5',\n",
       " '5',\n",
       " '5',\n",
       " '5',\n",
       " '5',\n",
       " '5',\n",
       " '5',\n",
       " '4',\n",
       " '5',\n",
       " '5',\n",
       " '5',\n",
       " '4',\n",
       " '5',\n",
       " '5',\n",
       " '5',\n",
       " '5',\n",
       " '4',\n",
       " '5',\n",
       " '5',\n",
       " '4',\n",
       " '5',\n",
       " '5',\n",
       " '5',\n",
       " '5',\n",
       " '5',\n",
       " '5',\n",
       " '5',\n",
       " '4',\n",
       " '5',\n",
       " '5',\n",
       " '5',\n",
       " '4',\n",
       " '5']"
      ]
     },
     "execution_count": 414,
     "metadata": {},
     "output_type": "execute_result"
    }
   ],
   "source": [
    "rating"
   ]
  },
  {
   "cell_type": "code",
   "execution_count": 415,
   "id": "edacdd30",
   "metadata": {},
   "outputs": [],
   "source": [
    "#code lines to print 100 review summary of iphone\n",
    "start = 0\n",
    "end = 10\n",
    "for page  in range(start,end):\n",
    "    review_sum = driver.find_elements(By.XPATH,\"//p[@class='_2-N8zT']\")\n",
    "    for i in review_sum:\n",
    "        review_summary.append(i.text)\n",
    "    next_button = driver.find_element(By.CLASS_NAME,\"_1LKTO3\")\n",
    "    next_button.click()\n",
    "    time.sleep(2)"
   ]
  },
  {
   "cell_type": "code",
   "execution_count": 416,
   "id": "cf1a427a",
   "metadata": {},
   "outputs": [
    {
     "name": "stdout",
     "output_type": "stream",
     "text": [
      "100\n"
     ]
    }
   ],
   "source": [
    "print(len(review_summary))"
   ]
  },
  {
   "cell_type": "code",
   "execution_count": 417,
   "id": "50bc567c",
   "metadata": {},
   "outputs": [
    {
     "data": {
      "text/plain": [
       "['Simply awesome',\n",
       " 'Perfect product!',\n",
       " 'Best in the market!',\n",
       " 'Value-for-money',\n",
       " 'Highly recommended',\n",
       " 'Worth every penny',\n",
       " 'Pretty good',\n",
       " 'Perfect product!',\n",
       " 'Highly recommended',\n",
       " 'Great product',\n",
       " 'Fabulous!',\n",
       " 'Classy product',\n",
       " 'Worth every penny',\n",
       " 'Perfect product!',\n",
       " 'Good choice',\n",
       " 'Perfect product!',\n",
       " 'Highly recommended',\n",
       " 'Highly recommended',\n",
       " 'Value-for-money',\n",
       " 'Perfect product!',\n",
       " 'Simply awesome',\n",
       " 'Perfect product!',\n",
       " 'Best in the market!',\n",
       " 'Value-for-money',\n",
       " 'Highly recommended',\n",
       " 'Worth every penny',\n",
       " 'Pretty good',\n",
       " 'Perfect product!',\n",
       " 'Highly recommended',\n",
       " 'Great product',\n",
       " 'Fabulous!',\n",
       " 'Classy product',\n",
       " 'Worth every penny',\n",
       " 'Perfect product!',\n",
       " 'Good choice',\n",
       " 'Perfect product!',\n",
       " 'Highly recommended',\n",
       " 'Highly recommended',\n",
       " 'Value-for-money',\n",
       " 'Perfect product!',\n",
       " 'Simply awesome',\n",
       " 'Perfect product!',\n",
       " 'Best in the market!',\n",
       " 'Value-for-money',\n",
       " 'Highly recommended',\n",
       " 'Worth every penny',\n",
       " 'Pretty good',\n",
       " 'Perfect product!',\n",
       " 'Highly recommended',\n",
       " 'Great product',\n",
       " 'Fabulous!',\n",
       " 'Classy product',\n",
       " 'Worth every penny',\n",
       " 'Perfect product!',\n",
       " 'Good choice',\n",
       " 'Perfect product!',\n",
       " 'Highly recommended',\n",
       " 'Highly recommended',\n",
       " 'Value-for-money',\n",
       " 'Perfect product!',\n",
       " 'Simply awesome',\n",
       " 'Perfect product!',\n",
       " 'Best in the market!',\n",
       " 'Value-for-money',\n",
       " 'Highly recommended',\n",
       " 'Worth every penny',\n",
       " 'Pretty good',\n",
       " 'Perfect product!',\n",
       " 'Highly recommended',\n",
       " 'Great product',\n",
       " 'Fabulous!',\n",
       " 'Classy product',\n",
       " 'Worth every penny',\n",
       " 'Perfect product!',\n",
       " 'Good choice',\n",
       " 'Perfect product!',\n",
       " 'Highly recommended',\n",
       " 'Highly recommended',\n",
       " 'Value-for-money',\n",
       " 'Perfect product!',\n",
       " 'Simply awesome',\n",
       " 'Perfect product!',\n",
       " 'Best in the market!',\n",
       " 'Value-for-money',\n",
       " 'Highly recommended',\n",
       " 'Worth every penny',\n",
       " 'Pretty good',\n",
       " 'Perfect product!',\n",
       " 'Highly recommended',\n",
       " 'Great product',\n",
       " 'Fabulous!',\n",
       " 'Classy product',\n",
       " 'Worth every penny',\n",
       " 'Perfect product!',\n",
       " 'Good choice',\n",
       " 'Perfect product!',\n",
       " 'Highly recommended',\n",
       " 'Highly recommended',\n",
       " 'Value-for-money',\n",
       " 'Perfect product!']"
      ]
     },
     "execution_count": 417,
     "metadata": {},
     "output_type": "execute_result"
    }
   ],
   "source": [
    "review_summary"
   ]
  },
  {
   "cell_type": "code",
   "execution_count": 421,
   "id": "8314c1c3",
   "metadata": {},
   "outputs": [],
   "source": [
    "# code lines to print 100 full_reviews of iphone\n",
    "start = 0\n",
    "end = 10\n",
    "for page  in range(start,end):\n",
    "    full_rev = driver.find_elements(By.XPATH,\"//div[@class='t-ZTKy']\")\n",
    "    for i in full_rev:\n",
    "        full_review.append(i.text)\n",
    "    next_button = driver.find_element(By.CLASS_NAME,\"_1LKTO3\")\n",
    "    next_button.click()\n",
    "    time.sleep(2)"
   ]
  },
  {
   "cell_type": "code",
   "execution_count": 422,
   "id": "003ced90",
   "metadata": {},
   "outputs": [
    {
     "name": "stdout",
     "output_type": "stream",
     "text": [
      "100\n"
     ]
    }
   ],
   "source": [
    "print(len(full_review))"
   ]
  },
  {
   "cell_type": "code",
   "execution_count": 423,
   "id": "e6a0ab58",
   "metadata": {},
   "outputs": [
    {
     "data": {
      "text/plain": [
       "['Really satisfied with the Product I received... It’s totally genuine and the packaging was also really good so if ur planning to buy just go for it.',\n",
       " 'Amazing phone with great cameras and better battery which gives you the best performance. I just love the camera .',\n",
       " 'Great iPhone very snappy experience as apple kind. Upgraded from iPhone 7.\\nPros\\n-Camera top class\\n- Battery top performed\\n-Chipset no need to say as apple kind\\n-Security as you expect from apple\\n- Display super bright industry leading colour\\naccuracy and super responsive\\n-Build quality as expect from apple sturdy\\npremium durable beautiful stylish.\\n-Os most stable os in smartphone industry\\n\\nCons\\n-No 5G\\n-Display is not based on OLED technology\\n-Charger headphones and 1 apple stic...\\nREAD MORE',\n",
       " \"I'm Really happy with the product\\nDelivery was fast as well\\n..it was a gift for my sister and she loved it so much.\",\n",
       " \"It's my first time to use iOS phone and I am loving my upgradation 😍😍 I love the color, I love the assebility of the phone....I need to learn more about its functionality, but as far as I have seen, it's quite easy and it has a lot of functions to work on, specially if you are a content writer or a blogger you get a lot of content creation platforms and they are really amazing.\\n\\nThis phone not only for good quality photography but a lot of other task too.😍💯\",\n",
       " 'Previously I was using one plus 3t it was a great phone\\nAnd then I decided to upgrade I am stuck between Samsung s10 plus or iPhone 11\\nI have seen the specs and everything were good except the display it’s somewhere between 720-1080 and it’s not even an amoled it’s an LCD display\\nBut I decided to go with iPhone because I have never used an IOS device I have Been an android user from the past 9 years I ordered IPhone 11 (128gb) product red\\nMy experience after using 3 weeks\\n1. The delivery ...\\nREAD MORE',\n",
       " 'I was using Iphone 6s and also Oneplus 6t. Both mobiles were perfectly alright in Photos, gaming, and smooth interface . My 6s mobile getting battery issue. thought upgrade to 11. Really like this mobile of its Internal storage (compare to 6s) , camera and its touch feeling. Its a worth buying mobile for me.',\n",
       " 'Value for money\\n5 star rating\\nExcellent camera\\nBattery backup full day in single charge.\\n\\nTougher and water resistant design, glossy back.\\nThe screen has excellent brightness and contrast.\\nApple A13 Bionic is the fastest smartphone chip on the planet.\\nExcellent battery life, fast charging support.\\nStereo speakers with great quality.',\n",
       " 'What a camera .....just awesome ..you can feel this iPhone just awesome . Good for gaming also ...try pubg in hd it’s just wow',\n",
       " 'Amazing Powerful and Durable Gadget.\\n\\nI’m am very happy with the camera picture quality, Amazing face id unlocked in dark room, Strong battery with perfect screen size as you can carry easily in pocket. This is my third iPhone.\\n\\nI shifted from android Samsung Note series to iPhone because of the strong build quality and peace of mind for next 3-4 years.\\n\\nDon’t think to much just go for it and I suggest you to go for minimum 128gb variant or more 256gb.\\n\\nI’ve attached my puppy pics and no fi...\\nREAD MORE',\n",
       " 'This is my first iOS phone. I am very happy with this product. Very much satisfied with this. I love this phone.',\n",
       " 'Best and amazing product.....phone looks so premium.... battary is also good as expected .... Wide angle camera is so addictive ...if you are a IOS lover....then this phone will be the best choice for you all!!💯🔥',\n",
       " 'i11 is worthy to buy, too much happy with the product. Thank u flipkart I received the item on time..loved it..',\n",
       " 'It’s a must buy who is looking for an upgrade from previous generation of iPhones. If you are using XR then still you can hold on for sometime and upgrade to 2020 model else this phone is a must buy . Camera quality is amazing and wide angle is something to count upon. Performance wise it’s amazing and feels premium while holding in hand. So a big YES for this device. Go for 128 GB variant as the 4K videos will occupy lots of space and the storage can get over very quickly. Try to buy it with...\\nREAD MORE',\n",
       " 'So far it’s been an AMAZING experience coming back to iOS after nearly a decade but it’s not as versatile as android though phone is sturdy dropped it accidentally a couple of times and nothing happened fortunately camera is awesome',\n",
       " 'Value for money❤️❤️\\nIts awesome mobile phone in the world ...\\nDisplay was very good and bright ..\\nTrust me freinds you r never regret after Buying..\\nJust go for it....\\nI love this phone and i switch to iphone x to 11',\n",
       " 'iphone 11 is a very good phone to buy only if you can compromise for the display. The display on this is device is pretty good but you can get other options with better displays in this price segment.\\nIf you can survive with an HD+ LCD panel with thicker bezels and a notch up top then this is a very good phone for you.\\nCameras are awesome, battery backup excellent, great performance and a decent premium look. Good job Apple !',\n",
       " 'Amazing camera quality as expected, battery also has very good performance. Display, body, and touch experience is the best I’ve ever had. Sound quality of speakers is more than sufficient. Apple is known for it’s customer friendly security services and I can see it how. The A13 processor is the best in its work. So I would definitely recommend it for everyone who are looking for it, just go for it without delay.\\n\\nThe most amazing thing it the delivery. Flipkart has delivered it in the span ...\\nREAD MORE',\n",
       " \"Just got this iphone 11\\nAnd it is most powerful mobile phone I have used ever\\n\\nSo,go for it if you want a phone with best specification like camera,battery backup,display, A13 bionic chip\\n\\nThat's my review about this phone but yours can be differ from me....\",\n",
       " 'It is just awesome mobile for this price from Apple,\\n\\nAfter 10 days review\\n\\nBattery enough for 1 day even 24*7 Internet will be on and mostly internet usage\\n\\nCamera is just awesome cool , android 64 MP is equal to this just 12 MP\\n\\nA13 Bionic chip will give more high performance without hanging\\n\\nAudio stereo speakers will give Dolby atoms sound with crystal clear\\n\\nVideo recording is like cinematic shots of every sec can be a 4K 60fps. Just awesome this phone\\niPhone 11 loved one',\n",
       " 'Really satisfied with the Product I received... It’s totally genuine and the packaging was also really good so if ur planning to buy just go for it.',\n",
       " 'Amazing phone with great cameras and better battery which gives you the best performance. I just love the camera .',\n",
       " 'Great iPhone very snappy experience as apple kind. Upgraded from iPhone 7.\\nPros\\n-Camera top class\\n- Battery top performed\\n-Chipset no need to say as apple kind\\n-Security as you expect from apple\\n- Display super bright industry leading colour\\naccuracy and super responsive\\n-Build quality as expect from apple sturdy\\npremium durable beautiful stylish.\\n-Os most stable os in smartphone industry\\n\\nCons\\n-No 5G\\n-Display is not based on OLED technology\\n-Charger headphones and 1 apple stic...\\nREAD MORE',\n",
       " \"I'm Really happy with the product\\nDelivery was fast as well\\n..it was a gift for my sister and she loved it so much.\",\n",
       " \"It's my first time to use iOS phone and I am loving my upgradation 😍😍 I love the color, I love the assebility of the phone....I need to learn more about its functionality, but as far as I have seen, it's quite easy and it has a lot of functions to work on, specially if you are a content writer or a blogger you get a lot of content creation platforms and they are really amazing.\\n\\nThis phone not only for good quality photography but a lot of other task too.😍💯\",\n",
       " 'Previously I was using one plus 3t it was a great phone\\nAnd then I decided to upgrade I am stuck between Samsung s10 plus or iPhone 11\\nI have seen the specs and everything were good except the display it’s somewhere between 720-1080 and it’s not even an amoled it’s an LCD display\\nBut I decided to go with iPhone because I have never used an IOS device I have Been an android user from the past 9 years I ordered IPhone 11 (128gb) product red\\nMy experience after using 3 weeks\\n1. The delivery ...\\nREAD MORE',\n",
       " 'I was using Iphone 6s and also Oneplus 6t. Both mobiles were perfectly alright in Photos, gaming, and smooth interface . My 6s mobile getting battery issue. thought upgrade to 11. Really like this mobile of its Internal storage (compare to 6s) , camera and its touch feeling. Its a worth buying mobile for me.',\n",
       " 'Value for money\\n5 star rating\\nExcellent camera\\nBattery backup full day in single charge.\\n\\nTougher and water resistant design, glossy back.\\nThe screen has excellent brightness and contrast.\\nApple A13 Bionic is the fastest smartphone chip on the planet.\\nExcellent battery life, fast charging support.\\nStereo speakers with great quality.',\n",
       " 'What a camera .....just awesome ..you can feel this iPhone just awesome . Good for gaming also ...try pubg in hd it’s just wow',\n",
       " 'Amazing Powerful and Durable Gadget.\\n\\nI’m am very happy with the camera picture quality, Amazing face id unlocked in dark room, Strong battery with perfect screen size as you can carry easily in pocket. This is my third iPhone.\\n\\nI shifted from android Samsung Note series to iPhone because of the strong build quality and peace of mind for next 3-4 years.\\n\\nDon’t think to much just go for it and I suggest you to go for minimum 128gb variant or more 256gb.\\n\\nI’ve attached my puppy pics and no fi...\\nREAD MORE',\n",
       " 'This is my first iOS phone. I am very happy with this product. Very much satisfied with this. I love this phone.',\n",
       " 'Best and amazing product.....phone looks so premium.... battary is also good as expected .... Wide angle camera is so addictive ...if you are a IOS lover....then this phone will be the best choice for you all!!💯🔥',\n",
       " 'i11 is worthy to buy, too much happy with the product. Thank u flipkart I received the item on time..loved it..',\n",
       " 'It’s a must buy who is looking for an upgrade from previous generation of iPhones. If you are using XR then still you can hold on for sometime and upgrade to 2020 model else this phone is a must buy . Camera quality is amazing and wide angle is something to count upon. Performance wise it’s amazing and feels premium while holding in hand. So a big YES for this device. Go for 128 GB variant as the 4K videos will occupy lots of space and the storage can get over very quickly. Try to buy it with...\\nREAD MORE',\n",
       " 'So far it’s been an AMAZING experience coming back to iOS after nearly a decade but it’s not as versatile as android though phone is sturdy dropped it accidentally a couple of times and nothing happened fortunately camera is awesome',\n",
       " 'Value for money❤️❤️\\nIts awesome mobile phone in the world ...\\nDisplay was very good and bright ..\\nTrust me freinds you r never regret after Buying..\\nJust go for it....\\nI love this phone and i switch to iphone x to 11',\n",
       " 'iphone 11 is a very good phone to buy only if you can compromise for the display. The display on this is device is pretty good but you can get other options with better displays in this price segment.\\nIf you can survive with an HD+ LCD panel with thicker bezels and a notch up top then this is a very good phone for you.\\nCameras are awesome, battery backup excellent, great performance and a decent premium look. Good job Apple !',\n",
       " 'Amazing camera quality as expected, battery also has very good performance. Display, body, and touch experience is the best I’ve ever had. Sound quality of speakers is more than sufficient. Apple is known for it’s customer friendly security services and I can see it how. The A13 processor is the best in its work. So I would definitely recommend it for everyone who are looking for it, just go for it without delay.\\n\\nThe most amazing thing it the delivery. Flipkart has delivered it in the span ...\\nREAD MORE',\n",
       " \"Just got this iphone 11\\nAnd it is most powerful mobile phone I have used ever\\n\\nSo,go for it if you want a phone with best specification like camera,battery backup,display, A13 bionic chip\\n\\nThat's my review about this phone but yours can be differ from me....\",\n",
       " 'It is just awesome mobile for this price from Apple,\\n\\nAfter 10 days review\\n\\nBattery enough for 1 day even 24*7 Internet will be on and mostly internet usage\\n\\nCamera is just awesome cool , android 64 MP is equal to this just 12 MP\\n\\nA13 Bionic chip will give more high performance without hanging\\n\\nAudio stereo speakers will give Dolby atoms sound with crystal clear\\n\\nVideo recording is like cinematic shots of every sec can be a 4K 60fps. Just awesome this phone\\niPhone 11 loved one',\n",
       " 'Really satisfied with the Product I received... It’s totally genuine and the packaging was also really good so if ur planning to buy just go for it.',\n",
       " 'Amazing phone with great cameras and better battery which gives you the best performance. I just love the camera .',\n",
       " 'Great iPhone very snappy experience as apple kind. Upgraded from iPhone 7.\\nPros\\n-Camera top class\\n- Battery top performed\\n-Chipset no need to say as apple kind\\n-Security as you expect from apple\\n- Display super bright industry leading colour\\naccuracy and super responsive\\n-Build quality as expect from apple sturdy\\npremium durable beautiful stylish.\\n-Os most stable os in smartphone industry\\n\\nCons\\n-No 5G\\n-Display is not based on OLED technology\\n-Charger headphones and 1 apple stic...\\nREAD MORE',\n",
       " \"I'm Really happy with the product\\nDelivery was fast as well\\n..it was a gift for my sister and she loved it so much.\",\n",
       " \"It's my first time to use iOS phone and I am loving my upgradation 😍😍 I love the color, I love the assebility of the phone....I need to learn more about its functionality, but as far as I have seen, it's quite easy and it has a lot of functions to work on, specially if you are a content writer or a blogger you get a lot of content creation platforms and they are really amazing.\\n\\nThis phone not only for good quality photography but a lot of other task too.😍💯\",\n",
       " 'Previously I was using one plus 3t it was a great phone\\nAnd then I decided to upgrade I am stuck between Samsung s10 plus or iPhone 11\\nI have seen the specs and everything were good except the display it’s somewhere between 720-1080 and it’s not even an amoled it’s an LCD display\\nBut I decided to go with iPhone because I have never used an IOS device I have Been an android user from the past 9 years I ordered IPhone 11 (128gb) product red\\nMy experience after using 3 weeks\\n1. The delivery ...\\nREAD MORE',\n",
       " 'I was using Iphone 6s and also Oneplus 6t. Both mobiles were perfectly alright in Photos, gaming, and smooth interface . My 6s mobile getting battery issue. thought upgrade to 11. Really like this mobile of its Internal storage (compare to 6s) , camera and its touch feeling. Its a worth buying mobile for me.',\n",
       " 'Value for money\\n5 star rating\\nExcellent camera\\nBattery backup full day in single charge.\\n\\nTougher and water resistant design, glossy back.\\nThe screen has excellent brightness and contrast.\\nApple A13 Bionic is the fastest smartphone chip on the planet.\\nExcellent battery life, fast charging support.\\nStereo speakers with great quality.',\n",
       " 'What a camera .....just awesome ..you can feel this iPhone just awesome . Good for gaming also ...try pubg in hd it’s just wow',\n",
       " 'Amazing Powerful and Durable Gadget.\\n\\nI’m am very happy with the camera picture quality, Amazing face id unlocked in dark room, Strong battery with perfect screen size as you can carry easily in pocket. This is my third iPhone.\\n\\nI shifted from android Samsung Note series to iPhone because of the strong build quality and peace of mind for next 3-4 years.\\n\\nDon’t think to much just go for it and I suggest you to go for minimum 128gb variant or more 256gb.\\n\\nI’ve attached my puppy pics and no fi...\\nREAD MORE',\n",
       " 'This is my first iOS phone. I am very happy with this product. Very much satisfied with this. I love this phone.',\n",
       " 'Best and amazing product.....phone looks so premium.... battary is also good as expected .... Wide angle camera is so addictive ...if you are a IOS lover....then this phone will be the best choice for you all!!💯🔥',\n",
       " 'i11 is worthy to buy, too much happy with the product. Thank u flipkart I received the item on time..loved it..',\n",
       " 'It’s a must buy who is looking for an upgrade from previous generation of iPhones. If you are using XR then still you can hold on for sometime and upgrade to 2020 model else this phone is a must buy . Camera quality is amazing and wide angle is something to count upon. Performance wise it’s amazing and feels premium while holding in hand. So a big YES for this device. Go for 128 GB variant as the 4K videos will occupy lots of space and the storage can get over very quickly. Try to buy it with...\\nREAD MORE',\n",
       " 'So far it’s been an AMAZING experience coming back to iOS after nearly a decade but it’s not as versatile as android though phone is sturdy dropped it accidentally a couple of times and nothing happened fortunately camera is awesome',\n",
       " 'Value for money❤️❤️\\nIts awesome mobile phone in the world ...\\nDisplay was very good and bright ..\\nTrust me freinds you r never regret after Buying..\\nJust go for it....\\nI love this phone and i switch to iphone x to 11',\n",
       " 'iphone 11 is a very good phone to buy only if you can compromise for the display. The display on this is device is pretty good but you can get other options with better displays in this price segment.\\nIf you can survive with an HD+ LCD panel with thicker bezels and a notch up top then this is a very good phone for you.\\nCameras are awesome, battery backup excellent, great performance and a decent premium look. Good job Apple !',\n",
       " 'Amazing camera quality as expected, battery also has very good performance. Display, body, and touch experience is the best I’ve ever had. Sound quality of speakers is more than sufficient. Apple is known for it’s customer friendly security services and I can see it how. The A13 processor is the best in its work. So I would definitely recommend it for everyone who are looking for it, just go for it without delay.\\n\\nThe most amazing thing it the delivery. Flipkart has delivered it in the span ...\\nREAD MORE',\n",
       " \"Just got this iphone 11\\nAnd it is most powerful mobile phone I have used ever\\n\\nSo,go for it if you want a phone with best specification like camera,battery backup,display, A13 bionic chip\\n\\nThat's my review about this phone but yours can be differ from me....\",\n",
       " 'It is just awesome mobile for this price from Apple,\\n\\nAfter 10 days review\\n\\nBattery enough for 1 day even 24*7 Internet will be on and mostly internet usage\\n\\nCamera is just awesome cool , android 64 MP is equal to this just 12 MP\\n\\nA13 Bionic chip will give more high performance without hanging\\n\\nAudio stereo speakers will give Dolby atoms sound with crystal clear\\n\\nVideo recording is like cinematic shots of every sec can be a 4K 60fps. Just awesome this phone\\niPhone 11 loved one',\n",
       " 'Really satisfied with the Product I received... It’s totally genuine and the packaging was also really good so if ur planning to buy just go for it.',\n",
       " 'Amazing phone with great cameras and better battery which gives you the best performance. I just love the camera .',\n",
       " 'Great iPhone very snappy experience as apple kind. Upgraded from iPhone 7.\\nPros\\n-Camera top class\\n- Battery top performed\\n-Chipset no need to say as apple kind\\n-Security as you expect from apple\\n- Display super bright industry leading colour\\naccuracy and super responsive\\n-Build quality as expect from apple sturdy\\npremium durable beautiful stylish.\\n-Os most stable os in smartphone industry\\n\\nCons\\n-No 5G\\n-Display is not based on OLED technology\\n-Charger headphones and 1 apple stic...\\nREAD MORE',\n",
       " \"I'm Really happy with the product\\nDelivery was fast as well\\n..it was a gift for my sister and she loved it so much.\",\n",
       " \"It's my first time to use iOS phone and I am loving my upgradation 😍😍 I love the color, I love the assebility of the phone....I need to learn more about its functionality, but as far as I have seen, it's quite easy and it has a lot of functions to work on, specially if you are a content writer or a blogger you get a lot of content creation platforms and they are really amazing.\\n\\nThis phone not only for good quality photography but a lot of other task too.😍💯\",\n",
       " 'Previously I was using one plus 3t it was a great phone\\nAnd then I decided to upgrade I am stuck between Samsung s10 plus or iPhone 11\\nI have seen the specs and everything were good except the display it’s somewhere between 720-1080 and it’s not even an amoled it’s an LCD display\\nBut I decided to go with iPhone because I have never used an IOS device I have Been an android user from the past 9 years I ordered IPhone 11 (128gb) product red\\nMy experience after using 3 weeks\\n1. The delivery ...\\nREAD MORE',\n",
       " 'I was using Iphone 6s and also Oneplus 6t. Both mobiles were perfectly alright in Photos, gaming, and smooth interface . My 6s mobile getting battery issue. thought upgrade to 11. Really like this mobile of its Internal storage (compare to 6s) , camera and its touch feeling. Its a worth buying mobile for me.',\n",
       " 'Value for money\\n5 star rating\\nExcellent camera\\nBattery backup full day in single charge.\\n\\nTougher and water resistant design, glossy back.\\nThe screen has excellent brightness and contrast.\\nApple A13 Bionic is the fastest smartphone chip on the planet.\\nExcellent battery life, fast charging support.\\nStereo speakers with great quality.',\n",
       " 'What a camera .....just awesome ..you can feel this iPhone just awesome . Good for gaming also ...try pubg in hd it’s just wow',\n",
       " 'Amazing Powerful and Durable Gadget.\\n\\nI’m am very happy with the camera picture quality, Amazing face id unlocked in dark room, Strong battery with perfect screen size as you can carry easily in pocket. This is my third iPhone.\\n\\nI shifted from android Samsung Note series to iPhone because of the strong build quality and peace of mind for next 3-4 years.\\n\\nDon’t think to much just go for it and I suggest you to go for minimum 128gb variant or more 256gb.\\n\\nI’ve attached my puppy pics and no fi...\\nREAD MORE',\n",
       " 'This is my first iOS phone. I am very happy with this product. Very much satisfied with this. I love this phone.',\n",
       " 'Best and amazing product.....phone looks so premium.... battary is also good as expected .... Wide angle camera is so addictive ...if you are a IOS lover....then this phone will be the best choice for you all!!💯🔥',\n",
       " 'i11 is worthy to buy, too much happy with the product. Thank u flipkart I received the item on time..loved it..',\n",
       " 'It’s a must buy who is looking for an upgrade from previous generation of iPhones. If you are using XR then still you can hold on for sometime and upgrade to 2020 model else this phone is a must buy . Camera quality is amazing and wide angle is something to count upon. Performance wise it’s amazing and feels premium while holding in hand. So a big YES for this device. Go for 128 GB variant as the 4K videos will occupy lots of space and the storage can get over very quickly. Try to buy it with...\\nREAD MORE',\n",
       " 'So far it’s been an AMAZING experience coming back to iOS after nearly a decade but it’s not as versatile as android though phone is sturdy dropped it accidentally a couple of times and nothing happened fortunately camera is awesome',\n",
       " 'Value for money❤️❤️\\nIts awesome mobile phone in the world ...\\nDisplay was very good and bright ..\\nTrust me freinds you r never regret after Buying..\\nJust go for it....\\nI love this phone and i switch to iphone x to 11',\n",
       " 'iphone 11 is a very good phone to buy only if you can compromise for the display. The display on this is device is pretty good but you can get other options with better displays in this price segment.\\nIf you can survive with an HD+ LCD panel with thicker bezels and a notch up top then this is a very good phone for you.\\nCameras are awesome, battery backup excellent, great performance and a decent premium look. Good job Apple !',\n",
       " 'Amazing camera quality as expected, battery also has very good performance. Display, body, and touch experience is the best I’ve ever had. Sound quality of speakers is more than sufficient. Apple is known for it’s customer friendly security services and I can see it how. The A13 processor is the best in its work. So I would definitely recommend it for everyone who are looking for it, just go for it without delay.\\n\\nThe most amazing thing it the delivery. Flipkart has delivered it in the span ...\\nREAD MORE',\n",
       " \"Just got this iphone 11\\nAnd it is most powerful mobile phone I have used ever\\n\\nSo,go for it if you want a phone with best specification like camera,battery backup,display, A13 bionic chip\\n\\nThat's my review about this phone but yours can be differ from me....\",\n",
       " 'It is just awesome mobile for this price from Apple,\\n\\nAfter 10 days review\\n\\nBattery enough for 1 day even 24*7 Internet will be on and mostly internet usage\\n\\nCamera is just awesome cool , android 64 MP is equal to this just 12 MP\\n\\nA13 Bionic chip will give more high performance without hanging\\n\\nAudio stereo speakers will give Dolby atoms sound with crystal clear\\n\\nVideo recording is like cinematic shots of every sec can be a 4K 60fps. Just awesome this phone\\niPhone 11 loved one',\n",
       " 'Really satisfied with the Product I received... It’s totally genuine and the packaging was also really good so if ur planning to buy just go for it.',\n",
       " 'Amazing phone with great cameras and better battery which gives you the best performance. I just love the camera .',\n",
       " 'Great iPhone very snappy experience as apple kind. Upgraded from iPhone 7.\\nPros\\n-Camera top class\\n- Battery top performed\\n-Chipset no need to say as apple kind\\n-Security as you expect from apple\\n- Display super bright industry leading colour\\naccuracy and super responsive\\n-Build quality as expect from apple sturdy\\npremium durable beautiful stylish.\\n-Os most stable os in smartphone industry\\n\\nCons\\n-No 5G\\n-Display is not based on OLED technology\\n-Charger headphones and 1 apple stic...\\nREAD MORE',\n",
       " \"I'm Really happy with the product\\nDelivery was fast as well\\n..it was a gift for my sister and she loved it so much.\",\n",
       " \"It's my first time to use iOS phone and I am loving my upgradation 😍😍 I love the color, I love the assebility of the phone....I need to learn more about its functionality, but as far as I have seen, it's quite easy and it has a lot of functions to work on, specially if you are a content writer or a blogger you get a lot of content creation platforms and they are really amazing.\\n\\nThis phone not only for good quality photography but a lot of other task too.😍💯\",\n",
       " 'Previously I was using one plus 3t it was a great phone\\nAnd then I decided to upgrade I am stuck between Samsung s10 plus or iPhone 11\\nI have seen the specs and everything were good except the display it’s somewhere between 720-1080 and it’s not even an amoled it’s an LCD display\\nBut I decided to go with iPhone because I have never used an IOS device I have Been an android user from the past 9 years I ordered IPhone 11 (128gb) product red\\nMy experience after using 3 weeks\\n1. The delivery ...\\nREAD MORE',\n",
       " 'I was using Iphone 6s and also Oneplus 6t. Both mobiles were perfectly alright in Photos, gaming, and smooth interface . My 6s mobile getting battery issue. thought upgrade to 11. Really like this mobile of its Internal storage (compare to 6s) , camera and its touch feeling. Its a worth buying mobile for me.',\n",
       " 'Value for money\\n5 star rating\\nExcellent camera\\nBattery backup full day in single charge.\\n\\nTougher and water resistant design, glossy back.\\nThe screen has excellent brightness and contrast.\\nApple A13 Bionic is the fastest smartphone chip on the planet.\\nExcellent battery life, fast charging support.\\nStereo speakers with great quality.',\n",
       " 'What a camera .....just awesome ..you can feel this iPhone just awesome . Good for gaming also ...try pubg in hd it’s just wow',\n",
       " 'Amazing Powerful and Durable Gadget.\\n\\nI’m am very happy with the camera picture quality, Amazing face id unlocked in dark room, Strong battery with perfect screen size as you can carry easily in pocket. This is my third iPhone.\\n\\nI shifted from android Samsung Note series to iPhone because of the strong build quality and peace of mind for next 3-4 years.\\n\\nDon’t think to much just go for it and I suggest you to go for minimum 128gb variant or more 256gb.\\n\\nI’ve attached my puppy pics and no fi...\\nREAD MORE',\n",
       " 'This is my first iOS phone. I am very happy with this product. Very much satisfied with this. I love this phone.',\n",
       " 'Best and amazing product.....phone looks so premium.... battary is also good as expected .... Wide angle camera is so addictive ...if you are a IOS lover....then this phone will be the best choice for you all!!💯🔥',\n",
       " 'i11 is worthy to buy, too much happy with the product. Thank u flipkart I received the item on time..loved it..',\n",
       " 'It’s a must buy who is looking for an upgrade from previous generation of iPhones. If you are using XR then still you can hold on for sometime and upgrade to 2020 model else this phone is a must buy . Camera quality is amazing and wide angle is something to count upon. Performance wise it’s amazing and feels premium while holding in hand. So a big YES for this device. Go for 128 GB variant as the 4K videos will occupy lots of space and the storage can get over very quickly. Try to buy it with...\\nREAD MORE',\n",
       " 'So far it’s been an AMAZING experience coming back to iOS after nearly a decade but it’s not as versatile as android though phone is sturdy dropped it accidentally a couple of times and nothing happened fortunately camera is awesome',\n",
       " 'Value for money❤️❤️\\nIts awesome mobile phone in the world ...\\nDisplay was very good and bright ..\\nTrust me freinds you r never regret after Buying..\\nJust go for it....\\nI love this phone and i switch to iphone x to 11',\n",
       " 'iphone 11 is a very good phone to buy only if you can compromise for the display. The display on this is device is pretty good but you can get other options with better displays in this price segment.\\nIf you can survive with an HD+ LCD panel with thicker bezels and a notch up top then this is a very good phone for you.\\nCameras are awesome, battery backup excellent, great performance and a decent premium look. Good job Apple !',\n",
       " 'Amazing camera quality as expected, battery also has very good performance. Display, body, and touch experience is the best I’ve ever had. Sound quality of speakers is more than sufficient. Apple is known for it’s customer friendly security services and I can see it how. The A13 processor is the best in its work. So I would definitely recommend it for everyone who are looking for it, just go for it without delay.\\n\\nThe most amazing thing it the delivery. Flipkart has delivered it in the span ...\\nREAD MORE',\n",
       " \"Just got this iphone 11\\nAnd it is most powerful mobile phone I have used ever\\n\\nSo,go for it if you want a phone with best specification like camera,battery backup,display, A13 bionic chip\\n\\nThat's my review about this phone but yours can be differ from me....\",\n",
       " 'It is just awesome mobile for this price from Apple,\\n\\nAfter 10 days review\\n\\nBattery enough for 1 day even 24*7 Internet will be on and mostly internet usage\\n\\nCamera is just awesome cool , android 64 MP is equal to this just 12 MP\\n\\nA13 Bionic chip will give more high performance without hanging\\n\\nAudio stereo speakers will give Dolby atoms sound with crystal clear\\n\\nVideo recording is like cinematic shots of every sec can be a 4K 60fps. Just awesome this phone\\niPhone 11 loved one']"
      ]
     },
     "execution_count": 423,
     "metadata": {},
     "output_type": "execute_result"
    }
   ],
   "source": [
    "full_review"
   ]
  },
  {
   "cell_type": "code",
   "execution_count": 425,
   "id": "ed0b1e52",
   "metadata": {},
   "outputs": [
    {
     "data": {
      "text/html": [
       "<div>\n",
       "<style scoped>\n",
       "    .dataframe tbody tr th:only-of-type {\n",
       "        vertical-align: middle;\n",
       "    }\n",
       "\n",
       "    .dataframe tbody tr th {\n",
       "        vertical-align: top;\n",
       "    }\n",
       "\n",
       "    .dataframe thead th {\n",
       "        text-align: right;\n",
       "    }\n",
       "</style>\n",
       "<table border=\"1\" class=\"dataframe\">\n",
       "  <thead>\n",
       "    <tr style=\"text-align: right;\">\n",
       "      <th></th>\n",
       "      <th>Ratings</th>\n",
       "      <th>Review Summary</th>\n",
       "      <th>Full Review</th>\n",
       "    </tr>\n",
       "  </thead>\n",
       "  <tbody>\n",
       "    <tr>\n",
       "      <th>0</th>\n",
       "      <td>5</td>\n",
       "      <td>Simply awesome</td>\n",
       "      <td>Really satisfied with the Product I received.....</td>\n",
       "    </tr>\n",
       "    <tr>\n",
       "      <th>1</th>\n",
       "      <td>5</td>\n",
       "      <td>Perfect product!</td>\n",
       "      <td>Amazing phone with great cameras and better ba...</td>\n",
       "    </tr>\n",
       "    <tr>\n",
       "      <th>2</th>\n",
       "      <td>5</td>\n",
       "      <td>Best in the market!</td>\n",
       "      <td>Great iPhone very snappy experience as apple k...</td>\n",
       "    </tr>\n",
       "    <tr>\n",
       "      <th>3</th>\n",
       "      <td>4</td>\n",
       "      <td>Value-for-money</td>\n",
       "      <td>I'm Really happy with the product\\nDelivery wa...</td>\n",
       "    </tr>\n",
       "    <tr>\n",
       "      <th>4</th>\n",
       "      <td>5</td>\n",
       "      <td>Highly recommended</td>\n",
       "      <td>It's my first time to use iOS phone and I am l...</td>\n",
       "    </tr>\n",
       "    <tr>\n",
       "      <th>...</th>\n",
       "      <td>...</td>\n",
       "      <td>...</td>\n",
       "      <td>...</td>\n",
       "    </tr>\n",
       "    <tr>\n",
       "      <th>95</th>\n",
       "      <td>5</td>\n",
       "      <td>Perfect product!</td>\n",
       "      <td>Value for money❤️❤️\\nIts awesome mobile phone ...</td>\n",
       "    </tr>\n",
       "    <tr>\n",
       "      <th>96</th>\n",
       "      <td>5</td>\n",
       "      <td>Highly recommended</td>\n",
       "      <td>iphone 11 is a very good phone to buy only if ...</td>\n",
       "    </tr>\n",
       "    <tr>\n",
       "      <th>97</th>\n",
       "      <td>5</td>\n",
       "      <td>Highly recommended</td>\n",
       "      <td>Amazing camera quality as expected, battery al...</td>\n",
       "    </tr>\n",
       "    <tr>\n",
       "      <th>98</th>\n",
       "      <td>4</td>\n",
       "      <td>Value-for-money</td>\n",
       "      <td>Just got this iphone 11\\nAnd it is most powerf...</td>\n",
       "    </tr>\n",
       "    <tr>\n",
       "      <th>99</th>\n",
       "      <td>5</td>\n",
       "      <td>Perfect product!</td>\n",
       "      <td>It is just awesome mobile for this price from ...</td>\n",
       "    </tr>\n",
       "  </tbody>\n",
       "</table>\n",
       "<p>100 rows × 3 columns</p>\n",
       "</div>"
      ],
      "text/plain": [
       "   Ratings       Review Summary  \\\n",
       "0        5       Simply awesome   \n",
       "1        5     Perfect product!   \n",
       "2        5  Best in the market!   \n",
       "3        4      Value-for-money   \n",
       "4        5   Highly recommended   \n",
       "..     ...                  ...   \n",
       "95       5     Perfect product!   \n",
       "96       5   Highly recommended   \n",
       "97       5   Highly recommended   \n",
       "98       4      Value-for-money   \n",
       "99       5     Perfect product!   \n",
       "\n",
       "                                          Full Review  \n",
       "0   Really satisfied with the Product I received.....  \n",
       "1   Amazing phone with great cameras and better ba...  \n",
       "2   Great iPhone very snappy experience as apple k...  \n",
       "3   I'm Really happy with the product\\nDelivery wa...  \n",
       "4   It's my first time to use iOS phone and I am l...  \n",
       "..                                                ...  \n",
       "95  Value for money❤️❤️\\nIts awesome mobile phone ...  \n",
       "96  iphone 11 is a very good phone to buy only if ...  \n",
       "97  Amazing camera quality as expected, battery al...  \n",
       "98  Just got this iphone 11\\nAnd it is most powerf...  \n",
       "99  It is just awesome mobile for this price from ...  \n",
       "\n",
       "[100 rows x 3 columns]"
      ]
     },
     "execution_count": 425,
     "metadata": {},
     "output_type": "execute_result"
    }
   ],
   "source": [
    "import pandas as pd \n",
    "df = pd.DataFrame({'Ratings' : rating,' Review Summary' : review_summary,'Full Review' : full_review})\n",
    "df"
   ]
  },
  {
   "cell_type": "markdown",
   "id": "fa3178d7",
   "metadata": {},
   "source": [
    "Q6: Scrape data forfirst 100 sneakers you find when you visit flipkart.com and search for “sneakers” in the \n",
    "search field.\n",
    "You have to scrape 3 attributes of each sneaker:\n",
    "1. Brand\n",
    "2. ProductDescription\n",
    "3. Price\n",
    "As shown in the below image, you have to scrape the above attributes"
   ]
  },
  {
   "cell_type": "code",
   "execution_count": 426,
   "id": "470a0252",
   "metadata": {},
   "outputs": [],
   "source": [
    "#connecting to webdriver\n",
    "driver=webdriver.Chrome(r\"C:\\Users\\tadis\\OneDrive\\Desktop\\FRT Internship\\chromedriver_win32\\chromedriver.exe\")"
   ]
  },
  {
   "cell_type": "code",
   "execution_count": 427,
   "id": "855f4397",
   "metadata": {},
   "outputs": [],
   "source": [
    "#opening flipkart\n",
    "url=\"https://www.flipkart.com/\"\n",
    "driver.get(url)"
   ]
  },
  {
   "cell_type": "code",
   "execution_count": 428,
   "id": "e45dd1a6",
   "metadata": {},
   "outputs": [],
   "source": [
    "#code lines to remove the login pop-up window\n",
    "pop_up =driver.find_element(By.XPATH,'/html/body/div[2]/div/div/button')\n",
    "pop_up.click()"
   ]
  },
  {
   "cell_type": "code",
   "execution_count": 429,
   "id": "527740a5",
   "metadata": {},
   "outputs": [],
   "source": [
    "#entering the sneakers product in search field\n",
    "search_job=driver.find_element(By.CLASS_NAME,\"_3704LK\")\n",
    "search_job.send_keys('sneakers')"
   ]
  },
  {
   "cell_type": "code",
   "execution_count": 430,
   "id": "e3037166",
   "metadata": {},
   "outputs": [],
   "source": [
    "#searching for sneakers product\n",
    "search = driver.find_element(By.CLASS_NAME,\"_34RNph\")\n",
    "search.click()"
   ]
  },
  {
   "cell_type": "code",
   "execution_count": 431,
   "id": "dc773c70",
   "metadata": {},
   "outputs": [],
   "source": [
    "brand = []\n",
    "product_description = []\n",
    "price = []"
   ]
  },
  {
   "cell_type": "code",
   "execution_count": 432,
   "id": "d045cd66",
   "metadata": {},
   "outputs": [],
   "source": [
    "#scraping brand details\n",
    "start = 0 \n",
    "end = 3\n",
    "for page in range(start,end):\n",
    "    brand_name = driver.find_elements(By.CLASS_NAME,\"_2WkVRV\")\n",
    "    for i in brand_name:\n",
    "        brand.append(i.text)\n",
    "    next_button = driver.find_element(By.XPATH,'//a[@class=\"_1LKTO3\"]')\n",
    "    next_button.click()\n",
    "    time.sleep(3)"
   ]
  },
  {
   "cell_type": "code",
   "execution_count": 433,
   "id": "c295f231",
   "metadata": {},
   "outputs": [],
   "source": [
    "#scraping product descriptions\n",
    "start = 0 \n",
    "end = 3\n",
    "for page in range(start,end):\n",
    "    p_des = driver.find_elements(By.CLASS_NAME,\"IRpwTa\")\n",
    "    for i in p_des:\n",
    "        product_description.append(i.text)\n",
    "    next_button = driver.find_element(By.XPATH,'//a[@class=\"_1LKTO3\"]')\n",
    "    next_button.click()\n",
    "    time.sleep(3)"
   ]
  },
  {
   "cell_type": "code",
   "execution_count": 434,
   "id": "1fef79e0",
   "metadata": {},
   "outputs": [],
   "source": [
    "#scraping prices\n",
    "start = 0 \n",
    "end = 3\n",
    "for page in range(start,end):\n",
    "    prices = driver.find_elements(By.XPATH,\"//div[@class='_30jeq3']\")\n",
    "    for i in prices:\n",
    "        price.append(i.text)\n",
    "    next_button = driver.find_element(By.XPATH,'//a[@class=\"_1LKTO3\"]')\n",
    "    next_button.click()\n",
    "    time.sleep(3)"
   ]
  },
  {
   "cell_type": "code",
   "execution_count": 435,
   "id": "e35c8760",
   "metadata": {},
   "outputs": [
    {
     "name": "stdout",
     "output_type": "stream",
     "text": [
      "120 120 120\n"
     ]
    }
   ],
   "source": [
    "print(len(brand),len(product_description),len(price))"
   ]
  },
  {
   "cell_type": "code",
   "execution_count": 436,
   "id": "05ea0a16",
   "metadata": {},
   "outputs": [
    {
     "data": {
      "text/html": [
       "<div>\n",
       "<style scoped>\n",
       "    .dataframe tbody tr th:only-of-type {\n",
       "        vertical-align: middle;\n",
       "    }\n",
       "\n",
       "    .dataframe tbody tr th {\n",
       "        vertical-align: top;\n",
       "    }\n",
       "\n",
       "    .dataframe thead th {\n",
       "        text-align: right;\n",
       "    }\n",
       "</style>\n",
       "<table border=\"1\" class=\"dataframe\">\n",
       "  <thead>\n",
       "    <tr style=\"text-align: right;\">\n",
       "      <th></th>\n",
       "      <th>Brand</th>\n",
       "      <th>Product Description</th>\n",
       "      <th>Price</th>\n",
       "    </tr>\n",
       "  </thead>\n",
       "  <tbody>\n",
       "    <tr>\n",
       "      <th>0</th>\n",
       "      <td>aadi</td>\n",
       "      <td>2006 Trenddy Fashion Sporty Casuals Sneakers R...</td>\n",
       "      <td>₹379</td>\n",
       "    </tr>\n",
       "    <tr>\n",
       "      <th>1</th>\n",
       "      <td>SFR</td>\n",
       "      <td>Stylish &amp; Trending Outdoor Walking Comfortable...</td>\n",
       "      <td>₹349</td>\n",
       "    </tr>\n",
       "    <tr>\n",
       "      <th>2</th>\n",
       "      <td>PUMA</td>\n",
       "      <td>Stylish and Comfirtable Shoes For Mens Sneaker...</td>\n",
       "      <td>₹999</td>\n",
       "    </tr>\n",
       "    <tr>\n",
       "      <th>3</th>\n",
       "      <td>PUMA</td>\n",
       "      <td>Sneakers For Men</td>\n",
       "      <td>₹1,074</td>\n",
       "    </tr>\n",
       "    <tr>\n",
       "      <th>4</th>\n",
       "      <td>BIRDE</td>\n",
       "      <td>Men White Urban Street Athleisure Shoes Sneake...</td>\n",
       "      <td>₹479</td>\n",
       "    </tr>\n",
       "    <tr>\n",
       "      <th>...</th>\n",
       "      <td>...</td>\n",
       "      <td>...</td>\n",
       "      <td>...</td>\n",
       "    </tr>\n",
       "    <tr>\n",
       "      <th>95</th>\n",
       "      <td>BRUTON</td>\n",
       "      <td>RS-Z Reinvention Sneakers For Men</td>\n",
       "      <td>₹229</td>\n",
       "    </tr>\n",
       "    <tr>\n",
       "      <th>96</th>\n",
       "      <td>kardam&amp;sons</td>\n",
       "      <td>Men Combo Pack of 2 Sports Shoes &amp; Casual Snea...</td>\n",
       "      <td>₹399</td>\n",
       "    </tr>\n",
       "    <tr>\n",
       "      <th>97</th>\n",
       "      <td>BRUTON</td>\n",
       "      <td>Fashionable Canvas Casual Partywear Outdoor Sn...</td>\n",
       "      <td>₹399</td>\n",
       "    </tr>\n",
       "    <tr>\n",
       "      <th>98</th>\n",
       "      <td>PUMA</td>\n",
       "      <td>Sneakers For Men</td>\n",
       "      <td>₹1,499</td>\n",
       "    </tr>\n",
       "    <tr>\n",
       "      <th>99</th>\n",
       "      <td>aadi</td>\n",
       "      <td>kardam&amp;sons luxury fashionable Stylish Light W...</td>\n",
       "      <td>₹349</td>\n",
       "    </tr>\n",
       "  </tbody>\n",
       "</table>\n",
       "<p>100 rows × 3 columns</p>\n",
       "</div>"
      ],
      "text/plain": [
       "          Brand                                Product Description   Price\n",
       "0          aadi  2006 Trenddy Fashion Sporty Casuals Sneakers R...    ₹379\n",
       "1           SFR  Stylish & Trending Outdoor Walking Comfortable...    ₹349\n",
       "2          PUMA  Stylish and Comfirtable Shoes For Mens Sneaker...    ₹999\n",
       "3          PUMA                                   Sneakers For Men  ₹1,074\n",
       "4         BIRDE  Men White Urban Street Athleisure Shoes Sneake...    ₹479\n",
       "..          ...                                                ...     ...\n",
       "95       BRUTON                  RS-Z Reinvention Sneakers For Men    ₹229\n",
       "96  kardam&sons  Men Combo Pack of 2 Sports Shoes & Casual Snea...    ₹399\n",
       "97       BRUTON  Fashionable Canvas Casual Partywear Outdoor Sn...    ₹399\n",
       "98         PUMA                                   Sneakers For Men  ₹1,499\n",
       "99         aadi  kardam&sons luxury fashionable Stylish Light W...    ₹349\n",
       "\n",
       "[100 rows x 3 columns]"
      ]
     },
     "execution_count": 436,
     "metadata": {},
     "output_type": "execute_result"
    }
   ],
   "source": [
    "import pandas as pd\n",
    "df = pd.DataFrame({'Brand': brand,'Product Description' : product_description,'Price' : price})\n",
    "df[0:100]"
   ]
  },
  {
   "cell_type": "code",
   "execution_count": null,
   "id": "de30468f",
   "metadata": {},
   "outputs": [],
   "source": []
  }
 ],
 "metadata": {
  "kernelspec": {
   "display_name": "Python 3 (ipykernel)",
   "language": "python",
   "name": "python3"
  },
  "language_info": {
   "codemirror_mode": {
    "name": "ipython",
    "version": 3
   },
   "file_extension": ".py",
   "mimetype": "text/x-python",
   "name": "python",
   "nbconvert_exporter": "python",
   "pygments_lexer": "ipython3",
   "version": "3.9.13"
  }
 },
 "nbformat": 4,
 "nbformat_minor": 5
}
