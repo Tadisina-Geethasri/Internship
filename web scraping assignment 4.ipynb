{
 "cells": [
  {
   "cell_type": "markdown",
   "id": "01946331",
   "metadata": {},
   "source": [
    "# WEB SCRAPING ASSIGNMENT 4"
   ]
  },
  {
   "cell_type": "markdown",
   "id": "350ec7a4",
   "metadata": {},
   "source": [
    "1.Scrape the details of most viewed videos on YouTube from Wikipedia.\n",
    "Url = https://en.wikipedia.org/wiki/List_of_most-viewed_YouTube_videos\n",
    "You need to find following details:\n",
    "A) Rank\n",
    "B) Name\n",
    "C) Artist\n",
    "D) Upload date\n",
    "E) Views\n"
   ]
  },
  {
   "cell_type": "code",
   "execution_count": 1,
   "id": "732850ee",
   "metadata": {},
   "outputs": [
    {
     "name": "stdout",
     "output_type": "stream",
     "text": [
      "Requirement already satisfied: selenium in c:\\users\\tadis\\anaconda3\\lib\\site-packages (4.9.1)\n",
      "Requirement already satisfied: certifi>=2021.10.8 in c:\\users\\tadis\\anaconda3\\lib\\site-packages (from selenium) (2022.9.14)\n",
      "Requirement already satisfied: trio-websocket~=0.9 in c:\\users\\tadis\\anaconda3\\lib\\site-packages (from selenium) (0.10.2)\n",
      "Requirement already satisfied: trio~=0.17 in c:\\users\\tadis\\anaconda3\\lib\\site-packages (from selenium) (0.22.0)\n",
      "Requirement already satisfied: urllib3[socks]<3,>=1.26 in c:\\users\\tadis\\anaconda3\\lib\\site-packages (from selenium) (1.26.11)\n",
      "Requirement already satisfied: cffi>=1.14 in c:\\users\\tadis\\anaconda3\\lib\\site-packages (from trio~=0.17->selenium) (1.15.1)\n",
      "Requirement already satisfied: async-generator>=1.9 in c:\\users\\tadis\\anaconda3\\lib\\site-packages (from trio~=0.17->selenium) (1.10)\n",
      "Requirement already satisfied: idna in c:\\users\\tadis\\anaconda3\\lib\\site-packages (from trio~=0.17->selenium) (3.3)\n",
      "Requirement already satisfied: sortedcontainers in c:\\users\\tadis\\anaconda3\\lib\\site-packages (from trio~=0.17->selenium) (2.4.0)\n",
      "Requirement already satisfied: outcome in c:\\users\\tadis\\anaconda3\\lib\\site-packages (from trio~=0.17->selenium) (1.2.0)\n",
      "Requirement already satisfied: sniffio in c:\\users\\tadis\\anaconda3\\lib\\site-packages (from trio~=0.17->selenium) (1.2.0)\n",
      "Requirement already satisfied: attrs>=19.2.0 in c:\\users\\tadis\\anaconda3\\lib\\site-packages (from trio~=0.17->selenium) (21.4.0)\n",
      "Requirement already satisfied: exceptiongroup>=1.0.0rc9 in c:\\users\\tadis\\anaconda3\\lib\\site-packages (from trio~=0.17->selenium) (1.1.1)\n",
      "Requirement already satisfied: wsproto>=0.14 in c:\\users\\tadis\\anaconda3\\lib\\site-packages (from trio-websocket~=0.9->selenium) (1.2.0)\n",
      "Requirement already satisfied: PySocks!=1.5.7,<2.0,>=1.5.6 in c:\\users\\tadis\\anaconda3\\lib\\site-packages (from urllib3[socks]<3,>=1.26->selenium) (1.7.1)\n",
      "Requirement already satisfied: pycparser in c:\\users\\tadis\\anaconda3\\lib\\site-packages (from cffi>=1.14->trio~=0.17->selenium) (2.21)\n",
      "Requirement already satisfied: h11<1,>=0.9.0 in c:\\users\\tadis\\anaconda3\\lib\\site-packages (from wsproto>=0.14->trio-websocket~=0.9->selenium) (0.14.0)\n"
     ]
    }
   ],
   "source": [
    "#installing selenium package\n",
    "!pip install selenium"
   ]
  },
  {
   "cell_type": "code",
   "execution_count": 2,
   "id": "fae86dd9",
   "metadata": {},
   "outputs": [],
   "source": [
    "#importing required libraries\n",
    "import selenium\n",
    "import pandas as pd\n",
    "from selenium import webdriver\n",
    "import warnings\n",
    "warnings.filterwarnings('ignore')\n",
    "from selenium.webdriver.common.by import By\n",
    "import time"
   ]
  },
  {
   "cell_type": "code",
   "execution_count": 3,
   "id": "13e59b4f",
   "metadata": {},
   "outputs": [],
   "source": [
    "#connect to the driver\n",
    "driver = webdriver.Chrome(r\"C:\\Users\\tadis\\OneDrive\\Desktop\\FRT Internship\\chromedriver_win32\\chromedriver.exe\")"
   ]
  },
  {
   "cell_type": "code",
   "execution_count": 29,
   "id": "0b6d816c",
   "metadata": {},
   "outputs": [],
   "source": [
    "#opening shine webite\n",
    "driver.get(\"https://en.wikipedia.org/wiki/List_of_most-viewed_YouTube_videos\")\n",
    "time.sleep(1)"
   ]
  },
  {
   "cell_type": "code",
   "execution_count": 30,
   "id": "2daf22d9",
   "metadata": {},
   "outputs": [],
   "source": [
    "rank = []\n",
    "name = []\n",
    "artist = []\n",
    "upload_date = []\n",
    "views = []"
   ]
  },
  {
   "cell_type": "code",
   "execution_count": 31,
   "id": "0af791ab",
   "metadata": {},
   "outputs": [],
   "source": [
    "#scraping data of RANK\n",
    "rank_no= driver.find_elements(By.XPATH,\"//table[@class='wikitable sortable jquery-tablesorter'][1]/tbody/tr/td[1]\")\n",
    "for i in rank_no:\n",
    "    rank.append(i.text)"
   ]
  },
  {
   "cell_type": "code",
   "execution_count": 32,
   "id": "a294f09f",
   "metadata": {},
   "outputs": [
    {
     "data": {
      "text/plain": [
       "30"
      ]
     },
     "execution_count": 32,
     "metadata": {},
     "output_type": "execute_result"
    }
   ],
   "source": [
    "len(rank)"
   ]
  },
  {
   "cell_type": "code",
   "execution_count": 33,
   "id": "6339bb8c",
   "metadata": {},
   "outputs": [],
   "source": [
    "#scraping data of names\n",
    "names = driver.find_elements(By.XPATH,\"//table[@class='wikitable sortable jquery-tablesorter'][1]/tbody/tr/td[2]\")\n",
    "for i in names:\n",
    "    name.append(i.text)"
   ]
  },
  {
   "cell_type": "code",
   "execution_count": 34,
   "id": "3df80c91",
   "metadata": {},
   "outputs": [
    {
     "data": {
      "text/plain": [
       "30"
      ]
     },
     "execution_count": 34,
     "metadata": {},
     "output_type": "execute_result"
    }
   ],
   "source": [
    "len(name)"
   ]
  },
  {
   "cell_type": "code",
   "execution_count": 35,
   "id": "9632af5b",
   "metadata": {},
   "outputs": [],
   "source": [
    "#scraping data of artist\n",
    "artists = driver.find_elements(By.XPATH,\"//table[@class='wikitable sortable jquery-tablesorter'][1]/tbody/tr/td[3]\")\n",
    "for i in artists:\n",
    "    artist.append(i.text)"
   ]
  },
  {
   "cell_type": "code",
   "execution_count": 36,
   "id": "5717ccf2",
   "metadata": {},
   "outputs": [
    {
     "data": {
      "text/plain": [
       "30"
      ]
     },
     "execution_count": 36,
     "metadata": {},
     "output_type": "execute_result"
    }
   ],
   "source": [
    "len(artist)"
   ]
  },
  {
   "cell_type": "code",
   "execution_count": 37,
   "id": "0ee0dae8",
   "metadata": {},
   "outputs": [],
   "source": [
    "#scraping the detais of date\n",
    "date = driver.find_elements(By.XPATH,\"//table[@class='wikitable sortable jquery-tablesorter'][1]/tbody/tr/td[5]\")\n",
    "for i in date:\n",
    "    upload_date.append(i.text)"
   ]
  },
  {
   "cell_type": "code",
   "execution_count": 38,
   "id": "48edd9ca",
   "metadata": {},
   "outputs": [
    {
     "data": {
      "text/plain": [
       "30"
      ]
     },
     "execution_count": 38,
     "metadata": {},
     "output_type": "execute_result"
    }
   ],
   "source": [
    "len(upload_date)"
   ]
  },
  {
   "cell_type": "code",
   "execution_count": 39,
   "id": "b4a6d255",
   "metadata": {},
   "outputs": [],
   "source": [
    "#scraping the detais of views\n",
    "view = driver.find_elements(By.XPATH,\"//table[@class='wikitable sortable jquery-tablesorter'][1]/tbody/tr/td[4]\")\n",
    "for i in view:\n",
    "    views.append(i.text)"
   ]
  },
  {
   "cell_type": "code",
   "execution_count": 40,
   "id": "bd0cf893",
   "metadata": {},
   "outputs": [
    {
     "data": {
      "text/plain": [
       "30"
      ]
     },
     "execution_count": 40,
     "metadata": {},
     "output_type": "execute_result"
    }
   ],
   "source": [
    "len(views)"
   ]
  },
  {
   "cell_type": "code",
   "execution_count": 41,
   "id": "b0332b39",
   "metadata": {},
   "outputs": [],
   "source": [
    "import pandas as pd\n",
    "df = pd.DataFrame({'Rank' : rank, 'Name' : name, 'Artist' : artist, 'Upload Date' : upload_date, 'Views' : views})"
   ]
  },
  {
   "cell_type": "code",
   "execution_count": 42,
   "id": "625a4384",
   "metadata": {},
   "outputs": [
    {
     "data": {
      "text/html": [
       "<div>\n",
       "<style scoped>\n",
       "    .dataframe tbody tr th:only-of-type {\n",
       "        vertical-align: middle;\n",
       "    }\n",
       "\n",
       "    .dataframe tbody tr th {\n",
       "        vertical-align: top;\n",
       "    }\n",
       "\n",
       "    .dataframe thead th {\n",
       "        text-align: right;\n",
       "    }\n",
       "</style>\n",
       "<table border=\"1\" class=\"dataframe\">\n",
       "  <thead>\n",
       "    <tr style=\"text-align: right;\">\n",
       "      <th></th>\n",
       "      <th>Rank</th>\n",
       "      <th>Name</th>\n",
       "      <th>Artist</th>\n",
       "      <th>Upload Date</th>\n",
       "      <th>Views</th>\n",
       "    </tr>\n",
       "  </thead>\n",
       "  <tbody>\n",
       "    <tr>\n",
       "      <th>0</th>\n",
       "      <td>1.</td>\n",
       "      <td>\"Baby Shark Dance\"[4]</td>\n",
       "      <td>Pinkfong Baby Shark - Kids' Songs &amp; Stories</td>\n",
       "      <td>June 17, 2016</td>\n",
       "      <td>12.85</td>\n",
       "    </tr>\n",
       "    <tr>\n",
       "      <th>1</th>\n",
       "      <td>2.</td>\n",
       "      <td>\"Despacito\"[7]</td>\n",
       "      <td>Luis Fonsi</td>\n",
       "      <td>January 12, 2017</td>\n",
       "      <td>8.16</td>\n",
       "    </tr>\n",
       "    <tr>\n",
       "      <th>2</th>\n",
       "      <td>3.</td>\n",
       "      <td>\"Johny Johny Yes Papa\"[14]</td>\n",
       "      <td>LooLoo Kids</td>\n",
       "      <td>October 8, 2016</td>\n",
       "      <td>6.70</td>\n",
       "    </tr>\n",
       "    <tr>\n",
       "      <th>3</th>\n",
       "      <td>4.</td>\n",
       "      <td>\"Bath Song\"[15]</td>\n",
       "      <td>Cocomelon – Nursery Rhymes</td>\n",
       "      <td>May 2, 2018</td>\n",
       "      <td>6.20</td>\n",
       "    </tr>\n",
       "    <tr>\n",
       "      <th>4</th>\n",
       "      <td>5.</td>\n",
       "      <td>\"Shape of You\"[16]</td>\n",
       "      <td>Ed Sheeran</td>\n",
       "      <td>January 30, 2017</td>\n",
       "      <td>6.00</td>\n",
       "    </tr>\n",
       "    <tr>\n",
       "      <th>5</th>\n",
       "      <td>6.</td>\n",
       "      <td>\"See You Again\"[19]</td>\n",
       "      <td>Wiz Khalifa</td>\n",
       "      <td>April 6, 2015</td>\n",
       "      <td>5.89</td>\n",
       "    </tr>\n",
       "    <tr>\n",
       "      <th>6</th>\n",
       "      <td>7.</td>\n",
       "      <td>\"Phonics Song with Two Words\"[24]</td>\n",
       "      <td>ChuChu TV</td>\n",
       "      <td>March 6, 2014</td>\n",
       "      <td>5.30</td>\n",
       "    </tr>\n",
       "    <tr>\n",
       "      <th>7</th>\n",
       "      <td>8.</td>\n",
       "      <td>\"Wheels on the Bus\"[25]</td>\n",
       "      <td>Cocomelon – Nursery Rhymes</td>\n",
       "      <td>May 24, 2018</td>\n",
       "      <td>5.24</td>\n",
       "    </tr>\n",
       "    <tr>\n",
       "      <th>8</th>\n",
       "      <td>9.</td>\n",
       "      <td>\"Uptown Funk\"[26]</td>\n",
       "      <td>Mark Ronson</td>\n",
       "      <td>November 19, 2014</td>\n",
       "      <td>4.92</td>\n",
       "    </tr>\n",
       "    <tr>\n",
       "      <th>9</th>\n",
       "      <td>10.</td>\n",
       "      <td>\"Learning Colors – Colorful Eggs on a Farm\"[27]</td>\n",
       "      <td>Miroshka TV</td>\n",
       "      <td>February 27, 2018</td>\n",
       "      <td>4.89</td>\n",
       "    </tr>\n",
       "    <tr>\n",
       "      <th>10</th>\n",
       "      <td>11.</td>\n",
       "      <td>\"Gangnam Style\"[28]</td>\n",
       "      <td>Psy</td>\n",
       "      <td>July 15, 2012</td>\n",
       "      <td>4.80</td>\n",
       "    </tr>\n",
       "    <tr>\n",
       "      <th>11</th>\n",
       "      <td>12.</td>\n",
       "      <td>\"Masha and the Bear – Recipe for Disaster\"[33]</td>\n",
       "      <td>Get Movies</td>\n",
       "      <td>January 31, 2012</td>\n",
       "      <td>4.55</td>\n",
       "    </tr>\n",
       "    <tr>\n",
       "      <th>12</th>\n",
       "      <td>13.</td>\n",
       "      <td>\"Dame Tu Cosita\"[34]</td>\n",
       "      <td>El Chombo</td>\n",
       "      <td>April 5, 2018</td>\n",
       "      <td>4.35</td>\n",
       "    </tr>\n",
       "    <tr>\n",
       "      <th>13</th>\n",
       "      <td>14.</td>\n",
       "      <td>\"Axel F\"[35]</td>\n",
       "      <td>Crazy Frog</td>\n",
       "      <td>June 16, 2009</td>\n",
       "      <td>3.91</td>\n",
       "    </tr>\n",
       "    <tr>\n",
       "      <th>14</th>\n",
       "      <td>15.</td>\n",
       "      <td>\"Sugar\"[36]</td>\n",
       "      <td>Maroon 5</td>\n",
       "      <td>January 14, 2015</td>\n",
       "      <td>3.87</td>\n",
       "    </tr>\n",
       "    <tr>\n",
       "      <th>15</th>\n",
       "      <td>16.</td>\n",
       "      <td>\"Roar\"[37]</td>\n",
       "      <td>Katy Perry</td>\n",
       "      <td>September 5, 2013</td>\n",
       "      <td>3.80</td>\n",
       "    </tr>\n",
       "    <tr>\n",
       "      <th>16</th>\n",
       "      <td>17.</td>\n",
       "      <td>\"Counting Stars\"[38]</td>\n",
       "      <td>OneRepublic</td>\n",
       "      <td>May 31, 2013</td>\n",
       "      <td>3.79</td>\n",
       "    </tr>\n",
       "    <tr>\n",
       "      <th>17</th>\n",
       "      <td>18.</td>\n",
       "      <td>\"Sorry\"[39]</td>\n",
       "      <td>Justin Bieber</td>\n",
       "      <td>October 22, 2015</td>\n",
       "      <td>3.66</td>\n",
       "    </tr>\n",
       "    <tr>\n",
       "      <th>18</th>\n",
       "      <td>19.</td>\n",
       "      <td>\"Baa Baa Black Sheep\"[40]</td>\n",
       "      <td>Cocomelon – Nursery Rhymes</td>\n",
       "      <td>June 25, 2018</td>\n",
       "      <td>3.64</td>\n",
       "    </tr>\n",
       "    <tr>\n",
       "      <th>19</th>\n",
       "      <td>20.</td>\n",
       "      <td>\"Thinking Out Loud\"[41]</td>\n",
       "      <td>Ed Sheeran</td>\n",
       "      <td>October 7, 2014</td>\n",
       "      <td>3.60</td>\n",
       "    </tr>\n",
       "    <tr>\n",
       "      <th>20</th>\n",
       "      <td>21.</td>\n",
       "      <td>\"Waka Waka (This Time for Africa)\"[42]</td>\n",
       "      <td>Shakira</td>\n",
       "      <td>June 4, 2010</td>\n",
       "      <td>3.59</td>\n",
       "    </tr>\n",
       "    <tr>\n",
       "      <th>21</th>\n",
       "      <td>22.</td>\n",
       "      <td>\"Dark Horse\"[43]</td>\n",
       "      <td>Katy Perry</td>\n",
       "      <td>February 20, 2014</td>\n",
       "      <td>3.52</td>\n",
       "    </tr>\n",
       "    <tr>\n",
       "      <th>22</th>\n",
       "      <td>23.</td>\n",
       "      <td>\"Lakdi Ki Kathi\"[44]</td>\n",
       "      <td>Jingle Toons</td>\n",
       "      <td>June 14, 2018</td>\n",
       "      <td>3.48</td>\n",
       "    </tr>\n",
       "    <tr>\n",
       "      <th>23</th>\n",
       "      <td>24.</td>\n",
       "      <td>\"Faded\"[45]</td>\n",
       "      <td>Alan Walker</td>\n",
       "      <td>December 3, 2015</td>\n",
       "      <td>3.45</td>\n",
       "    </tr>\n",
       "    <tr>\n",
       "      <th>24</th>\n",
       "      <td>25.</td>\n",
       "      <td>\"Perfect\"[46]</td>\n",
       "      <td>Ed Sheeran</td>\n",
       "      <td>November 9, 2017</td>\n",
       "      <td>3.45</td>\n",
       "    </tr>\n",
       "    <tr>\n",
       "      <th>25</th>\n",
       "      <td>26.</td>\n",
       "      <td>\"Let Her Go\"[47]</td>\n",
       "      <td>Passenger</td>\n",
       "      <td>July 25, 2012</td>\n",
       "      <td>3.44</td>\n",
       "    </tr>\n",
       "    <tr>\n",
       "      <th>26</th>\n",
       "      <td>27.</td>\n",
       "      <td>\"Girls Like You\"[48]</td>\n",
       "      <td>Maroon 5</td>\n",
       "      <td>May 31, 2018</td>\n",
       "      <td>3.42</td>\n",
       "    </tr>\n",
       "    <tr>\n",
       "      <th>27</th>\n",
       "      <td>28.</td>\n",
       "      <td>\"Humpty the train on a fruits ride\"[49]</td>\n",
       "      <td>Kiddiestv Hindi – Nursery Rhymes &amp; Kids Songs</td>\n",
       "      <td>January 26, 2018</td>\n",
       "      <td>3.41</td>\n",
       "    </tr>\n",
       "    <tr>\n",
       "      <th>28</th>\n",
       "      <td>29.</td>\n",
       "      <td>\"Lean On\"[50]</td>\n",
       "      <td>Major Lazer</td>\n",
       "      <td>March 22, 2015</td>\n",
       "      <td>3.38</td>\n",
       "    </tr>\n",
       "    <tr>\n",
       "      <th>29</th>\n",
       "      <td>30.</td>\n",
       "      <td>\"Bailando\"[51]</td>\n",
       "      <td>Enrique Iglesias</td>\n",
       "      <td>April 11, 2014</td>\n",
       "      <td>3.38</td>\n",
       "    </tr>\n",
       "  </tbody>\n",
       "</table>\n",
       "</div>"
      ],
      "text/plain": [
       "   Rank                                             Name  \\\n",
       "0    1.                            \"Baby Shark Dance\"[4]   \n",
       "1    2.                                   \"Despacito\"[7]   \n",
       "2    3.                       \"Johny Johny Yes Papa\"[14]   \n",
       "3    4.                                  \"Bath Song\"[15]   \n",
       "4    5.                               \"Shape of You\"[16]   \n",
       "5    6.                              \"See You Again\"[19]   \n",
       "6    7.                \"Phonics Song with Two Words\"[24]   \n",
       "7    8.                          \"Wheels on the Bus\"[25]   \n",
       "8    9.                                \"Uptown Funk\"[26]   \n",
       "9   10.  \"Learning Colors – Colorful Eggs on a Farm\"[27]   \n",
       "10  11.                              \"Gangnam Style\"[28]   \n",
       "11  12.   \"Masha and the Bear – Recipe for Disaster\"[33]   \n",
       "12  13.                             \"Dame Tu Cosita\"[34]   \n",
       "13  14.                                     \"Axel F\"[35]   \n",
       "14  15.                                      \"Sugar\"[36]   \n",
       "15  16.                                       \"Roar\"[37]   \n",
       "16  17.                             \"Counting Stars\"[38]   \n",
       "17  18.                                      \"Sorry\"[39]   \n",
       "18  19.                        \"Baa Baa Black Sheep\"[40]   \n",
       "19  20.                          \"Thinking Out Loud\"[41]   \n",
       "20  21.           \"Waka Waka (This Time for Africa)\"[42]   \n",
       "21  22.                                 \"Dark Horse\"[43]   \n",
       "22  23.                             \"Lakdi Ki Kathi\"[44]   \n",
       "23  24.                                      \"Faded\"[45]   \n",
       "24  25.                                    \"Perfect\"[46]   \n",
       "25  26.                                 \"Let Her Go\"[47]   \n",
       "26  27.                             \"Girls Like You\"[48]   \n",
       "27  28.          \"Humpty the train on a fruits ride\"[49]   \n",
       "28  29.                                    \"Lean On\"[50]   \n",
       "29  30.                                   \"Bailando\"[51]   \n",
       "\n",
       "                                           Artist        Upload Date  Views  \n",
       "0     Pinkfong Baby Shark - Kids' Songs & Stories      June 17, 2016  12.85  \n",
       "1                                      Luis Fonsi   January 12, 2017   8.16  \n",
       "2                                     LooLoo Kids    October 8, 2016   6.70  \n",
       "3                      Cocomelon – Nursery Rhymes        May 2, 2018   6.20  \n",
       "4                                      Ed Sheeran   January 30, 2017   6.00  \n",
       "5                                     Wiz Khalifa      April 6, 2015   5.89  \n",
       "6                                       ChuChu TV      March 6, 2014   5.30  \n",
       "7                      Cocomelon – Nursery Rhymes       May 24, 2018   5.24  \n",
       "8                                     Mark Ronson  November 19, 2014   4.92  \n",
       "9                                     Miroshka TV  February 27, 2018   4.89  \n",
       "10                                            Psy      July 15, 2012   4.80  \n",
       "11                                     Get Movies   January 31, 2012   4.55  \n",
       "12                                      El Chombo      April 5, 2018   4.35  \n",
       "13                                     Crazy Frog      June 16, 2009   3.91  \n",
       "14                                       Maroon 5   January 14, 2015   3.87  \n",
       "15                                     Katy Perry  September 5, 2013   3.80  \n",
       "16                                    OneRepublic       May 31, 2013   3.79  \n",
       "17                                  Justin Bieber   October 22, 2015   3.66  \n",
       "18                     Cocomelon – Nursery Rhymes      June 25, 2018   3.64  \n",
       "19                                     Ed Sheeran    October 7, 2014   3.60  \n",
       "20                                        Shakira       June 4, 2010   3.59  \n",
       "21                                     Katy Perry  February 20, 2014   3.52  \n",
       "22                                   Jingle Toons      June 14, 2018   3.48  \n",
       "23                                    Alan Walker   December 3, 2015   3.45  \n",
       "24                                     Ed Sheeran   November 9, 2017   3.45  \n",
       "25                                      Passenger      July 25, 2012   3.44  \n",
       "26                                       Maroon 5       May 31, 2018   3.42  \n",
       "27  Kiddiestv Hindi – Nursery Rhymes & Kids Songs   January 26, 2018   3.41  \n",
       "28                                    Major Lazer     March 22, 2015   3.38  \n",
       "29                               Enrique Iglesias     April 11, 2014   3.38  "
      ]
     },
     "execution_count": 42,
     "metadata": {},
     "output_type": "execute_result"
    }
   ],
   "source": [
    "df"
   ]
  },
  {
   "cell_type": "markdown",
   "id": "d4bc4b45",
   "metadata": {},
   "source": [
    "2.Scrape the details teamIndia’sinternationalfixtures from bcci.tv. \n",
    "Url = https://www.bcci.tv/.\n",
    "You need to find following details:\n",
    "A) Match title (I.e. 1stODI)\n",
    "B) Series\n",
    "C) Place\n",
    "D) Date\n",
    "E) Time\n",
    "Note: - From bcci.tv home page you have reach to the international fixture page through code."
   ]
  },
  {
   "cell_type": "code",
   "execution_count": 63,
   "id": "4a1b4824",
   "metadata": {},
   "outputs": [],
   "source": [
    "#connect to the driver\n",
    "driver = webdriver.Chrome(r\"C:\\Users\\tadis\\OneDrive\\Desktop\\FRT Internship\\chromedriver_win32\\chromedriver.exe\")"
   ]
  },
  {
   "cell_type": "code",
   "execution_count": 64,
   "id": "fef172af",
   "metadata": {},
   "outputs": [],
   "source": [
    "#opening shine webite\n",
    "driver.get(\"https://www.bcci.tv/\")"
   ]
  },
  {
   "cell_type": "code",
   "execution_count": 65,
   "id": "a1592977",
   "metadata": {},
   "outputs": [],
   "source": [
    "match_title = []\n",
    "series = []\n",
    "place = []\n",
    "date = []\n",
    "time_note = []"
   ]
  },
  {
   "cell_type": "code",
   "execution_count": 67,
   "id": "b63a5e04",
   "metadata": {},
   "outputs": [],
   "source": [
    "#click on international\n",
    "international=driver.find_element(By.XPATH,\"/html/body/nav/div[1]/div[2]/ul[1]/li[2]/a\")\n",
    "international.click()"
   ]
  },
  {
   "cell_type": "code",
   "execution_count": 68,
   "id": "139f8f24",
   "metadata": {},
   "outputs": [],
   "source": [
    "# click on fixtures\n",
    "fixtures= driver.find_element(By.XPATH,\"/html/body/div[2]/div[1]/div/ul/li[1]/a\")\n",
    "fixtures.click()"
   ]
  },
  {
   "cell_type": "code",
   "execution_count": 71,
   "id": "dcc8a9e4",
   "metadata": {},
   "outputs": [],
   "source": [
    "#Scraping Match_title\n",
    "title = driver.find_elements(By.XPATH,\"//div[@class='match-card-middle__inner d-flex justify-content-between']\")\n",
    "for i in title:\n",
    "    match_title.append(i.text)"
   ]
  },
  {
   "cell_type": "code",
   "execution_count": 72,
   "id": "535151c7",
   "metadata": {},
   "outputs": [
    {
     "data": {
      "text/plain": [
       "['West Indies\\nvs\\nIndia',\n",
       " 'West Indies\\nvs\\nIndia',\n",
       " 'West Indies\\nvs\\nIndia',\n",
       " 'West Indies\\nvs\\nIndia',\n",
       " 'West Indies\\nvs\\nIndia',\n",
       " 'West Indies\\nvs\\nIndia',\n",
       " 'West Indies\\nvs\\nIndia',\n",
       " 'West Indies\\nvs\\nIndia']"
      ]
     },
     "execution_count": 72,
     "metadata": {},
     "output_type": "execute_result"
    }
   ],
   "source": [
    "match_title"
   ]
  },
  {
   "cell_type": "code",
   "execution_count": 73,
   "id": "95c248da",
   "metadata": {},
   "outputs": [],
   "source": [
    "#Scraping Series\n",
    "series_info= driver.find_elements(By.XPATH,\"//span[@class='matchOrderText ng-binding ng-scope']\")\n",
    "for i in series_info:\n",
    "    series.append(i.text)"
   ]
  },
  {
   "cell_type": "code",
   "execution_count": 74,
   "id": "66316c2f",
   "metadata": {},
   "outputs": [
    {
     "data": {
      "text/plain": [
       "['1st Test -',\n",
       " '2nd Test -',\n",
       " '1st ODI -',\n",
       " '2nd ODI -',\n",
       " '3rd ODI -',\n",
       " '1st T20I -',\n",
       " '2nd T20I -',\n",
       " '3rd T20I -']"
      ]
     },
     "execution_count": 74,
     "metadata": {},
     "output_type": "execute_result"
    }
   ],
   "source": [
    "series"
   ]
  },
  {
   "cell_type": "code",
   "execution_count": 75,
   "id": "6a963eeb",
   "metadata": {},
   "outputs": [],
   "source": [
    "#Scraping place\n",
    "places = driver.find_elements(By.XPATH,\"//div[@class='match-place ng-scope']\")\n",
    "for i in places:\n",
    "    place.append(i.text)"
   ]
  },
  {
   "cell_type": "code",
   "execution_count": 76,
   "id": "c1f7f5b8",
   "metadata": {},
   "outputs": [
    {
     "data": {
      "text/plain": [
       "['1st Test - Windsor Park, Dominica',\n",
       " \"2nd Test - Queen's Park Oval, Trinidad\",\n",
       " '1st ODI - Kensington Oval, Barbados',\n",
       " '2nd ODI - Kensington Oval, Barbados',\n",
       " '3rd ODI - Brian Lara Stadium, Trinidad',\n",
       " '1st T20I - Brian Lara Stadium, Trinidad',\n",
       " '2nd T20I - National Stadium, Guyana',\n",
       " '3rd T20I - National Stadium, Guyana']"
      ]
     },
     "execution_count": 76,
     "metadata": {},
     "output_type": "execute_result"
    }
   ],
   "source": [
    "place"
   ]
  },
  {
   "cell_type": "code",
   "execution_count": 77,
   "id": "d3bc5b31",
   "metadata": {},
   "outputs": [],
   "source": [
    "#Scraping Match_title\n",
    "date_info = driver.find_elements(By.XPATH,\"//div[@class='match-dates ng-binding']\")\n",
    "for i in date_info:\n",
    "    date.append(i.text)"
   ]
  },
  {
   "cell_type": "code",
   "execution_count": 78,
   "id": "8bf48e5d",
   "metadata": {},
   "outputs": [
    {
     "data": {
      "text/plain": [
       "['12 JUL 2023',\n",
       " '20 JUL 2023',\n",
       " '27 JUL 2023',\n",
       " '29 JUL 2023',\n",
       " '1 AUG 2023',\n",
       " '3 AUG 2023',\n",
       " '6 AUG 2023',\n",
       " '8 AUG 2023']"
      ]
     },
     "execution_count": 78,
     "metadata": {},
     "output_type": "execute_result"
    }
   ],
   "source": [
    "date"
   ]
  },
  {
   "cell_type": "code",
   "execution_count": 79,
   "id": "6da29ed4",
   "metadata": {},
   "outputs": [],
   "source": [
    "#Scraping time \n",
    "time = driver.find_elements(By.XPATH,\"//div[@class='match-time no-margin ng-binding']\")\n",
    "for i in time:\n",
    "    time_note.append(i.text)"
   ]
  },
  {
   "cell_type": "code",
   "execution_count": 80,
   "id": "1cd8e482",
   "metadata": {},
   "outputs": [
    {
     "data": {
      "text/plain": [
       "['3:00 PM BST',\n",
       " '3:00 PM BST',\n",
       " '2:30 PM BST',\n",
       " '2:30 PM BST',\n",
       " '2:30 PM BST',\n",
       " '3:30 PM BST',\n",
       " '3:30 PM BST',\n",
       " '3:30 PM BST']"
      ]
     },
     "execution_count": 80,
     "metadata": {},
     "output_type": "execute_result"
    }
   ],
   "source": [
    "time_note"
   ]
  },
  {
   "cell_type": "code",
   "execution_count": 81,
   "id": "434a1aa9",
   "metadata": {},
   "outputs": [],
   "source": [
    "import pandas as pd\n",
    "df = pd.DataFrame({'Match' : match_title, 'Series' : series, 'Place' : place, 'Date' : date, 'Time' : time_note})"
   ]
  },
  {
   "cell_type": "code",
   "execution_count": 82,
   "id": "82ba0c69",
   "metadata": {},
   "outputs": [
    {
     "data": {
      "text/html": [
       "<div>\n",
       "<style scoped>\n",
       "    .dataframe tbody tr th:only-of-type {\n",
       "        vertical-align: middle;\n",
       "    }\n",
       "\n",
       "    .dataframe tbody tr th {\n",
       "        vertical-align: top;\n",
       "    }\n",
       "\n",
       "    .dataframe thead th {\n",
       "        text-align: right;\n",
       "    }\n",
       "</style>\n",
       "<table border=\"1\" class=\"dataframe\">\n",
       "  <thead>\n",
       "    <tr style=\"text-align: right;\">\n",
       "      <th></th>\n",
       "      <th>Match</th>\n",
       "      <th>Series</th>\n",
       "      <th>Place</th>\n",
       "      <th>Date</th>\n",
       "      <th>Time</th>\n",
       "    </tr>\n",
       "  </thead>\n",
       "  <tbody>\n",
       "    <tr>\n",
       "      <th>0</th>\n",
       "      <td>West Indies\\nvs\\nIndia</td>\n",
       "      <td>1st Test -</td>\n",
       "      <td>1st Test - Windsor Park, Dominica</td>\n",
       "      <td>12 JUL 2023</td>\n",
       "      <td>3:00 PM BST</td>\n",
       "    </tr>\n",
       "    <tr>\n",
       "      <th>1</th>\n",
       "      <td>West Indies\\nvs\\nIndia</td>\n",
       "      <td>2nd Test -</td>\n",
       "      <td>2nd Test - Queen's Park Oval, Trinidad</td>\n",
       "      <td>20 JUL 2023</td>\n",
       "      <td>3:00 PM BST</td>\n",
       "    </tr>\n",
       "    <tr>\n",
       "      <th>2</th>\n",
       "      <td>West Indies\\nvs\\nIndia</td>\n",
       "      <td>1st ODI -</td>\n",
       "      <td>1st ODI - Kensington Oval, Barbados</td>\n",
       "      <td>27 JUL 2023</td>\n",
       "      <td>2:30 PM BST</td>\n",
       "    </tr>\n",
       "    <tr>\n",
       "      <th>3</th>\n",
       "      <td>West Indies\\nvs\\nIndia</td>\n",
       "      <td>2nd ODI -</td>\n",
       "      <td>2nd ODI - Kensington Oval, Barbados</td>\n",
       "      <td>29 JUL 2023</td>\n",
       "      <td>2:30 PM BST</td>\n",
       "    </tr>\n",
       "    <tr>\n",
       "      <th>4</th>\n",
       "      <td>West Indies\\nvs\\nIndia</td>\n",
       "      <td>3rd ODI -</td>\n",
       "      <td>3rd ODI - Brian Lara Stadium, Trinidad</td>\n",
       "      <td>1 AUG 2023</td>\n",
       "      <td>2:30 PM BST</td>\n",
       "    </tr>\n",
       "    <tr>\n",
       "      <th>5</th>\n",
       "      <td>West Indies\\nvs\\nIndia</td>\n",
       "      <td>1st T20I -</td>\n",
       "      <td>1st T20I - Brian Lara Stadium, Trinidad</td>\n",
       "      <td>3 AUG 2023</td>\n",
       "      <td>3:30 PM BST</td>\n",
       "    </tr>\n",
       "    <tr>\n",
       "      <th>6</th>\n",
       "      <td>West Indies\\nvs\\nIndia</td>\n",
       "      <td>2nd T20I -</td>\n",
       "      <td>2nd T20I - National Stadium, Guyana</td>\n",
       "      <td>6 AUG 2023</td>\n",
       "      <td>3:30 PM BST</td>\n",
       "    </tr>\n",
       "    <tr>\n",
       "      <th>7</th>\n",
       "      <td>West Indies\\nvs\\nIndia</td>\n",
       "      <td>3rd T20I -</td>\n",
       "      <td>3rd T20I - National Stadium, Guyana</td>\n",
       "      <td>8 AUG 2023</td>\n",
       "      <td>3:30 PM BST</td>\n",
       "    </tr>\n",
       "  </tbody>\n",
       "</table>\n",
       "</div>"
      ],
      "text/plain": [
       "                    Match      Series  \\\n",
       "0  West Indies\\nvs\\nIndia  1st Test -   \n",
       "1  West Indies\\nvs\\nIndia  2nd Test -   \n",
       "2  West Indies\\nvs\\nIndia   1st ODI -   \n",
       "3  West Indies\\nvs\\nIndia   2nd ODI -   \n",
       "4  West Indies\\nvs\\nIndia   3rd ODI -   \n",
       "5  West Indies\\nvs\\nIndia  1st T20I -   \n",
       "6  West Indies\\nvs\\nIndia  2nd T20I -   \n",
       "7  West Indies\\nvs\\nIndia  3rd T20I -   \n",
       "\n",
       "                                     Place         Date         Time  \n",
       "0        1st Test - Windsor Park, Dominica  12 JUL 2023  3:00 PM BST  \n",
       "1   2nd Test - Queen's Park Oval, Trinidad  20 JUL 2023  3:00 PM BST  \n",
       "2      1st ODI - Kensington Oval, Barbados  27 JUL 2023  2:30 PM BST  \n",
       "3      2nd ODI - Kensington Oval, Barbados  29 JUL 2023  2:30 PM BST  \n",
       "4   3rd ODI - Brian Lara Stadium, Trinidad   1 AUG 2023  2:30 PM BST  \n",
       "5  1st T20I - Brian Lara Stadium, Trinidad   3 AUG 2023  3:30 PM BST  \n",
       "6      2nd T20I - National Stadium, Guyana   6 AUG 2023  3:30 PM BST  \n",
       "7      3rd T20I - National Stadium, Guyana   8 AUG 2023  3:30 PM BST  "
      ]
     },
     "execution_count": 82,
     "metadata": {},
     "output_type": "execute_result"
    }
   ],
   "source": [
    "df"
   ]
  },
  {
   "cell_type": "markdown",
   "id": "b1b5e0d8",
   "metadata": {},
   "source": [
    "3.Scrape the details of State-wise GDP ofIndia fromstatisticstime.com. \n",
    "Url = http://statisticstimes.com/\n",
    "You have to find following details:\n",
    "A) Rank\n",
    "B) State\n",
    "C) GSDP(18-19)- at current prices\n",
    "D) GSDP(19-20)- at current prices\n",
    "E) Share(18-19)\n",
    "F) GDP($ billion)\n",
    "Note: - From statisticstimes home page you have to reach to economy page through code."
   ]
  },
  {
   "cell_type": "code",
   "execution_count": 112,
   "id": "3b237d3f",
   "metadata": {},
   "outputs": [],
   "source": [
    "#connect to the driver\n",
    "driver = webdriver.Chrome(r\"C:\\Users\\tadis\\OneDrive\\Desktop\\FRT Internship\\chromedriver_win32\\chromedriver.exe\")"
   ]
  },
  {
   "cell_type": "code",
   "execution_count": 113,
   "id": "3437c043",
   "metadata": {},
   "outputs": [],
   "source": [
    "#opening statistics times webite\n",
    "driver.get(\"https://www.statisticstimes.com/\")\n",
    "time.sleep(1)"
   ]
  },
  {
   "cell_type": "code",
   "execution_count": 114,
   "id": "49fcf48d",
   "metadata": {},
   "outputs": [],
   "source": [
    "# clicking on Economy button\n",
    "driver.find_element(By.XPATH,\"//div[@class='navbar']/div[2]/button\").click()"
   ]
  },
  {
   "cell_type": "code",
   "execution_count": 115,
   "id": "aa4d8413",
   "metadata": {},
   "outputs": [],
   "source": [
    "# clicking on India\n",
    "driver.find_element(By.XPATH,\"//div[@class='dropdown-content']/a[3]\").click()\n",
    "time.sleep(3)"
   ]
  },
  {
   "cell_type": "code",
   "execution_count": 117,
   "id": "6d9d4025",
   "metadata": {},
   "outputs": [],
   "source": [
    "# clicking on GDP of Indian Economy\n",
    "GDP = driver.find_element(By.XPATH,\"/html/body/div[2]/div[2]/div[2]/ul/li[1]/a\").click()\n",
    "time.sleep(3)"
   ]
  },
  {
   "cell_type": "code",
   "execution_count": 118,
   "id": "3b589284",
   "metadata": {},
   "outputs": [],
   "source": [
    "rank = []\n",
    "state = []\n",
    "GSDP1 = []\n",
    "GSDP2 = []\n",
    "share = []\n",
    "GDP_billion = []"
   ]
  },
  {
   "cell_type": "code",
   "execution_count": 119,
   "id": "41b07e26",
   "metadata": {},
   "outputs": [],
   "source": [
    "# scraping Rank\n",
    "try:\n",
    "    for i in driver.find_elements(By.XPATH,\"//table[@class='display dataTable']/tbody/tr/td[1]\"):\n",
    "        rank.append(i.text)\n",
    "except NoSuchElementException:\n",
    "    rank.append(\"_\")"
   ]
  },
  {
   "cell_type": "code",
   "execution_count": 120,
   "id": "27d2fee2",
   "metadata": {},
   "outputs": [],
   "source": [
    "# scraping State\n",
    "try:\n",
    "    for i in driver.find_elements(By.XPATH,\"//table[@class='display dataTable']/tbody/tr/td[2]\"):\n",
    "        state.append(i.text)\n",
    "except NoSuchElementException:\n",
    "    state.append(\"_\")"
   ]
  },
  {
   "cell_type": "code",
   "execution_count": 122,
   "id": "5f696081",
   "metadata": {},
   "outputs": [],
   "source": [
    "# scraping GSDP at current price (19-20)\n",
    "try:\n",
    "    for i in driver.find_elements(By.XPATH,\"//table[@class='display dataTable']/tbody/tr/td[3]\"):\n",
    "        GSDP1.append(i.text)\n",
    "except NoSuchElementException:\n",
    "    GSDP1.append(\"_\")"
   ]
  },
  {
   "cell_type": "code",
   "execution_count": 123,
   "id": "05ecc539",
   "metadata": {},
   "outputs": [],
   "source": [
    "# scraping GSDP at current price (18-19)\n",
    "try:\n",
    "    for i in driver.find_elements(By.XPATH,\"//table[@class='display dataTable']/tbody/tr/td[4]\"):\n",
    "        GSDP2.append(i.text)\n",
    "except NoSuchElementException:\n",
    "    GSDP2.append(\"_\")"
   ]
  },
  {
   "cell_type": "code",
   "execution_count": 124,
   "id": "1a780a14",
   "metadata": {},
   "outputs": [],
   "source": [
    "# scraping Share (18-19)\n",
    "try:\n",
    "    for i in driver.find_elements(By.XPATH,\"//table[@class='display dataTable']/tbody/tr/td[5]\"):\n",
    "        share.append(i.text)\n",
    "except NoSuchElementException:\n",
    "    share.append(\"_\")"
   ]
  },
  {
   "cell_type": "code",
   "execution_count": 125,
   "id": "d87e5815",
   "metadata": {},
   "outputs": [],
   "source": [
    "# scraping GDP $ billion\n",
    "try:\n",
    "    for i in driver.find_elements(By.XPATH,\"//table[@class='display dataTable']/tbody/tr/td[6]\"):\n",
    "        GDP_billion.append(i.text)\n",
    "except NoSuchElementException:\n",
    "    GDP_billion.append(\"_\")"
   ]
  },
  {
   "cell_type": "code",
   "execution_count": 126,
   "id": "54349673",
   "metadata": {},
   "outputs": [],
   "source": [
    "import pandas as pd\n",
    "df = pd.DataFrame({'Rank' : rank , 'State' : state, 'GSDP1' : GSDP1 , 'GSDP2' : GSDP2, 'Share' : share, 'GDP_billion' : GDP_billion })"
   ]
  },
  {
   "cell_type": "code",
   "execution_count": 127,
   "id": "6c2dabd9",
   "metadata": {},
   "outputs": [
    {
     "data": {
      "text/html": [
       "<div>\n",
       "<style scoped>\n",
       "    .dataframe tbody tr th:only-of-type {\n",
       "        vertical-align: middle;\n",
       "    }\n",
       "\n",
       "    .dataframe tbody tr th {\n",
       "        vertical-align: top;\n",
       "    }\n",
       "\n",
       "    .dataframe thead th {\n",
       "        text-align: right;\n",
       "    }\n",
       "</style>\n",
       "<table border=\"1\" class=\"dataframe\">\n",
       "  <thead>\n",
       "    <tr style=\"text-align: right;\">\n",
       "      <th></th>\n",
       "      <th>Rank</th>\n",
       "      <th>State</th>\n",
       "      <th>GSDP1</th>\n",
       "      <th>GSDP2</th>\n",
       "      <th>Share</th>\n",
       "      <th>GDP_billion</th>\n",
       "    </tr>\n",
       "  </thead>\n",
       "  <tbody>\n",
       "    <tr>\n",
       "      <th>0</th>\n",
       "      <td>1</td>\n",
       "      <td>Maharashtra</td>\n",
       "      <td>-</td>\n",
       "      <td>2,632,792</td>\n",
       "      <td>13.94%</td>\n",
       "      <td>399.921</td>\n",
       "    </tr>\n",
       "    <tr>\n",
       "      <th>1</th>\n",
       "      <td>2</td>\n",
       "      <td>Tamil Nadu</td>\n",
       "      <td>1,845,853</td>\n",
       "      <td>1,630,208</td>\n",
       "      <td>8.63%</td>\n",
       "      <td>247.629</td>\n",
       "    </tr>\n",
       "    <tr>\n",
       "      <th>2</th>\n",
       "      <td>3</td>\n",
       "      <td>Uttar Pradesh</td>\n",
       "      <td>1,687,818</td>\n",
       "      <td>1,584,764</td>\n",
       "      <td>8.39%</td>\n",
       "      <td>240.726</td>\n",
       "    </tr>\n",
       "    <tr>\n",
       "      <th>3</th>\n",
       "      <td>4</td>\n",
       "      <td>Gujarat</td>\n",
       "      <td>-</td>\n",
       "      <td>1,502,899</td>\n",
       "      <td>7.96%</td>\n",
       "      <td>228.290</td>\n",
       "    </tr>\n",
       "    <tr>\n",
       "      <th>4</th>\n",
       "      <td>5</td>\n",
       "      <td>Karnataka</td>\n",
       "      <td>1,631,977</td>\n",
       "      <td>1,493,127</td>\n",
       "      <td>7.91%</td>\n",
       "      <td>226.806</td>\n",
       "    </tr>\n",
       "    <tr>\n",
       "      <th>...</th>\n",
       "      <td>...</td>\n",
       "      <td>...</td>\n",
       "      <td>...</td>\n",
       "      <td>...</td>\n",
       "      <td>...</td>\n",
       "      <td>...</td>\n",
       "    </tr>\n",
       "    <tr>\n",
       "      <th>61</th>\n",
       "      <td>29</td>\n",
       "      <td>Sikkim</td>\n",
       "      <td>28,391</td>\n",
       "      <td>25,141</td>\n",
       "      <td>0.15%</td>\n",
       "      <td>17,060</td>\n",
       "    </tr>\n",
       "    <tr>\n",
       "      <th>62</th>\n",
       "      <td>30</td>\n",
       "      <td>Nagaland</td>\n",
       "      <td>-</td>\n",
       "      <td>24,534</td>\n",
       "      <td>0.15%</td>\n",
       "      <td>-</td>\n",
       "    </tr>\n",
       "    <tr>\n",
       "      <th>63</th>\n",
       "      <td>31</td>\n",
       "      <td>Arunachal Pradesh</td>\n",
       "      <td>-</td>\n",
       "      <td>22,488</td>\n",
       "      <td>0.13%</td>\n",
       "      <td>-</td>\n",
       "    </tr>\n",
       "    <tr>\n",
       "      <th>64</th>\n",
       "      <td>32</td>\n",
       "      <td>Mizoram</td>\n",
       "      <td>24,424</td>\n",
       "      <td>20,947</td>\n",
       "      <td>0.13%</td>\n",
       "      <td>17,797</td>\n",
       "    </tr>\n",
       "    <tr>\n",
       "      <th>65</th>\n",
       "      <td>33</td>\n",
       "      <td>Andaman &amp; Nicobar Islands</td>\n",
       "      <td>-</td>\n",
       "      <td>-</td>\n",
       "      <td>-</td>\n",
       "      <td>-</td>\n",
       "    </tr>\n",
       "  </tbody>\n",
       "</table>\n",
       "<p>66 rows × 6 columns</p>\n",
       "</div>"
      ],
      "text/plain": [
       "   Rank                      State      GSDP1      GSDP2   Share GDP_billion\n",
       "0     1                Maharashtra          -  2,632,792  13.94%     399.921\n",
       "1     2                 Tamil Nadu  1,845,853  1,630,208   8.63%     247.629\n",
       "2     3              Uttar Pradesh  1,687,818  1,584,764   8.39%     240.726\n",
       "3     4                    Gujarat          -  1,502,899   7.96%     228.290\n",
       "4     5                  Karnataka  1,631,977  1,493,127   7.91%     226.806\n",
       "..  ...                        ...        ...        ...     ...         ...\n",
       "61   29                     Sikkim     28,391     25,141   0.15%      17,060\n",
       "62   30                   Nagaland          -     24,534   0.15%           -\n",
       "63   31          Arunachal Pradesh          -     22,488   0.13%           -\n",
       "64   32                    Mizoram     24,424     20,947   0.13%      17,797\n",
       "65   33  Andaman & Nicobar Islands          -          -       -           -\n",
       "\n",
       "[66 rows x 6 columns]"
      ]
     },
     "execution_count": 127,
     "metadata": {},
     "output_type": "execute_result"
    }
   ],
   "source": [
    "df"
   ]
  },
  {
   "cell_type": "markdown",
   "id": "7208aea6",
   "metadata": {},
   "source": [
    "4.Scrape the details of trending repositories on Github.com. \n",
    "Url = https://github.com/\n",
    "You have to find the following details:\n",
    "A) Repository title\n",
    "B) Repository description\n",
    "C) Contributors count\n",
    "D) Language used\n",
    "Note: - From the home page you have to click on the trending option from Explore menu through code."
   ]
  },
  {
   "cell_type": "code",
   "execution_count": 19,
   "id": "3891c2bc",
   "metadata": {},
   "outputs": [],
   "source": [
    "#connect to the dri#connect to the driver\n",
    "driver = webdriver.Chrome(r\"C:\\Users\\tadis\\OneDrive\\Desktop\\FRT Internship\\chromedriver_win32\\chromedriver.exe\")"
   ]
  },
  {
   "cell_type": "code",
   "execution_count": 20,
   "id": "5f1debbc",
   "metadata": {},
   "outputs": [],
   "source": [
    "#opening statistics times webite\n",
    "driver.get(\"https://github.com/\")\n",
    "time.sleep(1)"
   ]
  },
  {
   "cell_type": "code",
   "execution_count": 21,
   "id": "62f190bb",
   "metadata": {},
   "outputs": [],
   "source": [
    "# getting explore button and clicking on it\n",
    "explore = driver.find_element(By.XPATH,\"/html/body/div[1]/div[1]/header/div/div[2]/div/nav/ul/li[3]/button\").click()"
   ]
  },
  {
   "cell_type": "code",
   "execution_count": 22,
   "id": "9c0c7079",
   "metadata": {},
   "outputs": [],
   "source": [
    "# selecting trending option\n",
    "trend_url = driver.find_element(By.XPATH,\"/html/body/div[1]/div[1]/header/div/div[2]/div/nav/ul/li[3]/div/div[3]/ul/li[2]/a\")\n",
    "urls = trend_url.get_attribute(\"href\")\n",
    "driver.get(urls)"
   ]
  },
  {
   "cell_type": "code",
   "execution_count": 23,
   "id": "e9ff15b4",
   "metadata": {},
   "outputs": [],
   "source": [
    "# creating empty list\n",
    "URLs = []\n",
    "repository_title = []\n",
    "description = []\n",
    "contributors = []\n",
    "language = []\n",
    "lang = []"
   ]
  },
  {
   "cell_type": "code",
   "execution_count": 24,
   "id": "9f3a5efb",
   "metadata": {},
   "outputs": [],
   "source": [
    "# fetching urls for each repository\n",
    "repository = driver.find_elements(By.XPATH,\"//h2[@class = 'h3 lh-condensed']/a \")\n",
    "for i in repository:\n",
    "    URLs.append(i.get_attribute(\"href\"))\n",
    "\n",
    "# scraping Repository title data\n",
    "title = driver.find_elements(By.XPATH,\"//h2[@class = 'h3 lh-condensed']/a \")\n",
    "for i in title:\n",
    "    repository_title.append(i.text)"
   ]
  },
  {
   "cell_type": "code",
   "execution_count": 25,
   "id": "e0936ba7",
   "metadata": {},
   "outputs": [],
   "source": [
    "# scraping Repository description\n",
    "desc = driver.find_elements(By.XPATH,\"//h2[@class = 'h3 lh-condensed']/a \")\n",
    "for i in desc:\n",
    "    description.append(i.text)"
   ]
  },
  {
   "cell_type": "code",
   "execution_count": 26,
   "id": "8a687f07",
   "metadata": {},
   "outputs": [
    {
     "data": {
      "text/plain": [
       "25"
      ]
     },
     "execution_count": 26,
     "metadata": {},
     "output_type": "execute_result"
    }
   ],
   "source": [
    "len(description)"
   ]
  },
  {
   "cell_type": "code",
   "execution_count": 28,
   "id": "89619d18",
   "metadata": {},
   "outputs": [],
   "source": [
    "for i in URLs:\n",
    "    driver.get(i)\n",
    "    time.sleep(5)\n",
    "    \n",
    "    #Scraping contributors count-\n",
    "\n",
    "    try:\n",
    "\n",
    "        cont_tags = driver.find_element(By.XPATH,\"//span[@class='Counter ml-1']\")\n",
    "\n",
    "        contributors.append(cont_tags.text.replace('Contributors',''))\n",
    "\n",
    "    except NoSuchElementException:\n",
    "\n",
    "        contributors.append('-')\n",
    "    \n",
    "# scraping Languages used data\n",
    "    try:\n",
    "        for i in driver.find_elements(By.XPATH,\"//ul[@class= 'list-style-none']//li//span[1]\"):\n",
    "            lang.append(i.text)\n",
    "        language.append(lang)\n",
    "    except NoSuchElementException:\n",
    "        language.append('-')"
   ]
  },
  {
   "cell_type": "code",
   "execution_count": 29,
   "id": "271ca55b",
   "metadata": {},
   "outputs": [
    {
     "data": {
      "text/plain": [
       "25"
      ]
     },
     "execution_count": 29,
     "metadata": {},
     "output_type": "execute_result"
    }
   ],
   "source": [
    "len(contributors)"
   ]
  },
  {
   "cell_type": "code",
   "execution_count": 30,
   "id": "7cdfa391",
   "metadata": {},
   "outputs": [
    {
     "data": {
      "text/plain": [
       "25"
      ]
     },
     "execution_count": 30,
     "metadata": {},
     "output_type": "execute_result"
    }
   ],
   "source": [
    "len(language)"
   ]
  },
  {
   "cell_type": "code",
   "execution_count": 33,
   "id": "54a0b68e",
   "metadata": {},
   "outputs": [],
   "source": [
    "import pandas as pd\n",
    "df = pd.DataFrame({'Git Link' : URLs , 'Repository Title' : repository_title, 'Description' : description , 'Contributors' : contributors, 'Language' : language })"
   ]
  },
  {
   "cell_type": "code",
   "execution_count": 34,
   "id": "cc431781",
   "metadata": {},
   "outputs": [
    {
     "data": {
      "text/html": [
       "<div>\n",
       "<style scoped>\n",
       "    .dataframe tbody tr th:only-of-type {\n",
       "        vertical-align: middle;\n",
       "    }\n",
       "\n",
       "    .dataframe tbody tr th {\n",
       "        vertical-align: top;\n",
       "    }\n",
       "\n",
       "    .dataframe thead th {\n",
       "        text-align: right;\n",
       "    }\n",
       "</style>\n",
       "<table border=\"1\" class=\"dataframe\">\n",
       "  <thead>\n",
       "    <tr style=\"text-align: right;\">\n",
       "      <th></th>\n",
       "      <th>Git Link</th>\n",
       "      <th>Repository Title</th>\n",
       "      <th>Description</th>\n",
       "      <th>Contributors</th>\n",
       "      <th>Language</th>\n",
       "    </tr>\n",
       "  </thead>\n",
       "  <tbody>\n",
       "    <tr>\n",
       "      <th>0</th>\n",
       "      <td>https://github.com/XingangPan/DragGAN</td>\n",
       "      <td>XingangPan / DragGAN</td>\n",
       "      <td>XingangPan / DragGAN</td>\n",
       "      <td></td>\n",
       "      <td>[Python, Cuda, C++, Other\\n0.3%, Other, Python...</td>\n",
       "    </tr>\n",
       "    <tr>\n",
       "      <th>1</th>\n",
       "      <td>https://github.com/THUDM/ChatGLM2-6B</td>\n",
       "      <td>THUDM / ChatGLM2-6B</td>\n",
       "      <td>THUDM / ChatGLM2-6B</td>\n",
       "      <td></td>\n",
       "      <td>[Python, Cuda, C++, Other\\n0.3%, Other, Python...</td>\n",
       "    </tr>\n",
       "    <tr>\n",
       "      <th>2</th>\n",
       "      <td>https://github.com/CASIA-IVA-Lab/FastSAM</td>\n",
       "      <td>CASIA-IVA-Lab / FastSAM</td>\n",
       "      <td>CASIA-IVA-Lab / FastSAM</td>\n",
       "      <td></td>\n",
       "      <td>[Python, Cuda, C++, Other\\n0.3%, Other, Python...</td>\n",
       "    </tr>\n",
       "    <tr>\n",
       "      <th>3</th>\n",
       "      <td>https://github.com/ramonvc/freegpt-webui</td>\n",
       "      <td>ramonvc / freegpt-webui</td>\n",
       "      <td>ramonvc / freegpt-webui</td>\n",
       "      <td>3</td>\n",
       "      <td>[Python, Cuda, C++, Other\\n0.3%, Other, Python...</td>\n",
       "    </tr>\n",
       "    <tr>\n",
       "      <th>4</th>\n",
       "      <td>https://github.com/embedchain/embedchain</td>\n",
       "      <td>embedchain / embedchain</td>\n",
       "      <td>embedchain / embedchain</td>\n",
       "      <td></td>\n",
       "      <td>[Python, Cuda, C++, Other\\n0.3%, Other, Python...</td>\n",
       "    </tr>\n",
       "    <tr>\n",
       "      <th>5</th>\n",
       "      <td>https://github.com/spacedriveapp/spacedrive</td>\n",
       "      <td>spacedriveapp / spacedrive</td>\n",
       "      <td>spacedriveapp / spacedrive</td>\n",
       "      <td>64</td>\n",
       "      <td>[Python, Cuda, C++, Other\\n0.3%, Other, Python...</td>\n",
       "    </tr>\n",
       "    <tr>\n",
       "      <th>6</th>\n",
       "      <td>https://github.com/xitanggg/open-resume</td>\n",
       "      <td>xitanggg / open-resume</td>\n",
       "      <td>xitanggg / open-resume</td>\n",
       "      <td></td>\n",
       "      <td>[Python, Cuda, C++, Other\\n0.3%, Other, Python...</td>\n",
       "    </tr>\n",
       "    <tr>\n",
       "      <th>7</th>\n",
       "      <td>https://github.com/papers-we-love/papers-we-love</td>\n",
       "      <td>papers-we-love / papers-we-love</td>\n",
       "      <td>papers-we-love / papers-we-love</td>\n",
       "      <td></td>\n",
       "      <td>[Python, Cuda, C++, Other\\n0.3%, Other, Python...</td>\n",
       "    </tr>\n",
       "    <tr>\n",
       "      <th>8</th>\n",
       "      <td>https://github.com/sadmann7/skateshop</td>\n",
       "      <td>sadmann7 / skateshop</td>\n",
       "      <td>sadmann7 / skateshop</td>\n",
       "      <td></td>\n",
       "      <td>[Python, Cuda, C++, Other\\n0.3%, Other, Python...</td>\n",
       "    </tr>\n",
       "    <tr>\n",
       "      <th>9</th>\n",
       "      <td>https://github.com/microsoft/Web-Dev-For-Begin...</td>\n",
       "      <td>microsoft / Web-Dev-For-Beginners</td>\n",
       "      <td>microsoft / Web-Dev-For-Beginners</td>\n",
       "      <td></td>\n",
       "      <td>[Python, Cuda, C++, Other\\n0.3%, Other, Python...</td>\n",
       "    </tr>\n",
       "    <tr>\n",
       "      <th>10</th>\n",
       "      <td>https://github.com/sb-ocr/diy-spacemouse</td>\n",
       "      <td>sb-ocr / diy-spacemouse</td>\n",
       "      <td>sb-ocr / diy-spacemouse</td>\n",
       "      <td></td>\n",
       "      <td>[Python, Cuda, C++, Other\\n0.3%, Other, Python...</td>\n",
       "    </tr>\n",
       "    <tr>\n",
       "      <th>11</th>\n",
       "      <td>https://github.com/THUDM/ChatGLM-6B</td>\n",
       "      <td>THUDM / ChatGLM-6B</td>\n",
       "      <td>THUDM / ChatGLM-6B</td>\n",
       "      <td></td>\n",
       "      <td>[Python, Cuda, C++, Other\\n0.3%, Other, Python...</td>\n",
       "    </tr>\n",
       "    <tr>\n",
       "      <th>12</th>\n",
       "      <td>https://github.com/SizheAn/PanoHead</td>\n",
       "      <td>SizheAn / PanoHead</td>\n",
       "      <td>SizheAn / PanoHead</td>\n",
       "      <td></td>\n",
       "      <td>[Python, Cuda, C++, Other\\n0.3%, Other, Python...</td>\n",
       "    </tr>\n",
       "    <tr>\n",
       "      <th>13</th>\n",
       "      <td>https://github.com/PlexPt/awesome-chatgpt-prom...</td>\n",
       "      <td>PlexPt / awesome-chatgpt-prompts-zh</td>\n",
       "      <td>PlexPt / awesome-chatgpt-prompts-zh</td>\n",
       "      <td></td>\n",
       "      <td>[Python, Cuda, C++, Other\\n0.3%, Other, Python...</td>\n",
       "    </tr>\n",
       "    <tr>\n",
       "      <th>14</th>\n",
       "      <td>https://github.com/firstcontributions/first-co...</td>\n",
       "      <td>firstcontributions / first-contributions</td>\n",
       "      <td>firstcontributions / first-contributions</td>\n",
       "      <td>5,000+</td>\n",
       "      <td>[Python, Cuda, C++, Other\\n0.3%, Other, Python...</td>\n",
       "    </tr>\n",
       "    <tr>\n",
       "      <th>15</th>\n",
       "      <td>https://github.com/actualbudget/actual</td>\n",
       "      <td>actualbudget / actual</td>\n",
       "      <td>actualbudget / actual</td>\n",
       "      <td></td>\n",
       "      <td>[Python, Cuda, C++, Other\\n0.3%, Other, Python...</td>\n",
       "    </tr>\n",
       "    <tr>\n",
       "      <th>16</th>\n",
       "      <td>https://github.com/xtekky/gpt4free</td>\n",
       "      <td>xtekky / gpt4free</td>\n",
       "      <td>xtekky / gpt4free</td>\n",
       "      <td>83</td>\n",
       "      <td>[Python, Cuda, C++, Other\\n0.3%, Other, Python...</td>\n",
       "    </tr>\n",
       "    <tr>\n",
       "      <th>17</th>\n",
       "      <td>https://github.com/sveltejs/svelte</td>\n",
       "      <td>sveltejs / svelte</td>\n",
       "      <td>sveltejs / svelte</td>\n",
       "      <td></td>\n",
       "      <td>[Python, Cuda, C++, Other\\n0.3%, Other, Python...</td>\n",
       "    </tr>\n",
       "    <tr>\n",
       "      <th>18</th>\n",
       "      <td>https://github.com/OpenGVLab/DragGAN</td>\n",
       "      <td>OpenGVLab / DragGAN</td>\n",
       "      <td>OpenGVLab / DragGAN</td>\n",
       "      <td>9</td>\n",
       "      <td>[Python, Cuda, C++, Other\\n0.3%, Other, Python...</td>\n",
       "    </tr>\n",
       "    <tr>\n",
       "      <th>19</th>\n",
       "      <td>https://github.com/OpenDriveLab/UniAD</td>\n",
       "      <td>OpenDriveLab / UniAD</td>\n",
       "      <td>OpenDriveLab / UniAD</td>\n",
       "      <td>6</td>\n",
       "      <td>[Python, Cuda, C++, Other\\n0.3%, Other, Python...</td>\n",
       "    </tr>\n",
       "    <tr>\n",
       "      <th>20</th>\n",
       "      <td>https://github.com/qgis/QGIS</td>\n",
       "      <td>qgis / QGIS</td>\n",
       "      <td>qgis / QGIS</td>\n",
       "      <td>26</td>\n",
       "      <td>[Python, Cuda, C++, Other\\n0.3%, Other, Python...</td>\n",
       "    </tr>\n",
       "    <tr>\n",
       "      <th>21</th>\n",
       "      <td>https://github.com/chat2db/Chat2DB</td>\n",
       "      <td>chat2db / Chat2DB</td>\n",
       "      <td>chat2db / Chat2DB</td>\n",
       "      <td></td>\n",
       "      <td>[Python, Cuda, C++, Other\\n0.3%, Other, Python...</td>\n",
       "    </tr>\n",
       "    <tr>\n",
       "      <th>22</th>\n",
       "      <td>https://github.com/Kanaries/pygwalker</td>\n",
       "      <td>Kanaries / pygwalker</td>\n",
       "      <td>Kanaries / pygwalker</td>\n",
       "      <td>11</td>\n",
       "      <td>[Python, Cuda, C++, Other\\n0.3%, Other, Python...</td>\n",
       "    </tr>\n",
       "    <tr>\n",
       "      <th>23</th>\n",
       "      <td>https://github.com/ggerganov/ggml</td>\n",
       "      <td>ggerganov / ggml</td>\n",
       "      <td>ggerganov / ggml</td>\n",
       "      <td></td>\n",
       "      <td>[Python, Cuda, C++, Other\\n0.3%, Other, Python...</td>\n",
       "    </tr>\n",
       "    <tr>\n",
       "      <th>24</th>\n",
       "      <td>https://github.com/StanGirard/quivr</td>\n",
       "      <td>StanGirard / quivr</td>\n",
       "      <td>StanGirard / quivr</td>\n",
       "      <td></td>\n",
       "      <td>[Python, Cuda, C++, Other\\n0.3%, Other, Python...</td>\n",
       "    </tr>\n",
       "  </tbody>\n",
       "</table>\n",
       "</div>"
      ],
      "text/plain": [
       "                                             Git Link  \\\n",
       "0               https://github.com/XingangPan/DragGAN   \n",
       "1                https://github.com/THUDM/ChatGLM2-6B   \n",
       "2            https://github.com/CASIA-IVA-Lab/FastSAM   \n",
       "3            https://github.com/ramonvc/freegpt-webui   \n",
       "4            https://github.com/embedchain/embedchain   \n",
       "5         https://github.com/spacedriveapp/spacedrive   \n",
       "6             https://github.com/xitanggg/open-resume   \n",
       "7    https://github.com/papers-we-love/papers-we-love   \n",
       "8               https://github.com/sadmann7/skateshop   \n",
       "9   https://github.com/microsoft/Web-Dev-For-Begin...   \n",
       "10           https://github.com/sb-ocr/diy-spacemouse   \n",
       "11                https://github.com/THUDM/ChatGLM-6B   \n",
       "12                https://github.com/SizheAn/PanoHead   \n",
       "13  https://github.com/PlexPt/awesome-chatgpt-prom...   \n",
       "14  https://github.com/firstcontributions/first-co...   \n",
       "15             https://github.com/actualbudget/actual   \n",
       "16                 https://github.com/xtekky/gpt4free   \n",
       "17                 https://github.com/sveltejs/svelte   \n",
       "18               https://github.com/OpenGVLab/DragGAN   \n",
       "19              https://github.com/OpenDriveLab/UniAD   \n",
       "20                       https://github.com/qgis/QGIS   \n",
       "21                 https://github.com/chat2db/Chat2DB   \n",
       "22              https://github.com/Kanaries/pygwalker   \n",
       "23                  https://github.com/ggerganov/ggml   \n",
       "24                https://github.com/StanGirard/quivr   \n",
       "\n",
       "                            Repository Title  \\\n",
       "0                       XingangPan / DragGAN   \n",
       "1                        THUDM / ChatGLM2-6B   \n",
       "2                    CASIA-IVA-Lab / FastSAM   \n",
       "3                    ramonvc / freegpt-webui   \n",
       "4                    embedchain / embedchain   \n",
       "5                 spacedriveapp / spacedrive   \n",
       "6                     xitanggg / open-resume   \n",
       "7            papers-we-love / papers-we-love   \n",
       "8                       sadmann7 / skateshop   \n",
       "9          microsoft / Web-Dev-For-Beginners   \n",
       "10                   sb-ocr / diy-spacemouse   \n",
       "11                        THUDM / ChatGLM-6B   \n",
       "12                        SizheAn / PanoHead   \n",
       "13       PlexPt / awesome-chatgpt-prompts-zh   \n",
       "14  firstcontributions / first-contributions   \n",
       "15                     actualbudget / actual   \n",
       "16                         xtekky / gpt4free   \n",
       "17                         sveltejs / svelte   \n",
       "18                       OpenGVLab / DragGAN   \n",
       "19                      OpenDriveLab / UniAD   \n",
       "20                               qgis / QGIS   \n",
       "21                         chat2db / Chat2DB   \n",
       "22                      Kanaries / pygwalker   \n",
       "23                          ggerganov / ggml   \n",
       "24                        StanGirard / quivr   \n",
       "\n",
       "                                 Description Contributors  \\\n",
       "0                       XingangPan / DragGAN                \n",
       "1                        THUDM / ChatGLM2-6B                \n",
       "2                    CASIA-IVA-Lab / FastSAM                \n",
       "3                    ramonvc / freegpt-webui            3   \n",
       "4                    embedchain / embedchain                \n",
       "5                 spacedriveapp / spacedrive           64   \n",
       "6                     xitanggg / open-resume                \n",
       "7            papers-we-love / papers-we-love                \n",
       "8                       sadmann7 / skateshop                \n",
       "9          microsoft / Web-Dev-For-Beginners                \n",
       "10                   sb-ocr / diy-spacemouse                \n",
       "11                        THUDM / ChatGLM-6B                \n",
       "12                        SizheAn / PanoHead                \n",
       "13       PlexPt / awesome-chatgpt-prompts-zh                \n",
       "14  firstcontributions / first-contributions       5,000+   \n",
       "15                     actualbudget / actual                \n",
       "16                         xtekky / gpt4free           83   \n",
       "17                         sveltejs / svelte                \n",
       "18                       OpenGVLab / DragGAN            9   \n",
       "19                      OpenDriveLab / UniAD            6   \n",
       "20                               qgis / QGIS           26   \n",
       "21                         chat2db / Chat2DB                \n",
       "22                      Kanaries / pygwalker           11   \n",
       "23                          ggerganov / ggml                \n",
       "24                        StanGirard / quivr                \n",
       "\n",
       "                                             Language  \n",
       "0   [Python, Cuda, C++, Other\\n0.3%, Other, Python...  \n",
       "1   [Python, Cuda, C++, Other\\n0.3%, Other, Python...  \n",
       "2   [Python, Cuda, C++, Other\\n0.3%, Other, Python...  \n",
       "3   [Python, Cuda, C++, Other\\n0.3%, Other, Python...  \n",
       "4   [Python, Cuda, C++, Other\\n0.3%, Other, Python...  \n",
       "5   [Python, Cuda, C++, Other\\n0.3%, Other, Python...  \n",
       "6   [Python, Cuda, C++, Other\\n0.3%, Other, Python...  \n",
       "7   [Python, Cuda, C++, Other\\n0.3%, Other, Python...  \n",
       "8   [Python, Cuda, C++, Other\\n0.3%, Other, Python...  \n",
       "9   [Python, Cuda, C++, Other\\n0.3%, Other, Python...  \n",
       "10  [Python, Cuda, C++, Other\\n0.3%, Other, Python...  \n",
       "11  [Python, Cuda, C++, Other\\n0.3%, Other, Python...  \n",
       "12  [Python, Cuda, C++, Other\\n0.3%, Other, Python...  \n",
       "13  [Python, Cuda, C++, Other\\n0.3%, Other, Python...  \n",
       "14  [Python, Cuda, C++, Other\\n0.3%, Other, Python...  \n",
       "15  [Python, Cuda, C++, Other\\n0.3%, Other, Python...  \n",
       "16  [Python, Cuda, C++, Other\\n0.3%, Other, Python...  \n",
       "17  [Python, Cuda, C++, Other\\n0.3%, Other, Python...  \n",
       "18  [Python, Cuda, C++, Other\\n0.3%, Other, Python...  \n",
       "19  [Python, Cuda, C++, Other\\n0.3%, Other, Python...  \n",
       "20  [Python, Cuda, C++, Other\\n0.3%, Other, Python...  \n",
       "21  [Python, Cuda, C++, Other\\n0.3%, Other, Python...  \n",
       "22  [Python, Cuda, C++, Other\\n0.3%, Other, Python...  \n",
       "23  [Python, Cuda, C++, Other\\n0.3%, Other, Python...  \n",
       "24  [Python, Cuda, C++, Other\\n0.3%, Other, Python...  "
      ]
     },
     "execution_count": 34,
     "metadata": {},
     "output_type": "execute_result"
    }
   ],
   "source": [
    "df"
   ]
  },
  {
   "cell_type": "markdown",
   "id": "44c7a83a",
   "metadata": {},
   "source": [
    "5.Scrape the details of Highest sellingnovels.\n",
    "Url = https://www.theguardian.com/news/datablog/2012/aug/09/best-selling-books-all-time-fifty-shades-grey\u0002compare\n",
    "You have to find the following details:\n",
    "A) Book name\n",
    "B) Author name\n",
    "C) Volumes sold\n",
    "D) Publisher\n",
    "E) Genre\n"
   ]
  },
  {
   "cell_type": "code",
   "execution_count": 52,
   "id": "03f48809",
   "metadata": {},
   "outputs": [],
   "source": [
    "#connect to the dri#connect to the driver\n",
    "driver = webdriver.Chrome(r\"C:\\Users\\tadis\\OneDrive\\Desktop\\FRT Internship\\chromedriver_win32\\chromedriver.exe\")"
   ]
  },
  {
   "cell_type": "code",
   "execution_count": 53,
   "id": "3edcb1b4",
   "metadata": {},
   "outputs": [],
   "source": [
    "url = \"https://www.theguardian.com/news/datablog/2012/aug/09/best-selling-books-all-time-fifty-shades-grey-compare/\"\n",
    "driver.get(url)\n",
    "time.sleep(6)\n",
    "driver.maximize_window()"
   ]
  },
  {
   "cell_type": "code",
   "execution_count": 54,
   "id": "235edfa8",
   "metadata": {},
   "outputs": [],
   "source": [
    "# creating empty lists for scraping data\n",
    "book_name=[]\n",
    "author_name=[]\n",
    "volumes_sold=[]\n",
    "publisher=[]\n",
    "genre=[]"
   ]
  },
  {
   "cell_type": "code",
   "execution_count": 55,
   "id": "abd4d4d6",
   "metadata": {},
   "outputs": [],
   "source": [
    "# Scraping Book_name\n",
    "Book_name=driver.find_elements(By.XPATH,\"//table[@class='in-article sortable']/tbody/tr/td[2]\")\n",
    "for i in Book_name:\n",
    "    if i.text is None:\n",
    "        book_name.append('--')\n",
    "    else:\n",
    "        book_name.append(i.text)"
   ]
  },
  {
   "cell_type": "code",
   "execution_count": 57,
   "id": "c794568a",
   "metadata": {},
   "outputs": [],
   "source": [
    "# Scraping Author_name\n",
    "Author_name=driver.find_elements(By.XPATH,\"//table[@class='in-article sortable']/tbody/tr/td[3]\")\n",
    "for i in Author_name:\n",
    "    if i.text is None:\n",
    "        author_name.append('--')\n",
    "    else:\n",
    "        author_name.append(i.text)"
   ]
  },
  {
   "cell_type": "code",
   "execution_count": 58,
   "id": "701f63e2",
   "metadata": {},
   "outputs": [],
   "source": [
    "# Scraping Volumes_sold\n",
    "Volumes_sold=driver.find_elements(By.XPATH,\"//table[@class='in-article sortable']/tbody/tr/td[4]\")\n",
    "for i in Volumes_sold:\n",
    "    if i.text is None:\n",
    "        volumes_sold.append('--')\n",
    "    else:\n",
    "        volumes_sold.append(i.text)"
   ]
  },
  {
   "cell_type": "code",
   "execution_count": 59,
   "id": "6662dea2",
   "metadata": {},
   "outputs": [],
   "source": [
    "# Scraping Author_name\n",
    "Publisher=driver.find_elements(By.XPATH,\"//table[@class='in-article sortable']/tbody/tr/td[5]\")\n",
    "for i in Publisher:\n",
    "    if i.text is None:\n",
    "        publisher.append('--')\n",
    "    else:\n",
    "        publisher.append(i.text)"
   ]
  },
  {
   "cell_type": "code",
   "execution_count": 60,
   "id": "b1df3b22",
   "metadata": {},
   "outputs": [],
   "source": [
    "Genre=driver.find_elements(By.XPATH,\"//table[@class='in-article sortable']/tbody/tr/td[6]\")\n",
    "for i in Genre:\n",
    "    if i.text is None:\n",
    "        genre.append('--')\n",
    "    else:\n",
    "        genre.append(i.text)"
   ]
  },
  {
   "cell_type": "code",
   "execution_count": 61,
   "id": "7a3d687b",
   "metadata": {},
   "outputs": [],
   "source": [
    "import pandas as pd\n",
    "df = pd.DataFrame({'Book Name' : book_name  , 'Author Name' : author_name, 'Volumes Sold' : volumes_sold , 'Publisher' : publisher, 'Genre' : genre})"
   ]
  },
  {
   "cell_type": "code",
   "execution_count": 62,
   "id": "d631c52f",
   "metadata": {},
   "outputs": [
    {
     "data": {
      "text/html": [
       "<div>\n",
       "<style scoped>\n",
       "    .dataframe tbody tr th:only-of-type {\n",
       "        vertical-align: middle;\n",
       "    }\n",
       "\n",
       "    .dataframe tbody tr th {\n",
       "        vertical-align: top;\n",
       "    }\n",
       "\n",
       "    .dataframe thead th {\n",
       "        text-align: right;\n",
       "    }\n",
       "</style>\n",
       "<table border=\"1\" class=\"dataframe\">\n",
       "  <thead>\n",
       "    <tr style=\"text-align: right;\">\n",
       "      <th></th>\n",
       "      <th>Book Name</th>\n",
       "      <th>Author Name</th>\n",
       "      <th>Volumes Sold</th>\n",
       "      <th>Publisher</th>\n",
       "      <th>Genre</th>\n",
       "    </tr>\n",
       "  </thead>\n",
       "  <tbody>\n",
       "    <tr>\n",
       "      <th>0</th>\n",
       "      <td>Da Vinci Code,The</td>\n",
       "      <td>Brown, Dan</td>\n",
       "      <td>5,094,805</td>\n",
       "      <td>Transworld</td>\n",
       "      <td>Crime, Thriller &amp; Adventure</td>\n",
       "    </tr>\n",
       "    <tr>\n",
       "      <th>1</th>\n",
       "      <td>Harry Potter and the Deathly Hallows</td>\n",
       "      <td>Rowling, J.K.</td>\n",
       "      <td>4,475,152</td>\n",
       "      <td>Bloomsbury</td>\n",
       "      <td>Children's Fiction</td>\n",
       "    </tr>\n",
       "    <tr>\n",
       "      <th>2</th>\n",
       "      <td>Harry Potter and the Philosopher's Stone</td>\n",
       "      <td>Rowling, J.K.</td>\n",
       "      <td>4,200,654</td>\n",
       "      <td>Bloomsbury</td>\n",
       "      <td>Children's Fiction</td>\n",
       "    </tr>\n",
       "    <tr>\n",
       "      <th>3</th>\n",
       "      <td>Harry Potter and the Order of the Phoenix</td>\n",
       "      <td>Rowling, J.K.</td>\n",
       "      <td>4,179,479</td>\n",
       "      <td>Bloomsbury</td>\n",
       "      <td>Children's Fiction</td>\n",
       "    </tr>\n",
       "    <tr>\n",
       "      <th>4</th>\n",
       "      <td>Fifty Shades of Grey</td>\n",
       "      <td>James, E. L.</td>\n",
       "      <td>3,758,936</td>\n",
       "      <td>Random House</td>\n",
       "      <td>Romance &amp; Sagas</td>\n",
       "    </tr>\n",
       "    <tr>\n",
       "      <th>...</th>\n",
       "      <td>...</td>\n",
       "      <td>...</td>\n",
       "      <td>...</td>\n",
       "      <td>...</td>\n",
       "      <td>...</td>\n",
       "    </tr>\n",
       "    <tr>\n",
       "      <th>95</th>\n",
       "      <td>Ghost,The</td>\n",
       "      <td>Harris, Robert</td>\n",
       "      <td>807,311</td>\n",
       "      <td>Random House</td>\n",
       "      <td>General &amp; Literary Fiction</td>\n",
       "    </tr>\n",
       "    <tr>\n",
       "      <th>96</th>\n",
       "      <td>Happy Days with the Naked Chef</td>\n",
       "      <td>Oliver, Jamie</td>\n",
       "      <td>794,201</td>\n",
       "      <td>Penguin</td>\n",
       "      <td>Food &amp; Drink: General</td>\n",
       "    </tr>\n",
       "    <tr>\n",
       "      <th>97</th>\n",
       "      <td>Hunger Games,The:Hunger Games Trilogy</td>\n",
       "      <td>Collins, Suzanne</td>\n",
       "      <td>792,187</td>\n",
       "      <td>Scholastic Ltd.</td>\n",
       "      <td>Young Adult Fiction</td>\n",
       "    </tr>\n",
       "    <tr>\n",
       "      <th>98</th>\n",
       "      <td>Lost Boy,The:A Foster Child's Search for the L...</td>\n",
       "      <td>Pelzer, Dave</td>\n",
       "      <td>791,507</td>\n",
       "      <td>Orion</td>\n",
       "      <td>Biography: General</td>\n",
       "    </tr>\n",
       "    <tr>\n",
       "      <th>99</th>\n",
       "      <td>Jamie's Ministry of Food:Anyone Can Learn to C...</td>\n",
       "      <td>Oliver, Jamie</td>\n",
       "      <td>791,095</td>\n",
       "      <td>Penguin</td>\n",
       "      <td>Food &amp; Drink: General</td>\n",
       "    </tr>\n",
       "  </tbody>\n",
       "</table>\n",
       "<p>100 rows × 5 columns</p>\n",
       "</div>"
      ],
      "text/plain": [
       "                                            Book Name       Author Name  \\\n",
       "0                                   Da Vinci Code,The        Brown, Dan   \n",
       "1                Harry Potter and the Deathly Hallows     Rowling, J.K.   \n",
       "2            Harry Potter and the Philosopher's Stone     Rowling, J.K.   \n",
       "3           Harry Potter and the Order of the Phoenix     Rowling, J.K.   \n",
       "4                                Fifty Shades of Grey      James, E. L.   \n",
       "..                                                ...               ...   \n",
       "95                                          Ghost,The    Harris, Robert   \n",
       "96                     Happy Days with the Naked Chef     Oliver, Jamie   \n",
       "97              Hunger Games,The:Hunger Games Trilogy  Collins, Suzanne   \n",
       "98  Lost Boy,The:A Foster Child's Search for the L...      Pelzer, Dave   \n",
       "99  Jamie's Ministry of Food:Anyone Can Learn to C...     Oliver, Jamie   \n",
       "\n",
       "   Volumes Sold        Publisher                        Genre  \n",
       "0     5,094,805       Transworld  Crime, Thriller & Adventure  \n",
       "1     4,475,152       Bloomsbury           Children's Fiction  \n",
       "2     4,200,654       Bloomsbury           Children's Fiction  \n",
       "3     4,179,479       Bloomsbury           Children's Fiction  \n",
       "4     3,758,936     Random House              Romance & Sagas  \n",
       "..          ...              ...                          ...  \n",
       "95      807,311     Random House   General & Literary Fiction  \n",
       "96      794,201          Penguin        Food & Drink: General  \n",
       "97      792,187  Scholastic Ltd.          Young Adult Fiction  \n",
       "98      791,507            Orion           Biography: General  \n",
       "99      791,095          Penguin        Food & Drink: General  \n",
       "\n",
       "[100 rows x 5 columns]"
      ]
     },
     "execution_count": 62,
     "metadata": {},
     "output_type": "execute_result"
    }
   ],
   "source": [
    "df"
   ]
  },
  {
   "cell_type": "markdown",
   "id": "8d4a43a9",
   "metadata": {},
   "source": [
    "6.Scrape the details most watched tv series of all time from imdb.com. \n",
    "Url = https://www.imdb.com/list/ls095964455/\n",
    "You have to find the following details:\n",
    "A) Name\n",
    "B) Year span\n",
    "C) Genre\n",
    "D) Run time\n",
    "E) Ratings\n",
    "F) Votes\n"
   ]
  },
  {
   "cell_type": "code",
   "execution_count": 118,
   "id": "775cf032",
   "metadata": {},
   "outputs": [],
   "source": [
    "#connect to the driver\n",
    "driver = webdriver.Chrome(r\"C:\\Users\\tadis\\OneDrive\\Desktop\\FRT Internship\\chromedriver_win32\\chromedriver.exe\")"
   ]
  },
  {
   "cell_type": "code",
   "execution_count": 119,
   "id": "571fefbb",
   "metadata": {},
   "outputs": [],
   "source": [
    "#opening statistics times webite\n",
    "driver.get(\"https://www.imdb.com/list/ls095964455/\")\n",
    "time.sleep(1)"
   ]
  },
  {
   "cell_type": "code",
   "execution_count": 120,
   "id": "11b3ebfb",
   "metadata": {},
   "outputs": [],
   "source": [
    "# creating empty lists\n",
    "name = []\n",
    "year_span = []\n",
    "genre = []\n",
    "run_time = []\n",
    "ratings = []\n",
    "votes = []"
   ]
  },
  {
   "cell_type": "code",
   "execution_count": 121,
   "id": "dd792b78",
   "metadata": {},
   "outputs": [],
   "source": [
    "# scraped data of Names\n",
    "for i in driver.find_elements(By.XPATH,\"//h3[@class='lister-item-header']/a\"):\n",
    "    name.append(i.text)"
   ]
  },
  {
   "cell_type": "code",
   "execution_count": 122,
   "id": "603c6871",
   "metadata": {},
   "outputs": [],
   "source": [
    "# scraped data of Year span\n",
    "for i in driver.find_elements(By.XPATH,\"//span[@class='lister-item-year text-muted unbold']\"):\n",
    "    year_span.append(i.text)"
   ]
  },
  {
   "cell_type": "code",
   "execution_count": 123,
   "id": "19109d39",
   "metadata": {},
   "outputs": [],
   "source": [
    "# scraped data of Genre\n",
    "for i in driver.find_elements(By.XPATH,\"//span[@class='genre']\"):\n",
    "    genre.append(i.text)"
   ]
  },
  {
   "cell_type": "code",
   "execution_count": 124,
   "id": "8bf998c4",
   "metadata": {},
   "outputs": [],
   "source": [
    "# scraped data of Run time\n",
    "for i in driver.find_elements(By.XPATH,\"//span[@class='runtime']\"):\n",
    "    run_time.append(i.text)"
   ]
  },
  {
   "cell_type": "code",
   "execution_count": 125,
   "id": "14c6106d",
   "metadata": {},
   "outputs": [],
   "source": [
    "# scraped data of Ratings\n",
    "for i in driver.find_elements(By.XPATH,\"//div[@class='ipl-rating-star small']//span[2]\"):\n",
    "    ratings.append(i.text)"
   ]
  },
  {
   "cell_type": "code",
   "execution_count": 126,
   "id": "f282731e",
   "metadata": {},
   "outputs": [],
   "source": [
    "# scraped data of Votes\n",
    "for i in driver.find_elements(By.XPATH,\"//div[@class='lister-item-content']//p[4]/span[2]\"):\n",
    "    votes.append(i.text)"
   ]
  },
  {
   "cell_type": "code",
   "execution_count": 131,
   "id": "81294b5e",
   "metadata": {},
   "outputs": [
    {
     "data": {
      "text/plain": [
       "100"
      ]
     },
     "execution_count": 131,
     "metadata": {},
     "output_type": "execute_result"
    }
   ],
   "source": [
    "len(votes)"
   ]
  },
  {
   "cell_type": "code",
   "execution_count": 132,
   "id": "50ee2233",
   "metadata": {},
   "outputs": [],
   "source": [
    "import pandas as pd\n",
    "df = pd.DataFrame({'Name' : name, 'Year Span' : year_span, 'Genre' : genre, 'Run Time' : run_time, 'Ratings' : ratings, 'Votes' : votes})"
   ]
  },
  {
   "cell_type": "code",
   "execution_count": 133,
   "id": "98d63e52",
   "metadata": {},
   "outputs": [
    {
     "data": {
      "text/html": [
       "<div>\n",
       "<style scoped>\n",
       "    .dataframe tbody tr th:only-of-type {\n",
       "        vertical-align: middle;\n",
       "    }\n",
       "\n",
       "    .dataframe tbody tr th {\n",
       "        vertical-align: top;\n",
       "    }\n",
       "\n",
       "    .dataframe thead th {\n",
       "        text-align: right;\n",
       "    }\n",
       "</style>\n",
       "<table border=\"1\" class=\"dataframe\">\n",
       "  <thead>\n",
       "    <tr style=\"text-align: right;\">\n",
       "      <th></th>\n",
       "      <th>Name</th>\n",
       "      <th>Year Span</th>\n",
       "      <th>Genre</th>\n",
       "      <th>Run Time</th>\n",
       "      <th>Ratings</th>\n",
       "      <th>Votes</th>\n",
       "    </tr>\n",
       "  </thead>\n",
       "  <tbody>\n",
       "    <tr>\n",
       "      <th>0</th>\n",
       "      <td>Game of Thrones</td>\n",
       "      <td>(2011–2019)</td>\n",
       "      <td>Action, Adventure, Drama</td>\n",
       "      <td>57 min</td>\n",
       "      <td>9.2</td>\n",
       "      <td>2,172,901</td>\n",
       "    </tr>\n",
       "    <tr>\n",
       "      <th>1</th>\n",
       "      <td>Stranger Things</td>\n",
       "      <td>(2016–2024)</td>\n",
       "      <td>Drama, Fantasy, Horror</td>\n",
       "      <td>51 min</td>\n",
       "      <td>8.7</td>\n",
       "      <td>1,250,858</td>\n",
       "    </tr>\n",
       "    <tr>\n",
       "      <th>2</th>\n",
       "      <td>The Walking Dead</td>\n",
       "      <td>(2010–2022)</td>\n",
       "      <td>Drama, Horror, Thriller</td>\n",
       "      <td>44 min</td>\n",
       "      <td>8.1</td>\n",
       "      <td>1,032,108</td>\n",
       "    </tr>\n",
       "    <tr>\n",
       "      <th>3</th>\n",
       "      <td>13 Reasons Why</td>\n",
       "      <td>(2017–2020)</td>\n",
       "      <td>Drama, Mystery, Thriller</td>\n",
       "      <td>60 min</td>\n",
       "      <td>7.5</td>\n",
       "      <td>303,468</td>\n",
       "    </tr>\n",
       "    <tr>\n",
       "      <th>4</th>\n",
       "      <td>The 100</td>\n",
       "      <td>(2014–2020)</td>\n",
       "      <td>Drama, Mystery, Sci-Fi</td>\n",
       "      <td>43 min</td>\n",
       "      <td>7.6</td>\n",
       "      <td>262,657</td>\n",
       "    </tr>\n",
       "    <tr>\n",
       "      <th>...</th>\n",
       "      <td>...</td>\n",
       "      <td>...</td>\n",
       "      <td>...</td>\n",
       "      <td>...</td>\n",
       "      <td>...</td>\n",
       "      <td>...</td>\n",
       "    </tr>\n",
       "    <tr>\n",
       "      <th>95</th>\n",
       "      <td>Reign</td>\n",
       "      <td>(2013–2017)</td>\n",
       "      <td>Drama</td>\n",
       "      <td>42 min</td>\n",
       "      <td>7.4</td>\n",
       "      <td>51,940</td>\n",
       "    </tr>\n",
       "    <tr>\n",
       "      <th>96</th>\n",
       "      <td>A Series of Unfortunate Events</td>\n",
       "      <td>(2017–2019)</td>\n",
       "      <td>Adventure, Comedy, Drama</td>\n",
       "      <td>50 min</td>\n",
       "      <td>7.8</td>\n",
       "      <td>63,979</td>\n",
       "    </tr>\n",
       "    <tr>\n",
       "      <th>97</th>\n",
       "      <td>Criminal Minds</td>\n",
       "      <td>(2005– )</td>\n",
       "      <td>Crime, Drama, Mystery</td>\n",
       "      <td>42 min</td>\n",
       "      <td>8.1</td>\n",
       "      <td>208,486</td>\n",
       "    </tr>\n",
       "    <tr>\n",
       "      <th>98</th>\n",
       "      <td>Scream: The TV Series</td>\n",
       "      <td>(2015–2019)</td>\n",
       "      <td>Comedy, Crime, Drama</td>\n",
       "      <td>45 min</td>\n",
       "      <td>7.1</td>\n",
       "      <td>43,381</td>\n",
       "    </tr>\n",
       "    <tr>\n",
       "      <th>99</th>\n",
       "      <td>The Haunting of Hill House</td>\n",
       "      <td>(2018)</td>\n",
       "      <td>Drama, Horror, Mystery</td>\n",
       "      <td>572 min</td>\n",
       "      <td>8.6</td>\n",
       "      <td>260,019</td>\n",
       "    </tr>\n",
       "  </tbody>\n",
       "</table>\n",
       "<p>100 rows × 6 columns</p>\n",
       "</div>"
      ],
      "text/plain": [
       "                              Name    Year Span                     Genre  \\\n",
       "0                  Game of Thrones  (2011–2019)  Action, Adventure, Drama   \n",
       "1                  Stranger Things  (2016–2024)    Drama, Fantasy, Horror   \n",
       "2                 The Walking Dead  (2010–2022)   Drama, Horror, Thriller   \n",
       "3                   13 Reasons Why  (2017–2020)  Drama, Mystery, Thriller   \n",
       "4                          The 100  (2014–2020)    Drama, Mystery, Sci-Fi   \n",
       "..                             ...          ...                       ...   \n",
       "95                           Reign  (2013–2017)                     Drama   \n",
       "96  A Series of Unfortunate Events  (2017–2019)  Adventure, Comedy, Drama   \n",
       "97                  Criminal Minds     (2005– )     Crime, Drama, Mystery   \n",
       "98           Scream: The TV Series  (2015–2019)      Comedy, Crime, Drama   \n",
       "99      The Haunting of Hill House       (2018)    Drama, Horror, Mystery   \n",
       "\n",
       "   Run Time Ratings      Votes  \n",
       "0    57 min     9.2  2,172,901  \n",
       "1    51 min     8.7  1,250,858  \n",
       "2    44 min     8.1  1,032,108  \n",
       "3    60 min     7.5    303,468  \n",
       "4    43 min     7.6    262,657  \n",
       "..      ...     ...        ...  \n",
       "95   42 min     7.4     51,940  \n",
       "96   50 min     7.8     63,979  \n",
       "97   42 min     8.1    208,486  \n",
       "98   45 min     7.1     43,381  \n",
       "99  572 min     8.6    260,019  \n",
       "\n",
       "[100 rows x 6 columns]"
      ]
     },
     "execution_count": 133,
     "metadata": {},
     "output_type": "execute_result"
    }
   ],
   "source": [
    "df"
   ]
  },
  {
   "cell_type": "markdown",
   "id": "ef585dd3",
   "metadata": {},
   "source": [
    "8.Details of Datasets from UCI machine learning repositories. \n",
    "Url = https://archive.ics.uci.edu/\n",
    "You have to find the following details:\n",
    "A) Dataset name\n",
    "B) Data type\n",
    "C) Task\n",
    "D) Attribute type\n",
    "E) No of instances\n",
    "F) No of attribute\n",
    "G) Year\n",
    "Note: - from the home page you have to go to the ShowAllDataset page through code"
   ]
  },
  {
   "cell_type": "code",
   "execution_count": 109,
   "id": "8a754c47",
   "metadata": {},
   "outputs": [],
   "source": [
    "#connect to the driver\n",
    "driver = webdriver.Chrome(r\"C:\\Users\\tadis\\OneDrive\\Desktop\\FRT Internship\\chromedriver_win32\\chromedriver.exe\")"
   ]
  },
  {
   "cell_type": "code",
   "execution_count": 110,
   "id": "890a9471",
   "metadata": {},
   "outputs": [],
   "source": [
    "#opening statistics times website\n",
    "driver.get(\"https://archive.ics.uci.edu/\")\n",
    "time.sleep(1)"
   ]
  },
  {
   "cell_type": "code",
   "execution_count": 111,
   "id": "e078865b",
   "metadata": {},
   "outputs": [],
   "source": [
    "# fetching view all dataset button from the webpage\n",
    "viewall_dataset = driver.find_element(By.XPATH,\"/html/body/div/div[1]/div[1]/main/div/div[1]/div/div/div/a[1]\")\n",
    "page_url = viewall_dataset.get_attribute(\"href\")\n",
    "driver.get(page_url)\n",
    "time.sleep(3)"
   ]
  },
  {
   "cell_type": "code",
   "execution_count": 112,
   "id": "ac2cd632",
   "metadata": {},
   "outputs": [],
   "source": [
    "# fetching urls for each dataset\n",
    "dataset_url = driver.find_elements(By.XPATH,\"//a[@class='link-hover link text-xl font-semibold']\")\n",
    "\n",
    "urls = []\n",
    "for i in dataset_url:\n",
    "    urls.append(i.get_attribute(\"href\"))"
   ]
  },
  {
   "cell_type": "code",
   "execution_count": 113,
   "id": "0ddcffb5",
   "metadata": {},
   "outputs": [
    {
     "data": {
      "text/plain": [
       "['https://archive.ics.uci.edu/dataset/53/iris',\n",
       " 'https://archive.ics.uci.edu/dataset/45/heart+disease',\n",
       " 'https://archive.ics.uci.edu/dataset/2/adult',\n",
       " 'https://archive.ics.uci.edu/dataset/602/dry+bean+dataset',\n",
       " 'https://archive.ics.uci.edu/dataset/34/diabetes',\n",
       " 'https://archive.ics.uci.edu/dataset/545/rice+cammeo+and+osmancik',\n",
       " 'https://archive.ics.uci.edu/dataset/109/wine',\n",
       " 'https://archive.ics.uci.edu/dataset/19/car+evaluation',\n",
       " 'https://archive.ics.uci.edu/dataset/17/breast+cancer+wisconsin+diagnostic',\n",
       " 'https://archive.ics.uci.edu/dataset/73/mushroom']"
      ]
     },
     "execution_count": 113,
     "metadata": {},
     "output_type": "execute_result"
    }
   ],
   "source": [
    "urls"
   ]
  },
  {
   "cell_type": "code",
   "execution_count": 114,
   "id": "771ce1bd",
   "metadata": {},
   "outputs": [],
   "source": [
    "dataset_name=[]\n",
    "data_type=[]\n",
    "task=[]\n",
    "attribute_type=[]\n",
    "no_of_instances=[]\n",
    "no_of_attribute=[]\n",
    "year=[]"
   ]
  },
  {
   "cell_type": "code",
   "execution_count": 115,
   "id": "7c703fbc",
   "metadata": {},
   "outputs": [],
   "source": [
    "for i in urls:\n",
    "    driver.get(i)\n",
    "    time.sleep(3)\n",
    "    \n",
    "    \n",
    "    # scraping  Dataset name\n",
    "    try:\n",
    "        for i in driver.find_elements(By.XPATH,\"//h1[@class='text-3xl font-semibold text-primary-content']\"):\n",
    "            dataset_name.append(i.text)\n",
    "    except NoSuchElementException:\n",
    "        dataset_name.append('-')\n",
    "        \n",
    "    try:\n",
    "        data = driver.find_element(By.XPATH,\"//div[@class='grid grid-cols-8 gap-4 md:grid-cols-12']\")\n",
    "        if data.text == \"N/A\": raise NoSuchElementException\n",
    "        data_type.append(data.text)\n",
    "    except NoSuchElementException:\n",
    "        data_type.append('-')\n",
    "    time.sleep(3)"
   ]
  },
  {
   "cell_type": "code",
   "execution_count": 101,
   "id": "40666ddc",
   "metadata": {},
   "outputs": [
    {
     "data": {
      "text/plain": [
       "['Dataset Characteristics\\nMultivariate\\nSubject Area\\nLife Science\\nAssociated Tasks\\nClassification\\nAttribute Type\\nReal\\n# Instances\\n150\\n# Attributes\\n4',\n",
       " 'Dataset Characteristics\\nMultivariate\\nSubject Area\\nLife\\nAssociated Tasks\\nClassification\\nAttribute Type\\nCategorical, Integer, Real\\n# Instances\\n303\\n# Attributes\\n13',\n",
       " 'Dataset Characteristics\\nMultivariate\\nSubject Area\\nSocial\\nAssociated Tasks\\nClassification\\nAttribute Type\\nCategorical, Integer\\n# Instances\\n48842\\n# Attributes\\n14',\n",
       " 'Dataset Characteristics\\nMultivariate\\nSubject Area\\nComputer\\nAssociated Tasks\\nClassification\\nAttribute Type\\nInteger, Real\\n# Instances\\n13611\\n# Attributes\\n17',\n",
       " 'Dataset Characteristics\\nMultivariate, Time-Series\\nSubject Area\\nLife\\nAssociated Tasks\\n-\\nAttribute Type\\nCategorical, Integer\\n# Instances\\n-\\n# Attributes\\n20',\n",
       " 'Dataset Characteristics\\nMultivariate\\nSubject Area\\nComputer\\nAssociated Tasks\\nClassification\\nAttribute Type\\nReal\\n# Instances\\n3810\\n# Attributes\\n8',\n",
       " 'Dataset Characteristics\\nMultivariate\\nSubject Area\\nPhysical\\nAssociated Tasks\\nClassification\\nAttribute Type\\nInteger, Real\\n# Instances\\n178\\n# Attributes\\n13',\n",
       " 'Dataset Characteristics\\nMultivariate\\nSubject Area\\nOther\\nAssociated Tasks\\nClassification\\nAttribute Type\\nCategorical\\n# Instances\\n1728\\n# Attributes\\n6',\n",
       " 'Dataset Characteristics\\nMultivariate\\nSubject Area\\nLife\\nAssociated Tasks\\nClassification\\nAttribute Type\\nReal\\n# Instances\\n569\\n# Attributes\\n30',\n",
       " 'Dataset Characteristics\\nMultivariate\\nSubject Area\\nLife\\nAssociated Tasks\\nClassification\\nAttribute Type\\nCategorical\\n# Instances\\n8124\\n# Attributes\\n22']"
      ]
     },
     "execution_count": 101,
     "metadata": {},
     "output_type": "execute_result"
    }
   ],
   "source": [
    "data_type"
   ]
  },
  {
   "cell_type": "code",
   "execution_count": 116,
   "id": "2791b066",
   "metadata": {},
   "outputs": [
    {
     "data": {
      "text/plain": [
       "[['Dataset Characteristics\\nMultivariate\\nSubject Area\\nLife Science\\nAssociated Tasks\\nClassification\\nAttribute Type\\nReal\\n# Instances\\n150\\n# Attributes\\n4'],\n",
       " ['Dataset Characteristics\\nMultivariate\\nSubject Area\\nLife\\nAssociated Tasks\\nClassification\\nAttribute Type\\nCategorical, Integer, Real\\n# Instances\\n303\\n# Attributes\\n13'],\n",
       " ['Dataset Characteristics\\nMultivariate\\nSubject Area\\nSocial\\nAssociated Tasks\\nClassification\\nAttribute Type\\nCategorical, Integer\\n# Instances\\n48842\\n# Attributes\\n14'],\n",
       " ['Dataset Characteristics\\nMultivariate\\nSubject Area\\nComputer\\nAssociated Tasks\\nClassification\\nAttribute Type\\nInteger, Real\\n# Instances\\n13611\\n# Attributes\\n17'],\n",
       " ['Dataset Characteristics\\nMultivariate, Time-Series\\nSubject Area\\nLife\\nAssociated Tasks\\n-\\nAttribute Type\\nCategorical, Integer\\n# Instances\\n-\\n# Attributes\\n20'],\n",
       " ['Dataset Characteristics\\nMultivariate\\nSubject Area\\nComputer\\nAssociated Tasks\\nClassification\\nAttribute Type\\nReal\\n# Instances\\n3810\\n# Attributes\\n8'],\n",
       " ['Dataset Characteristics\\nMultivariate\\nSubject Area\\nPhysical\\nAssociated Tasks\\nClassification\\nAttribute Type\\nInteger, Real\\n# Instances\\n178\\n# Attributes\\n13'],\n",
       " ['Dataset Characteristics\\nMultivariate\\nSubject Area\\nOther\\nAssociated Tasks\\nClassification\\nAttribute Type\\nCategorical\\n# Instances\\n1728\\n# Attributes\\n6'],\n",
       " ['Dataset Characteristics\\nMultivariate\\nSubject Area\\nLife\\nAssociated Tasks\\nClassification\\nAttribute Type\\nReal\\n# Instances\\n569\\n# Attributes\\n30'],\n",
       " ['Dataset Characteristics\\nMultivariate\\nSubject Area\\nLife\\nAssociated Tasks\\nClassification\\nAttribute Type\\nCategorical\\n# Instances\\n8124\\n# Attributes\\n22']]"
      ]
     },
     "execution_count": 116,
     "metadata": {},
     "output_type": "execute_result"
    }
   ],
   "source": [
    "temp_urls=[]\n",
    "for data_type in data_type:\n",
    "    temp_urls.append(data_type.split('S+1'))\n",
    "temp_urls"
   ]
  },
  {
   "cell_type": "code",
   "execution_count": 117,
   "id": "4b90ce6f",
   "metadata": {},
   "outputs": [],
   "source": [
    " import pandas as pd\n",
    "df = pd.DataFrame({'Dataset Name' : dataset_name, 'Other Info' : temp_urls})"
   ]
  },
  {
   "cell_type": "code",
   "execution_count": 118,
   "id": "ada8abe7",
   "metadata": {},
   "outputs": [
    {
     "data": {
      "text/html": [
       "<div>\n",
       "<style scoped>\n",
       "    .dataframe tbody tr th:only-of-type {\n",
       "        vertical-align: middle;\n",
       "    }\n",
       "\n",
       "    .dataframe tbody tr th {\n",
       "        vertical-align: top;\n",
       "    }\n",
       "\n",
       "    .dataframe thead th {\n",
       "        text-align: right;\n",
       "    }\n",
       "</style>\n",
       "<table border=\"1\" class=\"dataframe\">\n",
       "  <thead>\n",
       "    <tr style=\"text-align: right;\">\n",
       "      <th></th>\n",
       "      <th>Dataset Name</th>\n",
       "      <th>Other Info</th>\n",
       "    </tr>\n",
       "  </thead>\n",
       "  <tbody>\n",
       "    <tr>\n",
       "      <th>0</th>\n",
       "      <td>Iris</td>\n",
       "      <td>[Dataset Characteristics\\nMultivariate\\nSubjec...</td>\n",
       "    </tr>\n",
       "    <tr>\n",
       "      <th>1</th>\n",
       "      <td>Heart Disease</td>\n",
       "      <td>[Dataset Characteristics\\nMultivariate\\nSubjec...</td>\n",
       "    </tr>\n",
       "    <tr>\n",
       "      <th>2</th>\n",
       "      <td>Adult</td>\n",
       "      <td>[Dataset Characteristics\\nMultivariate\\nSubjec...</td>\n",
       "    </tr>\n",
       "    <tr>\n",
       "      <th>3</th>\n",
       "      <td>Dry Bean Dataset</td>\n",
       "      <td>[Dataset Characteristics\\nMultivariate\\nSubjec...</td>\n",
       "    </tr>\n",
       "    <tr>\n",
       "      <th>4</th>\n",
       "      <td>Diabetes</td>\n",
       "      <td>[Dataset Characteristics\\nMultivariate, Time-S...</td>\n",
       "    </tr>\n",
       "    <tr>\n",
       "      <th>5</th>\n",
       "      <td>Rice (Cammeo and Osmancik)</td>\n",
       "      <td>[Dataset Characteristics\\nMultivariate\\nSubjec...</td>\n",
       "    </tr>\n",
       "    <tr>\n",
       "      <th>6</th>\n",
       "      <td>Wine</td>\n",
       "      <td>[Dataset Characteristics\\nMultivariate\\nSubjec...</td>\n",
       "    </tr>\n",
       "    <tr>\n",
       "      <th>7</th>\n",
       "      <td>Car Evaluation</td>\n",
       "      <td>[Dataset Characteristics\\nMultivariate\\nSubjec...</td>\n",
       "    </tr>\n",
       "    <tr>\n",
       "      <th>8</th>\n",
       "      <td>Breast Cancer Wisconsin (Diagnostic)</td>\n",
       "      <td>[Dataset Characteristics\\nMultivariate\\nSubjec...</td>\n",
       "    </tr>\n",
       "    <tr>\n",
       "      <th>9</th>\n",
       "      <td>Mushroom</td>\n",
       "      <td>[Dataset Characteristics\\nMultivariate\\nSubjec...</td>\n",
       "    </tr>\n",
       "  </tbody>\n",
       "</table>\n",
       "</div>"
      ],
      "text/plain": [
       "                           Dataset Name  \\\n",
       "0                                  Iris   \n",
       "1                         Heart Disease   \n",
       "2                                 Adult   \n",
       "3                      Dry Bean Dataset   \n",
       "4                              Diabetes   \n",
       "5            Rice (Cammeo and Osmancik)   \n",
       "6                                  Wine   \n",
       "7                        Car Evaluation   \n",
       "8  Breast Cancer Wisconsin (Diagnostic)   \n",
       "9                              Mushroom   \n",
       "\n",
       "                                          Other Info  \n",
       "0  [Dataset Characteristics\\nMultivariate\\nSubjec...  \n",
       "1  [Dataset Characteristics\\nMultivariate\\nSubjec...  \n",
       "2  [Dataset Characteristics\\nMultivariate\\nSubjec...  \n",
       "3  [Dataset Characteristics\\nMultivariate\\nSubjec...  \n",
       "4  [Dataset Characteristics\\nMultivariate, Time-S...  \n",
       "5  [Dataset Characteristics\\nMultivariate\\nSubjec...  \n",
       "6  [Dataset Characteristics\\nMultivariate\\nSubjec...  \n",
       "7  [Dataset Characteristics\\nMultivariate\\nSubjec...  \n",
       "8  [Dataset Characteristics\\nMultivariate\\nSubjec...  \n",
       "9  [Dataset Characteristics\\nMultivariate\\nSubjec...  "
      ]
     },
     "execution_count": 118,
     "metadata": {},
     "output_type": "execute_result"
    }
   ],
   "source": [
    "df"
   ]
  },
  {
   "cell_type": "markdown",
   "id": "007fdaf8",
   "metadata": {},
   "source": [
    "9. Scrape the details of Data science recruiters Url = https://www.naukri.com/hr-recruiters-consultants\n",
    "You have to find the following details: \n",
    "A) Name\n",
    "B) Designation\n",
    "C)Company \n",
    "D)Skills they hire for \n",
    "E) Location\n",
    "Note: - From naukri.com homepage click on the recruiters option and the on the search pane type Data science and \n",
    "click on search. All this should be done through code"
   ]
  },
  {
   "cell_type": "code",
   "execution_count": 25,
   "id": "835a5bb2",
   "metadata": {},
   "outputs": [],
   "source": [
    "#connect to the driver\n",
    "driver = webdriver.Chrome(r\"C:\\Users\\tadis\\OneDrive\\Desktop\\FRT Internship\\chromedriver_win32\\chromedriver.exe\")"
   ]
  },
  {
   "cell_type": "code",
   "execution_count": 26,
   "id": "a602c027",
   "metadata": {},
   "outputs": [],
   "source": [
    "# Open naukri.com homepage\n",
    "driver.get(\"https://www.naukri.com/hr-recruiters-consultants\")"
   ]
  },
  {
   "cell_type": "code",
   "execution_count": 23,
   "id": "3f5d173f",
   "metadata": {},
   "outputs": [],
   "source": [
    "# fetching urls to navigate recruiter page\n",
    "recruiter = driver.find_element(By.XPATH,\"/html/body/div[1]/div[4]/div[1]/div/section[1]/div/div/div/div/div/div[1]/div/div[1]/div[5]/a\")\n",
    "page_url = recruiter.get_attribute(\"href\")\n",
    "\n",
    "driver.get(page_url)\n",
    "time.sleep(3)"
   ]
  },
  {
   "cell_type": "code",
   "execution_count": null,
   "id": "3574e392",
   "metadata": {},
   "outputs": [],
   "source": []
  }
 ],
 "metadata": {
  "kernelspec": {
   "display_name": "Python 3 (ipykernel)",
   "language": "python",
   "name": "python3"
  },
  "language_info": {
   "codemirror_mode": {
    "name": "ipython",
    "version": 3
   },
   "file_extension": ".py",
   "mimetype": "text/x-python",
   "name": "python",
   "nbconvert_exporter": "python",
   "pygments_lexer": "ipython3",
   "version": "3.9.13"
  }
 },
 "nbformat": 4,
 "nbformat_minor": 5
}
