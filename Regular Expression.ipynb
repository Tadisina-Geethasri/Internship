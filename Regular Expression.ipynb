{
 "cells": [
  {
   "cell_type": "markdown",
   "id": "e9deef7c",
   "metadata": {},
   "source": [
    "# REGULAR EXPRESSION"
   ]
  },
  {
   "cell_type": "markdown",
   "id": "1b67c159",
   "metadata": {},
   "source": [
    "Question 1- Write a Python program to check that a string contains only a certain set of characters (in this case a-z, A-Z and 0-9)."
   ]
  },
  {
   "cell_type": "code",
   "execution_count": 5,
   "id": "86d6da5b",
   "metadata": {},
   "outputs": [
    {
     "name": "stdout",
     "output_type": "stream",
     "text": [
      "Enter a string to check: loveyouindua06\n",
      "The string contains only the specified characters.\n"
     ]
    }
   ],
   "source": [
    "import re\n",
    "\n",
    "def check_string_char(string):\n",
    "    pattern = re.compile(r'^[a-zA-Z0-9]+$')\n",
    "    if pattern.match(string):\n",
    "        print(\"The string contains only the specified characters.\")\n",
    "    else:\n",
    "        print(\"The string does not contain specified characters.\")\n",
    "\n",
    "# function calling\n",
    "text = input(\"Enter a string to check: \")\n",
    "check_string_char(text)"
   ]
  },
  {
   "cell_type": "markdown",
   "id": "49ddc72d",
   "metadata": {},
   "source": [
    "Question 2- Create a function in python that matches a string that has an a followed by zero or more b's"
   ]
  },
  {
   "cell_type": "code",
   "execution_count": 13,
   "id": "90b6d46a",
   "metadata": {},
   "outputs": [
    {
     "name": "stdout",
     "output_type": "stream",
     "text": [
      "Enter a string: a\n",
      "The string is followed by 0 or more b's.\n"
     ]
    }
   ],
   "source": [
    "def pattern(string):\n",
    "    regex_pattern = re.compile(r'^ab*$')\n",
    "    if regex_pattern.match(string):\n",
    "        print(\"The string is followed by 0 or more b's.\")\n",
    "    else:\n",
    "        print(\"The string does not match the pattern.\")\n",
    "\n",
    "# Test the function\n",
    "text = input(\"Enter a string: \")\n",
    "pattern(text)"
   ]
  },
  {
   "cell_type": "markdown",
   "id": "03896840",
   "metadata": {},
   "source": [
    "Question 3-  Create a function in python that matches a string that has an a followed by one or more b's"
   ]
  },
  {
   "cell_type": "code",
   "execution_count": 15,
   "id": "af9b5cb3",
   "metadata": {},
   "outputs": [
    {
     "name": "stdout",
     "output_type": "stream",
     "text": [
      "Enter a string: a\n",
      "The string does not match the pattern.\n"
     ]
    }
   ],
   "source": [
    "def match_pattern(string):\n",
    "    regex_pattern = re.compile(r'^ab+$')\n",
    "    if regex_pattern.match(string):\n",
    "        print(\"The string is followed by one or more b's\")\n",
    "    else:\n",
    "        print(\"The string does not match the pattern.\")\n",
    "\n",
    "# Test the function\n",
    "text = input(\"Enter a string: \")\n",
    "match_pattern(text)"
   ]
  },
  {
   "cell_type": "markdown",
   "id": "d807ad49",
   "metadata": {},
   "source": [
    "Question 4- Create a function in Python and use RegEx that matches a string that has an a followed by zero or one 'b'."
   ]
  },
  {
   "cell_type": "code",
   "execution_count": 10,
   "id": "b0127fec",
   "metadata": {},
   "outputs": [
    {
     "name": "stdout",
     "output_type": "stream",
     "text": [
      "Enter a string: ab\n",
      "The string is followed by zero or one 'b'.\n"
     ]
    }
   ],
   "source": [
    "def pattern(string):\n",
    "    regex_pattern = re.compile(r'^ab?$')\n",
    "    if regex_pattern.match(string):\n",
    "        print(\"The string is followed by zero or one 'b'.\")\n",
    "    else:\n",
    "        print(\"The string does not match the pattern.\")\n",
    "\n",
    "# Test the function\n",
    "text = input(\"Enter a string: \")\n",
    "pattern(text)"
   ]
  },
  {
   "cell_type": "markdown",
   "id": "20ecad8a",
   "metadata": {},
   "source": [
    "Question 5- Write a Python program that matches a string that has an a followed by three 'b'."
   ]
  },
  {
   "cell_type": "code",
   "execution_count": 9,
   "id": "3f73c18f",
   "metadata": {},
   "outputs": [
    {
     "name": "stdout",
     "output_type": "stream",
     "text": [
      "Enter a string: abbb\n",
      "The string is followed by exactly 3 b's.\n"
     ]
    }
   ],
   "source": [
    "def pattern(string):\n",
    "    regex_pattern = re.compile(r'^ab{3}$')\n",
    "    if regex_pattern.match(string):\n",
    "        print(\"The string is followed by exactly 3 b's.\")\n",
    "    else:\n",
    "        print(\"The string does not match the pattern.\")\n",
    "\n",
    "# Test the function\n",
    "text = input(\"Enter a string: \")\n",
    "pattern(text)"
   ]
  },
  {
   "cell_type": "markdown",
   "id": "5ea9d264",
   "metadata": {},
   "source": [
    "Question 6- Write a regular expression in Python to split a string into uppercase letters.\n",
    "Sample text: “ImportanceOfRegularExpressionsInPython”\n",
    "Output: [‘Importance’, ‘Of’, ‘Regular’, ‘Expression’, ‘In’, ‘Python’]\n"
   ]
  },
  {
   "cell_type": "code",
   "execution_count": 28,
   "id": "d1a4681c",
   "metadata": {},
   "outputs": [
    {
     "name": "stdout",
     "output_type": "stream",
     "text": [
      "Enter a string: ImportanceOfRegularExpressionsInPython\n",
      "['Importance', 'Of', 'Regular', 'Expressions', 'In', 'Python']\n"
     ]
    }
   ],
   "source": [
    "def split_uppercase(string):\n",
    "    regex_pattern = re.findall(r'[A-Z][a-z]*', string)\n",
    "    return regex_pattern\n",
    "\n",
    "# Test the function\n",
    "text = input(\"Enter a string: \")\n",
    "result = split_uppercase(text)\n",
    "print(result)"
   ]
  },
  {
   "cell_type": "markdown",
   "id": "5e26daa2",
   "metadata": {},
   "source": [
    "Question 7- Write a Python program that matches a string that has an a followed by two to three 'b'."
   ]
  },
  {
   "cell_type": "code",
   "execution_count": 30,
   "id": "eb2b8c76",
   "metadata": {},
   "outputs": [
    {
     "name": "stdout",
     "output_type": "stream",
     "text": [
      "Enter a string: abbb\n",
      "The string is followed with 2 or 3 b's.\n"
     ]
    }
   ],
   "source": [
    "def pattern(string):\n",
    "    regex_pattern = re.compile(r'^ab{2,3}$')\n",
    "    if regex_pattern.match(string):\n",
    "        print(\"The string is followed with 2 or 3 b's.\")\n",
    "    else:\n",
    "        print(\"The string does not match the pattern.\")\n",
    "\n",
    "# Test the function\n",
    "text = input(\"Enter a string: \")\n",
    "pattern(text)"
   ]
  },
  {
   "cell_type": "markdown",
   "id": "26d355a0",
   "metadata": {},
   "source": [
    "Question 8- Write a Python program to find sequences of lowercase letters joined with a underscore"
   ]
  },
  {
   "cell_type": "code",
   "execution_count": 34,
   "id": "429834c7",
   "metadata": {},
   "outputs": [
    {
     "name": "stdout",
     "output_type": "stream",
     "text": [
      "Enter a string: Hy guys! this is geetha_gritu\n",
      "sequence found ['geetha_gritu']\n"
     ]
    }
   ],
   "source": [
    "def find_sequences(string):\n",
    "    regex_pattern = re.compile(r'[a-z]+_[a-z]+')\n",
    "    sequences = regex_pattern.findall(string)\n",
    "    return sequences\n",
    "\n",
    "# Test the function\n",
    "text = input(\"Enter a string: \")\n",
    "result = find_sequences(text)\n",
    "print(\"sequence found\" , result)\n"
   ]
  },
  {
   "cell_type": "markdown",
   "id": "dbadb050",
   "metadata": {},
   "source": [
    "Question 9- Write a Python program that matches a string that has an 'a' followed by anything, ending in 'b'."
   ]
  },
  {
   "cell_type": "code",
   "execution_count": 6,
   "id": "00ff4930",
   "metadata": {},
   "outputs": [
    {
     "name": "stdout",
     "output_type": "stream",
     "text": [
      "Enter a string: a12er45b\n",
      "The string matches the pattern.\n"
     ]
    }
   ],
   "source": [
    "import re\n",
    "def pattern(string):\n",
    "    regex_pattern = re.compile(r'a.*b$')\n",
    "    if regex_pattern.match(string):\n",
    "        print(\"The string matches the pattern.\")\n",
    "    else:\n",
    "        print(\"The string does not match the pattern.\")\n",
    "\n",
    "# Test the function\n",
    "text = input(\"Enter a string: \")\n",
    "pattern(text)"
   ]
  },
  {
   "cell_type": "markdown",
   "id": "a7bcfde9",
   "metadata": {},
   "source": [
    "Question 10- Write a Python program that matches a word at the beginning of a string."
   ]
  },
  {
   "cell_type": "code",
   "execution_count": 7,
   "id": "5e3ed89f",
   "metadata": {},
   "outputs": [
    {
     "name": "stdout",
     "output_type": "stream",
     "text": [
      "Enter a string: This is Geetha Reddy\n",
      "Matched word: This\n"
     ]
    }
   ],
   "source": [
    "def pattern(string):\n",
    "    regex_pattern = re.compile(r'^\\w+')\n",
    "    matched_word = regex_pattern.match(string)\n",
    "    if matched_word:\n",
    "        print(\"Matched word:\", matched_word.group())\n",
    "    else:\n",
    "        print(\"No word matched at the beginning of the string.\")\n",
    "\n",
    "# Test the function\n",
    "text = input(\"Enter a string: \")\n",
    "pattern(text)"
   ]
  },
  {
   "cell_type": "markdown",
   "id": "16dcf882",
   "metadata": {},
   "source": [
    "Question 11- Write a Python program to match a string that contains only upper and lowercase letters, numbers, and underscores."
   ]
  },
  {
   "cell_type": "code",
   "execution_count": 8,
   "id": "5b3dfb1b",
   "metadata": {},
   "outputs": [
    {
     "name": "stdout",
     "output_type": "stream",
     "text": [
      "Enter a string: Geetha_Reddy06\n",
      "The string matches the pattern.\n"
     ]
    }
   ],
   "source": [
    "def pattern(string):\n",
    "    regex_pattern = re.compile(r'^[a-zA-Z0-9_]+$')\n",
    "    if regex_pattern.match(string):\n",
    "        print(\"The string matches the pattern.\")\n",
    "    else:\n",
    "        print(\"The string does not match the pattern.\")\n",
    "\n",
    "# Test the function\n",
    "text = input(\"Enter a string: \")\n",
    "pattern(text)"
   ]
  },
  {
   "cell_type": "markdown",
   "id": "8b4dbacc",
   "metadata": {},
   "source": [
    "Question 12- Write a Python program where a string will start with a specific number. "
   ]
  },
  {
   "cell_type": "code",
   "execution_count": 14,
   "id": "e7f796d8",
   "metadata": {},
   "outputs": [
    {
     "name": "stdout",
     "output_type": "stream",
     "text": [
      "Enter a number: 06geetha\n",
      "Enter a string: 06\n",
      "Yup! the string starts with the specified number.\n"
     ]
    }
   ],
   "source": [
    "def starts_with_number(string, number):\n",
    "    if string.startswith(str(number)):\n",
    "        print(\"Yup! the string starts with the specified number.\")\n",
    "    else:\n",
    "        print(\"The string does not start with the specified number.\")\n",
    "\n",
    "# Test the function\n",
    "number = input(\"Enter a number: \")\n",
    "string = input(\"Enter a string: \")\n",
    "starts_with_number(number, string)"
   ]
  },
  {
   "cell_type": "markdown",
   "id": "7e6e937b",
   "metadata": {},
   "source": [
    "Question 13- Write a Python program to remove leading zeros from an IP address"
   ]
  },
  {
   "cell_type": "code",
   "execution_count": 19,
   "id": "178604b0",
   "metadata": {},
   "outputs": [
    {
     "name": "stdout",
     "output_type": "stream",
     "text": [
      "Enter an IP address: 198.34.005.001\n",
      "Cleaned IP address: 198.34.5.1\n"
     ]
    }
   ],
   "source": [
    "def remove_leading_zeros(ip_address):\n",
    "    ind_digits = ip_address.split(\".\")\n",
    "    new_digits = []\n",
    "\n",
    "    for digit in ind_digits:\n",
    "        new_digit = str(int(digit))\n",
    "        new_digits.append(new_digit)\n",
    "\n",
    "    cleaned_ip_address = \".\".join(new_digits)\n",
    "    return cleaned_ip_address\n",
    "\n",
    "# Test the function\n",
    "ip_address = input(\"Enter an IP address: \")\n",
    "cleaned_ip = remove_leading_zeros(ip_address)\n",
    "print(\"Cleaned IP address:\", cleaned_ip)\n"
   ]
  },
  {
   "cell_type": "markdown",
   "id": "c820b7f7",
   "metadata": {},
   "source": [
    "Question 14- Write a regular expression in python to match a date string in the form of Month name followed by day number and year stored in a text file"
   ]
  },
  {
   "cell_type": "code",
   "execution_count": 29,
   "id": "0f5a3825",
   "metadata": {},
   "outputs": [
    {
     "name": "stdout",
     "output_type": "stream",
     "text": [
      "Enter the path to the text file: regexqstn14.txt\n",
      "Matched date from thge text file is : August 15th 1947\n"
     ]
    }
   ],
   "source": [
    "import re\n",
    "\n",
    "def match_date_string(file_path):\n",
    "    pattern = re.compile(r'\\b[A-Za-z]+\\s+\\d{1,2}(st|nd|rd|th)?\\s+\\d{4}\\b')\n",
    "\n",
    "    with open(file_path, 'r') as file:\n",
    "        contents = file.read()\n",
    "        matched_string = re.search(pattern, contents)\n",
    "\n",
    "    return matched_string.group() if matched_string else None\n",
    "\n",
    "# Test the function\n",
    "file_path = input(\"Enter the path to the text file: \")\n",
    "matched_date_string = match_date_string(file_path)\n",
    "if matched_date_string:\n",
    "    print(\"Matched date from thge text file is :\", matched_date_string)\n",
    "else:\n",
    "    print(\"No date string matched the pattern.\")\n"
   ]
  },
  {
   "cell_type": "markdown",
   "id": "15acd3a8",
   "metadata": {},
   "source": [
    "Question 15- Write a Python program to search some literals strings in a string. Go to the editor\n",
    "Sample text : 'The quick brown fox jumps over the lazy dog.'\n",
    "Searched words : 'fox', 'dog', 'horse'\n"
   ]
  },
  {
   "cell_type": "code",
   "execution_count": 30,
   "id": "431c7c78",
   "metadata": {},
   "outputs": [
    {
     "name": "stdout",
     "output_type": "stream",
     "text": [
      "Enter the path to the text file: regexqstn15.txt\n",
      "Enter the words to search (separated by spaces): fox dog horse\n",
      "Found words: ['fox', 'dog']\n"
     ]
    }
   ],
   "source": [
    "def search_words_in_file(file_path):\n",
    "    found_words = []\n",
    "    with open(file_path, 'r') as file:\n",
    "        text = file.read()\n",
    "        searched_words = input(\"Enter the words to search (separated by spaces): \").split()\n",
    "        for word in searched_words:\n",
    "            if word in text:\n",
    "                found_words.append(word)\n",
    "    return found_words\n",
    "\n",
    "# Test the function\n",
    "file_path = input(\"Enter the path to the text file: \")\n",
    "found_words = search_words_in_file(file_path)\n",
    "print(\"Found words:\", found_words)"
   ]
  },
  {
   "cell_type": "markdown",
   "id": "c0199f38",
   "metadata": {},
   "source": [
    "Question 16- Write a Python program to search a literals string in a string and also find the location within the original string where the pattern occurs\n",
    "Sample text : 'The quick brown fox jumps over the lazy dog.'\n",
    "Searched words : 'fox'"
   ]
  },
  {
   "cell_type": "code",
   "execution_count": 31,
   "id": "fc07b8f3",
   "metadata": {},
   "outputs": [
    {
     "name": "stdout",
     "output_type": "stream",
     "text": [
      "Enter the path to the text file: regexqstn16.txt\n",
      "Enter the word to search: fox\n",
      "Occurrences of ' fox ': [16]\n"
     ]
    }
   ],
   "source": [
    "def search_pattern_in_file(file_path, pattern):\n",
    "    occurrences = []\n",
    "    with open(file_path, 'r') as file:\n",
    "        text = file.read()\n",
    "        start = 0\n",
    "        while True:\n",
    "            index = text.find(pattern, start)\n",
    "            if index == -1:\n",
    "                break\n",
    "            occurrences.append(index)\n",
    "            start = index + 1\n",
    "    return occurrences\n",
    "\n",
    "# Test the function\n",
    "file_path = input(\"Enter the path to the text file: \")\n",
    "searched_word = input(\"Enter the word to search: \")\n",
    "locations = search_pattern_in_file(file_path, searched_word)\n",
    "print(\"Occurrences of '\", searched_word, \"':\", locations)"
   ]
  },
  {
   "cell_type": "markdown",
   "id": "e2b40871",
   "metadata": {},
   "source": [
    "Question 17- Write a Python program to find the substrings within a string.\n",
    "Sample text : 'Python exercises, PHP exercises, C# exercises'\n",
    "Pattern : 'exercises'.\n"
   ]
  },
  {
   "cell_type": "code",
   "execution_count": 3,
   "id": "17eb5e4f",
   "metadata": {},
   "outputs": [
    {
     "name": "stdout",
     "output_type": "stream",
     "text": [
      "Enter the text: Python exercises, PHP exercises, C# exercises\n",
      "Enter the pattern to search: exercises\n",
      "Repeated substrings: ['exercises', 'exercises', 'exercises']\n"
     ]
    }
   ],
   "source": [
    "def find_repeated_substrings(text, pattern):\n",
    "    occurrences = []\n",
    "    start = 0\n",
    "    while True:\n",
    "        index = text.find(pattern, start)\n",
    "        if index == -1:\n",
    "            break\n",
    "        occurrences.append(pattern)\n",
    "        start = index + 1\n",
    "    return occurrences\n",
    "\n",
    "# Test the function\n",
    "sample_text = input(\"Enter the text: \")\n",
    "pattern = input(\"Enter the pattern to search: \")\n",
    "found_substrings = find_repeated_substrings(sample_text, pattern)\n",
    "print(\"Repeated substrings:\", found_substrings)"
   ]
  },
  {
   "cell_type": "markdown",
   "id": "407a9c43",
   "metadata": {},
   "source": [
    "Question 18- Write a Python program to find the occurrence and position of the substrings within a string."
   ]
  },
  {
   "cell_type": "code",
   "execution_count": 4,
   "id": "c2a9414c",
   "metadata": {},
   "outputs": [
    {
     "name": "stdout",
     "output_type": "stream",
     "text": [
      "Enter the text: Python exercises, PHP exercises, C# exercises\n",
      "Enter the pattern to search: exercises\n",
      "Substring occurrences:\n",
      "Substring: 'exercises', Position: 7\n",
      "Substring: 'exercises', Position: 22\n",
      "Substring: 'exercises', Position: 36\n"
     ]
    }
   ],
   "source": [
    "def find_substring_occurrences(text, pattern):\n",
    "    occurrences = []\n",
    "    start = 0\n",
    "    while True:\n",
    "        index = text.find(pattern, start)\n",
    "        if index == -1:\n",
    "            break\n",
    "        occurrences.append((pattern, index))\n",
    "        start = index + 1\n",
    "    return occurrences\n",
    "\n",
    "# Test the function\n",
    "sample_text = input(\"Enter the text: \")\n",
    "pattern = input(\"Enter the pattern to search: \")\n",
    "substring_occurrences = find_substring_occurrences(sample_text, pattern)\n",
    "print(\"Substring occurrences:\")\n",
    "for substring, position in substring_occurrences:\n",
    "    print(f\"Substring: '{substring}', Position: {position}\")"
   ]
  },
  {
   "cell_type": "markdown",
   "id": "0d20ae13",
   "metadata": {},
   "source": [
    "Question 19- Write a Python program to convert a date of yyyy-mm-dd format to dd-mm-yyyy format."
   ]
  },
  {
   "cell_type": "code",
   "execution_count": 6,
   "id": "e030cd65",
   "metadata": {},
   "outputs": [
    {
     "name": "stdout",
     "output_type": "stream",
     "text": [
      "Enter a date in yyyy-mm-dd format: 2000-02-06\n",
      "Conversion of date in the form of dd-mm-yyyy: 06-02-2000\n"
     ]
    }
   ],
   "source": [
    "def convert_date_format(date):\n",
    "    format = date.split(\"-\")\n",
    "    if len(format) == 3:\n",
    "        year, month, day = format\n",
    "        return f\"{day}-{month}-{year}\"\n",
    "    else:\n",
    "        return None\n",
    "\n",
    "# Test the function\n",
    "text = input(\"Enter a date in yyyy-mm-dd format: \")\n",
    "converted_date = convert_date_format(text)\n",
    "if converted_date:\n",
    "    print(\"Conversion of date in the form of dd-mm-yyyy:\", converted_date)\n",
    "else:\n",
    "    print(\"Invalid date format. Please enter a date in the yyyy-mm-dd format.\")"
   ]
  },
  {
   "cell_type": "markdown",
   "id": "bd8bfd67",
   "metadata": {},
   "source": [
    "Question 20- Write a Python program to find all words starting with 'a' or 'e' in a given string."
   ]
  },
  {
   "cell_type": "code",
   "execution_count": 10,
   "id": "6c2bc46a",
   "metadata": {},
   "outputs": [
    {
     "name": "stdout",
     "output_type": "stream",
     "text": [
      "Enter a string: Asia is the largest continent in the world. Elephant is the fattest animal.\n",
      "Words starting with 'a' or 'e' are: ['Asia', 'Elephant', 'animal']\n"
     ]
    }
   ],
   "source": [
    "import re\n",
    "def find_pattern(text):\n",
    "    pattern = r'\\b[aeAE]\\w+\\b'\n",
    "    matches = re.findall(pattern, text)\n",
    "    return matches\n",
    "\n",
    "# Test the function\n",
    "sample_text = input(\"Enter a string: \")\n",
    "result = find_pattern(sample_text)\n",
    "print(\"Words starting with 'a' or 'e' are:\", result)\n"
   ]
  },
  {
   "cell_type": "markdown",
   "id": "0dad4187",
   "metadata": {},
   "source": [
    "Question 21- Write a Python program to separate and print the numbers and their position of a given string."
   ]
  },
  {
   "cell_type": "code",
   "execution_count": 11,
   "id": "4256b18e",
   "metadata": {},
   "outputs": [
    {
     "name": "stdout",
     "output_type": "stream",
     "text": [
      "Enter a string: I was born on 6th February, 2000.\n",
      "Number: 6 | Position: 14\n",
      "Number: 2000 | Position: 28\n"
     ]
    }
   ],
   "source": [
    "import re\n",
    "\n",
    "def find_pattern(text):\n",
    "    pattern = r'\\d+'\n",
    "    matches = re.finditer(pattern, text)\n",
    "    for match in matches:\n",
    "        number = match.group()\n",
    "        position = match.start()\n",
    "        print(\"Number:\", number, \"| Position:\", position)\n",
    "\n",
    "# Test the function\n",
    "sample_text = input(\"Enter a string: \")\n",
    "find_pattern(sample_text)"
   ]
  },
  {
   "cell_type": "markdown",
   "id": "895002d7",
   "metadata": {},
   "source": [
    "Question 22- Write a regular expression in python program to extract maximum numeric value from a string"
   ]
  },
  {
   "cell_type": "code",
   "execution_count": 14,
   "id": "958e978d",
   "metadata": {},
   "outputs": [
    {
     "name": "stdout",
     "output_type": "stream",
     "text": [
      "Enter a string: 6002, 0602, 22, 06, 2000\n",
      "Maximum numeric value from a string is: 6002\n"
     ]
    }
   ],
   "source": [
    "import re\n",
    "\n",
    "def max_num(text):\n",
    "    pattern = r'\\d+'\n",
    "    numbers = re.findall(pattern, text)\n",
    "    if numbers:\n",
    "        max_number = max(numbers, key=int)\n",
    "        return max_number\n",
    "    else:\n",
    "        return None\n",
    "\n",
    "# Test the function\n",
    "sample_text = input(\"Enter a string: \")\n",
    "max_num_value = max_num(sample_text)\n",
    "if max_num_value:\n",
    "    print(\"Maximum numeric value from a string is:\", max_num_value)\n",
    "else:\n",
    "    print(\"No numeric values found in the string.\")\n"
   ]
  },
  {
   "cell_type": "markdown",
   "id": "a48549d8",
   "metadata": {},
   "source": [
    "Question 23- Write a Regex in Python to put spaces between words starting with capital letters"
   ]
  },
  {
   "cell_type": "code",
   "execution_count": 4,
   "id": "5b604df1",
   "metadata": {},
   "outputs": [
    {
     "name": "stdout",
     "output_type": "stream",
     "text": [
      "Enter a string: MyNameIsTGeethaSri.\n",
      "Modified text:  My Name Is T Geetha Sri.\n"
     ]
    }
   ],
   "source": [
    "import re\n",
    "def add_spaces(text):\n",
    "    pattern = r'(?<!\\s)(?=[A-Z])'\n",
    "    modified_text = re.sub(pattern, ' ', text)\n",
    "    return modified_text\n",
    "\n",
    "# Test the function\n",
    "sample_text = input(\"Enter a string: \")\n",
    "updated_text = add_spaces(sample_text)\n",
    "print(\"Modified text:\", updated_text)"
   ]
  },
  {
   "cell_type": "markdown",
   "id": "771d43fc",
   "metadata": {},
   "source": [
    "Question 24- Python regex to find sequences of one upper case letter followed by lower case letters"
   ]
  },
  {
   "cell_type": "code",
   "execution_count": 6,
   "id": "90524a29",
   "metadata": {},
   "outputs": [
    {
     "name": "stdout",
     "output_type": "stream",
     "text": [
      "Enter a string: My name is Tadisina Geetha Sri\n",
      "Sequences of one uppercase letter followed by lowercase letters is: ['My', 'Tadisina', 'Geetha', 'Sri']\n"
     ]
    }
   ],
   "source": [
    "import re\n",
    "\n",
    "def find_sequence(text):\n",
    "    pattern = r'[A-Z][a-z]+'\n",
    "    matches = re.findall(pattern, text)\n",
    "    return matches\n",
    "\n",
    "# Test the function\n",
    "sample_text = input(\"Enter a string: \")\n",
    "sequences = find_sequence(sample_text)\n",
    "print(\"Sequences of one uppercase letter followed by lowercase letters is:\", sequences)"
   ]
  },
  {
   "cell_type": "markdown",
   "id": "eb799196",
   "metadata": {},
   "source": [
    "Question 25- Write a Python program to remove duplicate words from Sentence using Regular Expression"
   ]
  },
  {
   "cell_type": "code",
   "execution_count": 10,
   "id": "408f79e2",
   "metadata": {},
   "outputs": [
    {
     "name": "stdout",
     "output_type": "stream",
     "text": [
      "Enter a sentence: This is Geetha Geetha Sri\n",
      "Modified sentence: This is  Geetha Sri\n"
     ]
    }
   ],
   "source": [
    "def remove_duplicates(sentence):\n",
    "    pattern = r'\\b(\\w+)\\b(?=.*\\b\\1\\b)'\n",
    "    modified_sentence = re.sub(pattern, '', sentence)\n",
    "    return modified_sentence.strip()\n",
    "\n",
    "# Test the function\n",
    "sample_text = input(\"Enter a sentence: \")\n",
    "modified_sentence = remove_duplicates(sample_text)\n",
    "print(\"Modified sentence:\", modified_sentence)"
   ]
  },
  {
   "cell_type": "markdown",
   "id": "d6f5a774",
   "metadata": {},
   "source": [
    "Question 26-  Write a python program using RegEx to accept string ending with alphanumeric character."
   ]
  },
  {
   "cell_type": "code",
   "execution_count": 12,
   "id": "f6a8241c",
   "metadata": {},
   "outputs": [
    {
     "name": "stdout",
     "output_type": "stream",
     "text": [
      "Enter a string: The string is Hello@456\n",
      "String ends with an alphanumeric character.\n"
     ]
    }
   ],
   "source": [
    "def alphanumeric(text):\n",
    "    pattern = r'^.*[a-zA-Z0-9]$'\n",
    "    is_match = re.match(pattern, text)\n",
    "    return bool(is_match)\n",
    "\n",
    "# Test the function\n",
    "sample_text = input(\"Enter a string: \")\n",
    "if alphanumeric(sample_text):\n",
    "    print(\"String ends with an alphanumeric character.\")\n",
    "else:\n",
    "    print(\"String does not end with an alphanumeric character.\")"
   ]
  },
  {
   "cell_type": "markdown",
   "id": "e8bb3e5a",
   "metadata": {},
   "source": [
    "Question 27-Write a python program using RegEx to extract the hashtags."
   ]
  },
  {
   "cell_type": "code",
   "execution_count": 13,
   "id": "ec276b96",
   "metadata": {},
   "outputs": [
    {
     "name": "stdout",
     "output_type": "stream",
     "text": [
      "Enter a string: Following are my instagram hashtags #geetha, #gritu, #peach, #diamond\n",
      "Extracted hashtags: ['#geetha', '#gritu', '#peach', '#diamond']\n"
     ]
    }
   ],
   "source": [
    "def extract_hashtags(text):\n",
    "    pattern = r'#\\w+'\n",
    "    hashtags = re.findall(pattern, text)\n",
    "    return hashtags\n",
    "\n",
    "# Test the function\n",
    "sample_text = input(\"Enter a string: \")\n",
    "hashtags = extract_hashtags(sample_text)\n",
    "print(\"Extracted hashtags:\", hashtags)"
   ]
  },
  {
   "cell_type": "markdown",
   "id": "9568072d",
   "metadata": {},
   "source": [
    "Question 28- Write a python program using RegEx to remove <U+..> like symbols\n",
    "Check the below sample text, there are strange symbols something of the sort <U+..> all over the place. You need to come up with a general Regex expression that will cover all such symbols.\n",
    "Sample Text: \"@Jags123456 Bharat band on 28??<ed><U+00A0><U+00BD><ed><U+00B8><U+0082>Those who  are protesting #demonetization  are all different party leaders\"\n",
    "Output: @Jags123456 Bharat band on 28??<ed><ed>Those who  are protesting #demonetization  are all different party leaders\n"
   ]
  },
  {
   "cell_type": "code",
   "execution_count": 15,
   "id": "b8d87c08",
   "metadata": {},
   "outputs": [
    {
     "name": "stdout",
     "output_type": "stream",
     "text": [
      "Modified text: @Jags123456 Bharat band on 28??<ed><ed>Those who  are protesting #demonetization  are all different party leaders\n"
     ]
    }
   ],
   "source": [
    "def remove_U_plus_symbols(text):\n",
    "    pattern = r'<U\\+[A-F0-9]+>'\n",
    "    modified_text = re.sub(pattern, '', text)\n",
    "    return modified_text\n",
    "\n",
    "# Test the function\n",
    "sample_text = \"@Jags123456 Bharat band on 28??<ed><U+00A0><U+00BD><ed><U+00B8><U+0082>Those who  are protesting #demonetization  are all different party leaders\"\n",
    "modified_text = remove_U_plus_symbols(sample_text)\n",
    "print(\"Modified text:\", modified_text)"
   ]
  },
  {
   "cell_type": "markdown",
   "id": "9c479dab",
   "metadata": {},
   "source": [
    "Question 29- Write a python program to extract dates from the text stored in the text file.\n",
    "Sample Text: Ron was born on 12-09-1992 and he was admitted to school 15-12-1999.\n",
    "Store this sample text in the file and then extract dates.\n"
   ]
  },
  {
   "cell_type": "code",
   "execution_count": 16,
   "id": "c06b5ece",
   "metadata": {},
   "outputs": [
    {
     "name": "stdout",
     "output_type": "stream",
     "text": [
      "Enter the path to the text file: regexqstn29.txt\n",
      "Extracted dates: ['12-09-1992', '15-12-1999']\n"
     ]
    }
   ],
   "source": [
    "def extract_dates_from_text(file_path):\n",
    "    pattern = r'\\b\\d{2}-\\d{2}-\\d{4}\\b'\n",
    "    dates = []\n",
    "\n",
    "    with open(file_path, 'r') as file:\n",
    "        contents = file.read()\n",
    "        dates = re.findall(pattern, contents)\n",
    "\n",
    "    return dates\n",
    "\n",
    "# Test the function\n",
    "file_path = input(\"Enter the path to the text file: \")\n",
    "extracted_dates = extract_dates_from_text(file_path)\n",
    "print(\"Extracted dates:\", extracted_dates)"
   ]
  },
  {
   "cell_type": "markdown",
   "id": "885b1b07",
   "metadata": {},
   "source": [
    "Question 30- Write a Python program to replace all occurrences of a space, comma, or dot with a colon.\n",
    "Sample Text- 'Python Exercises, PHP exercises.'\n",
    "Output: Python:Exercises::PHP:exercises:"
   ]
  },
  {
   "cell_type": "code",
   "execution_count": 19,
   "id": "e7c6457a",
   "metadata": {},
   "outputs": [
    {
     "name": "stdout",
     "output_type": "stream",
     "text": [
      "Enter the path to the text file: regexqstn30.txt\n",
      "Modified text: Python:Exercises::PHP:exercises:\n"
     ]
    }
   ],
   "source": [
    "def replace_space_comma_dot_with_colon(file_path):\n",
    "    with open(file_path, 'r') as file:\n",
    "        sample_text = file.read()\n",
    "        modified_text = sample_text.replace(' ', ':').replace(',', ':').replace('.', ':')\n",
    "    return modified_text\n",
    "\n",
    "# Test the function\n",
    "file_path = input(\"Enter the path to the text file: \")\n",
    "modified_text = replace_space_comma_dot_with_colon(file_path)\n",
    "print(\"Modified text:\", modified_text)"
   ]
  }
 ],
 "metadata": {
  "kernelspec": {
   "display_name": "Python 3 (ipykernel)",
   "language": "python",
   "name": "python3"
  },
  "language_info": {
   "codemirror_mode": {
    "name": "ipython",
    "version": 3
   },
   "file_extension": ".py",
   "mimetype": "text/x-python",
   "name": "python",
   "nbconvert_exporter": "python",
   "pygments_lexer": "ipython3",
   "version": "3.9.13"
  }
 },
 "nbformat": 4,
 "nbformat_minor": 5
}
